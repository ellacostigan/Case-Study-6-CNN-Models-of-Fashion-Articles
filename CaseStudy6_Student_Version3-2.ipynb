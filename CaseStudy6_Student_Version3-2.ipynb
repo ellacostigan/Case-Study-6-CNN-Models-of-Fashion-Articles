{
 "cells": [
  {
   "cell_type": "markdown",
   "metadata": {
    "id": "yxekbXbnD8et"
   },
   "source": [
    "#**Module 7: Convolutional Neural Networks for Image Recognition**\n",
    "\n",
    "### **Prepared by: Dr. Hum Nath Bhandari, Department of Mathematics, RWU**\n",
    "\n",
    "### **Course**: MATH 355/COMSC 415-Machine Learning \n",
    "\n",
    "###  **Case Study6** :  **Building CNN  Model for Fashion Article Recognition**\n",
    "\n",
    "### Name: Ella Costigan\n",
    "\n",
    "\n",
    "\n"
   ]
  },
  {
   "cell_type": "markdown",
   "metadata": {
    "id": "KCDnEzpdKFVA"
   },
   "source": [
    "\n",
    "\n",
    "## **Overview** \n",
    "In this case study, we build and implement CNN models for recognizing Fashion Articles. CNN is a Neural Network with convolution layer added which works well on recognizing images or video sequences represented by pixels. \n",
    "\n",
    "\n",
    "### **Computer Vision and Image Classification**\n",
    "\n",
    "- **Computer Vision:** Computer vision is a field of artificial intelligence that enables computers to extract and understand information from images and videos. The goal of it is to give computers functionality similar to or better than human vision.\n",
    "\n",
    "- **Image Recognition/Classification Problem:** One of the computer vision problems is image recognition or classification problems. Image recognition is a technology that uses AI to identify and distinguish images by learning patterns.\n",
    "\n",
    "- **Applications of Image recognition/classification:** Image recognition/classification technology is applied in various fields such as object recognition, face recognition, and character recognition. Specifically, it is applied to automatic driving, tumor detection, and image processing for crime prevention.\n",
    "\n",
    "### **CNN Architecture** \n",
    "\n",
    "- CNN consists of a series of layers such as convolutional layers, pooling layers, and fully connected layers. \n",
    "\n",
    "- The convolutional layer finds what kinds of features the input image has such as curves and angles.\n",
    "\n",
    "- By moving a filter (kernel) over the input image and computing the value through an activation function, a feature map is generated. \n",
    "\n",
    "- Filters can be more than one to extract different features. \n",
    "\n",
    "- The pooling layer is located immediately after the convolutional layers and also extracts the input’s features. \n",
    "\n",
    "- Max pooling and average pooling are often used. \n",
    "\n",
    "- Pooling is used to reduce the resolution of a feature map and the advantage of this is that it reduces the amount of data without losing too much information.  It prevents the extracted features from being affected by environmental changes such as position and size on the image. \n",
    "- The fully connected layer is used for the final classification after iteration of the above layers and from the obtained feature parameters. Since the output of the convolution layer or pooling layer is usually in three dimensions, it is switched into output in a single dimension. Then like a normal neural network, the input is classified by using weights and bias.\n",
    "\n"
   ]
  },
  {
   "cell_type": "markdown",
   "metadata": {
    "id": "n38oEt8OMWxI"
   },
   "source": [
    "## **Data: Fashion MNIST**\n",
    "\n",
    "- Dataset consists of 10 different types of product images and labels\n",
    "- Images are 28x28 pixel grayscale\n",
    "- Data source: Fashion-MNIST dataset from the Keras library\n",
    "- Training data size: 60,000 images and 60,000 labels\n",
    "- Test data size: 10,000 images and 10,000 labels\n",
    "\n",
    "\n",
    "labels = {\n",
    "\n",
    "  0: 'T-shirt',\n",
    "   \n",
    "  1: 'Trouser',\n",
    "\n",
    "  2: 'Pullover',\n",
    "\n",
    "  3: 'Dress',\n",
    "  \n",
    "  4: 'Coat',\n",
    "  \n",
    "  5: 'Sandal',\n",
    "  \n",
    "  6: 'Shirt',\n",
    "  \n",
    "  7: 'Sneaker',\n",
    "  \n",
    "  8: 'Bag',\n",
    "\n",
    "  9: 'AnkleBoot',\n",
    "}"
   ]
  },
  {
   "cell_type": "markdown",
   "metadata": {
    "id": "_UMOtAOBCGNz"
   },
   "source": [
    "## **Step 1: Mount Google Drive and Provide Path**"
   ]
  },
  {
   "cell_type": "code",
   "execution_count": null,
   "metadata": {
    "colab": {
     "base_uri": "https://localhost:8080/"
    },
    "id": "Y9G8qjhiVyD5",
    "outputId": "7768ec5c-705d-4208-d424-c70fd1e4dfdb"
   },
   "outputs": [
    {
     "name": "stdout",
     "output_type": "stream",
     "text": [
      "Mounted at /content/drive\n"
     ]
    }
   ],
   "source": [
    "from google.colab import drive\n",
    "drive.mount('/content/drive')"
   ]
  },
  {
   "cell_type": "code",
   "execution_count": null,
   "metadata": {
    "id": "iC8EtVHbDxHv"
   },
   "outputs": [],
   "source": [
    "data_path = \"/content/drive/MyDrive/MMachine_Learning/Module7/Data/\" # make similar to this path\n",
    "\n",
    "output_dir_path = \"/content/drive/MyDrive/Machine_Learning/Module7/Results/\" #make similar to this path "
   ]
  },
  {
   "cell_type": "code",
   "execution_count": null,
   "metadata": {
    "id": "CpcNcOXcMzR0"
   },
   "outputs": [],
   "source": [
    "import warnings\n",
    "warnings.filterwarnings(\"ignore\")"
   ]
  },
  {
   "cell_type": "markdown",
   "metadata": {
    "id": "f8zxSf4NHBSG"
   },
   "source": [
    "## **Step 2: Import Necessary Libraries**"
   ]
  },
  {
   "cell_type": "code",
   "execution_count": null,
   "metadata": {
    "id": "slPMPpmeHNl4"
   },
   "outputs": [],
   "source": [
    "import tensorflow as tf\n",
    "from keras.models import Sequential\n",
    "from keras.utils import np_utils\n",
    "from keras.layers import Dense, MaxPool2D, Conv2D\n",
    "from keras.layers import Flatten\n",
    "from keras.initializers import Constant\n",
    "from tensorflow.keras import optimizers\n",
    "from sklearn import metrics"
   ]
  },
  {
   "cell_type": "markdown",
   "metadata": {
    "id": "-VjaEwv7jYDc"
   },
   "source": [
    "## **Step 3: Load and Explore Data**"
   ]
  },
  {
   "cell_type": "code",
   "execution_count": null,
   "metadata": {
    "id": "RIg0eocgvw51"
   },
   "outputs": [],
   "source": [
    "from keras.datasets import fashion_mnist\n",
    "\n",
    "(X_train, y_train), (X_test, y_test) = fashion_mnist.load_data()\n"
   ]
  },
  {
   "cell_type": "code",
   "execution_count": null,
   "metadata": {
    "colab": {
     "base_uri": "https://localhost:8080/"
    },
    "id": "M9pasVmANsn_",
    "outputId": "c7fe3ef2-3989-4951-f8d0-61129ed15030"
   },
   "outputs": [
    {
     "name": "stdout",
     "output_type": "stream",
     "text": [
      "X train shape: (60000, 28, 28) y_train shape: (60000,)\n",
      "X test shape: (10000, 28, 28) Y test shape: (10000,)\n"
     ]
    }
   ],
   "source": [
    "#X: array of grayscale image data\n",
    "#Y: array of labels (int in range 0-9)\n",
    "print(\"X train shape:\", X_train.shape, \"y_train shape:\", y_train.shape)\n",
    "print(\"X test shape:\", X_test.shape, \"Y test shape:\", y_test.shape)"
   ]
  },
  {
   "cell_type": "code",
   "execution_count": null,
   "metadata": {
    "colab": {
     "base_uri": "https://localhost:8080/"
    },
    "id": "xrAhxbOlNAz8",
    "outputId": "a2304d72-220f-47c8-ddda-19dd74df5139"
   },
   "outputs": [
    {
     "name": "stdout",
     "output_type": "stream",
     "text": [
      "[[  0   0   0   0   0   0   0   0   0   0   0   0   0   0   0   0   0   0\n",
      "    0   0   0   0   0   0   0   0   0   0]\n",
      " [  0   0   0   0   0   0   0   0   0   0   0   0   0   0   0   0   0   0\n",
      "    0   0   0   0   0   0   0   0   0   0]\n",
      " [  0   0   0   0   0   0   0   0   0   0   0   0   0   0   0   0   0   0\n",
      "    0   0   0   0   0   0   0   0   0   0]\n",
      " [  0   0   0   0   0   0   0   0   0   0   0   0   1   0   0  13  73   0\n",
      "    0   1   4   0   0   0   0   1   1   0]\n",
      " [  0   0   0   0   0   0   0   0   0   0   0   0   3   0  36 136 127  62\n",
      "   54   0   0   0   1   3   4   0   0   3]\n",
      " [  0   0   0   0   0   0   0   0   0   0   0   0   6   0 102 204 176 134\n",
      "  144 123  23   0   0   0   0  12  10   0]\n",
      " [  0   0   0   0   0   0   0   0   0   0   0   0   0   0 155 236 207 178\n",
      "  107 156 161 109  64  23  77 130  72  15]\n",
      " [  0   0   0   0   0   0   0   0   0   0   0   1   0  69 207 223 218 216\n",
      "  216 163 127 121 122 146 141  88 172  66]\n",
      " [  0   0   0   0   0   0   0   0   0   1   1   1   0 200 232 232 233 229\n",
      "  223 223 215 213 164 127 123 196 229   0]\n",
      " [  0   0   0   0   0   0   0   0   0   0   0   0   0 183 225 216 223 228\n",
      "  235 227 224 222 224 221 223 245 173   0]\n",
      " [  0   0   0   0   0   0   0   0   0   0   0   0   0 193 228 218 213 198\n",
      "  180 212 210 211 213 223 220 243 202   0]\n",
      " [  0   0   0   0   0   0   0   0   0   1   3   0  12 219 220 212 218 192\n",
      "  169 227 208 218 224 212 226 197 209  52]\n",
      " [  0   0   0   0   0   0   0   0   0   0   6   0  99 244 222 220 218 203\n",
      "  198 221 215 213 222 220 245 119 167  56]\n",
      " [  0   0   0   0   0   0   0   0   0   4   0   0  55 236 228 230 228 240\n",
      "  232 213 218 223 234 217 217 209  92   0]\n",
      " [  0   0   1   4   6   7   2   0   0   0   0   0 237 226 217 223 222 219\n",
      "  222 221 216 223 229 215 218 255  77   0]\n",
      " [  0   3   0   0   0   0   0   0   0  62 145 204 228 207 213 221 218 208\n",
      "  211 218 224 223 219 215 224 244 159   0]\n",
      " [  0   0   0   0  18  44  82 107 189 228 220 222 217 226 200 205 211 230\n",
      "  224 234 176 188 250 248 233 238 215   0]\n",
      " [  0  57 187 208 224 221 224 208 204 214 208 209 200 159 245 193 206 223\n",
      "  255 255 221 234 221 211 220 232 246   0]\n",
      " [  3 202 228 224 221 211 211 214 205 205 205 220 240  80 150 255 229 221\n",
      "  188 154 191 210 204 209 222 228 225   0]\n",
      " [ 98 233 198 210 222 229 229 234 249 220 194 215 217 241  65  73 106 117\n",
      "  168 219 221 215 217 223 223 224 229  29]\n",
      " [ 75 204 212 204 193 205 211 225 216 185 197 206 198 213 240 195 227 245\n",
      "  239 223 218 212 209 222 220 221 230  67]\n",
      " [ 48 203 183 194 213 197 185 190 194 192 202 214 219 221 220 236 225 216\n",
      "  199 206 186 181 177 172 181 205 206 115]\n",
      " [  0 122 219 193 179 171 183 196 204 210 213 207 211 210 200 196 194 191\n",
      "  195 191 198 192 176 156 167 177 210  92]\n",
      " [  0   0  74 189 212 191 175 172 175 181 185 188 189 188 193 198 204 209\n",
      "  210 210 211 188 188 194 192 216 170   0]\n",
      " [  2   0   0   0  66 200 222 237 239 242 246 243 244 221 220 193 191 179\n",
      "  182 182 181 176 166 168  99  58   0   0]\n",
      " [  0   0   0   0   0   0   0  40  61  44  72  41  35   0   0   0   0   0\n",
      "    0   0   0   0   0   0   0   0   0   0]\n",
      " [  0   0   0   0   0   0   0   0   0   0   0   0   0   0   0   0   0   0\n",
      "    0   0   0   0   0   0   0   0   0   0]\n",
      " [  0   0   0   0   0   0   0   0   0   0   0   0   0   0   0   0   0   0\n",
      "    0   0   0   0   0   0   0   0   0   0]]\n"
     ]
    }
   ],
   "source": [
    "print(X_train[0])"
   ]
  },
  {
   "cell_type": "code",
   "execution_count": null,
   "metadata": {
    "colab": {
     "base_uri": "https://localhost:8080/",
     "height": 265
    },
    "id": "e3BxN1NKNTC_",
    "outputId": "7f339541-6ad6-4b72-da3e-b258ac9ce266"
   },
   "outputs": [
    {
     "data": {
      "image/png": "[encoded data removed]",
      "text/plain": [
       "<Figure size 432x288 with 1 Axes>"
      ]
     },
     "metadata": {
      "needs_background": "light"
     },
     "output_type": "display_data"
    }
   ],
   "source": [
    "import matplotlib.pyplot as plt\n",
    "\n",
    "plt.imshow(X_train[0])\n",
    "plt.show()"
   ]
  },
  {
   "cell_type": "code",
   "execution_count": null,
   "metadata": {
    "colab": {
     "base_uri": "https://localhost:8080/",
     "height": 265
    },
    "id": "TO07awo8Nbgj",
    "outputId": "501f5f12-7a52-4ea7-95d7-c9f7ffa41e35"
   },
   "outputs": [
    {
     "data": {
      "image/png": "[encoded data removed]",
      "text/plain": [
       "<Figure size 432x288 with 1 Axes>"
      ]
     },
     "metadata": {
      "needs_background": "light"
     },
     "output_type": "display_data"
    }
   ],
   "source": [
    "plt.imshow(X_train[0], cmap = 'gray')\n",
    "plt.show()"
   ]
  },
  {
   "cell_type": "code",
   "execution_count": null,
   "metadata": {
    "id": "HEnov5AINeYh"
   },
   "outputs": [],
   "source": [
    "labels = {\n",
    "\n",
    "  0: 'T-shirt',\n",
    "   \n",
    "  1: 'Trouser',\n",
    "\n",
    "  2: 'Pullover',\n",
    "\n",
    "  3: 'Dress',\n",
    "  \n",
    "  4: 'Coat',\n",
    "  \n",
    "  5: 'Sandal',\n",
    "  \n",
    "  6: 'Shirt',\n",
    "  \n",
    "  7: 'Sneaker',\n",
    "  \n",
    "  8: 'Bag',\n",
    "  \n",
    "  9: 'AnkleBoot',\n",
    "}"
   ]
  },
  {
   "cell_type": "code",
   "execution_count": null,
   "metadata": {
    "colab": {
     "base_uri": "https://localhost:8080/",
     "height": 279
    },
    "id": "3qFmMj_3Nhot",
    "outputId": "8fb496f6-a8d8-487f-a531-89061bf00990"
   },
   "outputs": [
    {
     "data": {
      "image/png": "[encoded data removed]",
      "text/plain": [
       "<Figure size 432x288 with 1 Axes>"
      ]
     },
     "metadata": {
      "needs_background": "light"
     },
     "output_type": "display_data"
    }
   ],
   "source": [
    "import matplotlib.pyplot as plt\n",
    "plt.imshow(X_train[0], cmap = 'gray')\n",
    "plt.xlabel(labels[y_train[0]])\n",
    "plt.show()"
   ]
  },
  {
   "cell_type": "code",
   "execution_count": null,
   "metadata": {
    "id": "wltBVal7NCfW"
   },
   "outputs": [],
   "source": [
    "# This is just for visualization\n",
    "X_train_plt = X_train.reshape((60000, 784))\n",
    "X_test_plt = X_test.reshape((10000, 784))"
   ]
  },
  {
   "cell_type": "code",
   "execution_count": null,
   "metadata": {
    "id": "nAN0PR0x4ywn"
   },
   "outputs": [],
   "source": [
    "def plot_images(instances, size,  images_per_row = 10, **options):\n",
    "\n",
    "    images_per_row = min(len(instances), images_per_row)\n",
    "    # This is equivalent to n_rows = ceil(len(instances) / images_per_row):\n",
    "    n_rows = (len(instances) - 1) // images_per_row + 1\n",
    "\n",
    "    # Append empty images to fill the end of the grid, if needed:\n",
    "    n_empty = n_rows * images_per_row - len(instances)\n",
    "    padded_instances = np.concatenate([instances, np.zeros((n_empty, size * size))], axis=0)\n",
    "\n",
    "    # Reshape the array so it's organized as a grid containing 28×28 images:\n",
    "    image_grid = padded_instances.reshape((n_rows, images_per_row, size, size))\n",
    "\n",
    "    # Combine axes 0 and 2 (vertical image grid axis, and vertical image axis),\n",
    "    # and axes 1 and 3 (horizontal axes). We first need to move the axes that we\n",
    "    # want to combine next to each other, using transpose(), and only then we\n",
    "    # can reshape:\n",
    "    big_image = image_grid.transpose(0, 2, 1, 3).reshape(n_rows * size,\n",
    "                                                         images_per_row * size)\n",
    "    # Now that we have a big image, we just need to show it:\n",
    "    plt.imshow(big_image, cmap='gray', **options)\n",
    "    plt.axis(\"off\")"
   ]
  },
  {
   "cell_type": "code",
   "execution_count": null,
   "metadata": {
    "colab": {
     "base_uri": "https://localhost:8080/",
     "height": 567
    },
    "id": "Nsx2Ut6qA-AX",
    "outputId": "f7e7df43-15a8-4ebd-e5a8-b7fdd92e1adc"
   },
   "outputs": [
    {
     "data": {
      "image/png": "[encoded data removed]",
      "text/plain": [
       "<Figure size 864x864 with 1 Axes>"
      ]
     },
     "metadata": {
      "needs_background": "light"
     },
     "output_type": "display_data"
    }
   ],
   "source": [
    "import matplotlib.pyplot as plt\n",
    "import numpy as np \n",
    "\n",
    "size = 28 \n",
    "\n",
    "plt.figure(figsize=(12,12))\n",
    "\n",
    "example_images = X_train_plt[:20]\n",
    "\n",
    "plot_images(example_images, size, images_per_row = 5)\n",
    "\n",
    "plt.show()"
   ]
  },
  {
   "cell_type": "markdown",
   "metadata": {
    "id": "2e1OqaMCPzSO"
   },
   "source": [
    "### **Your Task:**\n",
    "\n",
    " Put actual names of these clothings  either below or above the images"
   ]
  },
  {
   "cell_type": "code",
   "execution_count": null,
   "metadata": {
    "colab": {
     "base_uri": "https://localhost:8080/",
     "height": 707
    },
    "id": "lG8zioH-CQkc",
    "outputId": "65df763b-af07-4c54-8a58-96da4d8fa01e"
   },
   "outputs": [
    {
     "data": {
      "image/png": "[encoded data removed]",
      "text/plain": [
       "<Figure size 540x720 with 25 Axes>"
      ]
     },
     "metadata": {
      "needs_background": "light"
     },
     "output_type": "display_data"
    }
   ],
   "source": [
    "num_row = 5\n",
    "num_col = 5\n",
    "\n",
    "num = num_row*num_col\n",
    "images = X_train[:num]\n",
    "labels = y_train[:num]\n",
    "\n",
    "fig, axes = plt.subplots(num_row, num_col, figsize=(1.5*num_col,2*num_row))\n",
    "for i in range(num_row*num_col):\n",
    "    ax = axes[i//num_col, i%num_col]\n",
    "    ax.imshow(images[i], cmap='gray')\n",
    "    ax.set_title('Label: {}'.format(labels[i]))\n",
    "plt.tight_layout()\n",
    "plt.show()"
   ]
  },
  {
   "cell_type": "code",
   "execution_count": null,
   "metadata": {
    "id": "uled4Z8MT0UP"
   },
   "outputs": [],
   "source": [
    "X_train = X_train / 255\n",
    "X_test =  X_test / 255"
   ]
  },
  {
   "cell_type": "markdown",
   "metadata": {
    "id": "wQl4wuZ3P_Bp"
   },
   "source": [
    "**Remarks**: It is similar to MinMaxScaler():\n",
    "\n",
    " $$x_{scaled} = \\frac{x - x_{min}}{x_{max} - x_{min}}$$ "
   ]
  },
  {
   "cell_type": "markdown",
   "metadata": {
    "id": "ncutrWzXD5mR"
   },
   "source": [
    "### **(d)  Input Preparation**\n",
    "\n",
    "- Need to reshape X_data:  (samples, height, width,depth)"
   ]
  },
  {
   "cell_type": "code",
   "execution_count": null,
   "metadata": {
    "id": "CH2rjcdYD-W3"
   },
   "outputs": [],
   "source": [
    "#transform the dataset into four dimensions: the number of samples, height, width, and depth in \"channels_last\" format\n",
    "X_train = X_train.reshape(X_train.shape[0], 28, 28, 1)\n",
    "X_test = X_test.reshape(X_test.shape[0], 28, 28, 1)"
   ]
  },
  {
   "cell_type": "code",
   "execution_count": null,
   "metadata": {
    "colab": {
     "base_uri": "https://localhost:8080/"
    },
    "id": "KPYa4ruhQJG9",
    "outputId": "2f9b9f39-0b0f-4f9b-bdab-319b6181ff92"
   },
   "outputs": [
    {
     "name": "stdout",
     "output_type": "stream",
     "text": [
      "(60000, 28, 28, 1)\n",
      "(10000, 28, 28, 1)\n"
     ]
    }
   ],
   "source": [
    "print(X_train.shape)\n",
    "print(X_test.shape)"
   ]
  },
  {
   "cell_type": "markdown",
   "metadata": {
    "id": "tYOg2oc6Gqck"
   },
   "source": [
    "- Need to reshape y_data into categorical matrix based on number of classes\n",
    "\n",
    "#### **One-hot Encoding** for categorical target variable"
   ]
  },
  {
   "cell_type": "code",
   "execution_count": null,
   "metadata": {
    "id": "d5dPRV2ID_8n"
   },
   "outputs": [],
   "source": [
    "from keras.utils import to_categorical\n",
    "\n",
    "#Convert one-dimensional class arrays (output) into 10-dimensional class matrices:\n",
    "y_train = to_categorical(y_train, 10)\n",
    "y_test =  to_categorical(y_test, 10)\n",
    "#to_categorical: Converts a class vector (integers) to binary class matrix.\n",
    "\n"
   ]
  },
  {
   "cell_type": "code",
   "execution_count": null,
   "metadata": {
    "colab": {
     "base_uri": "https://localhost:8080/"
    },
    "id": "H7mdiXxzQWKy",
    "outputId": "6719fbde-ce96-40ed-bf08-6884a79f741a"
   },
   "outputs": [
    {
     "name": "stdout",
     "output_type": "stream",
     "text": [
      "(60000, 10)\n",
      "(10000, 10)\n"
     ]
    }
   ],
   "source": [
    "print(y_train.shape)\n",
    "print(y_test.shape)\n"
   ]
  },
  {
   "cell_type": "code",
   "execution_count": null,
   "metadata": {
    "colab": {
     "base_uri": "https://localhost:8080/"
    },
    "id": "mHNCfBynSobO",
    "outputId": "d8cf1282-79f7-493d-f1cd-621660ea332f"
   },
   "outputs": [
    {
     "name": "stdout",
     "output_type": "stream",
     "text": [
      "[[0. 0. 0. ... 0. 0. 1.]\n",
      " [1. 0. 0. ... 0. 0. 0.]\n",
      " [1. 0. 0. ... 0. 0. 0.]\n",
      " ...\n",
      " [0. 0. 0. ... 0. 0. 0.]\n",
      " [1. 0. 0. ... 0. 0. 0.]\n",
      " [0. 0. 0. ... 0. 0. 0.]]\n"
     ]
    }
   ],
   "source": [
    "print(y_train)"
   ]
  },
  {
   "cell_type": "markdown",
   "metadata": {
    "id": "6elk1hqTBlWM"
   },
   "source": [
    "##**Step 4:  Implement 2D CNN Models**\n",
    "\n"
   ]
  },
  {
   "cell_type": "markdown",
   "metadata": {
    "id": "xA-IU0icQgtX"
   },
   "source": [
    "### **Some Supporting Functions**"
   ]
  },
  {
   "cell_type": "code",
   "execution_count": null,
   "metadata": {
    "id": "cxTGBf-yQign"
   },
   "outputs": [],
   "source": [
    "def write_dic_to_file(dic_name, file_name):\n",
    "  file = open(file_name, 'w')\n",
    "  file.write(str(dic_name))\n",
    "  file.close()\n",
    "\n",
    "import ast\n",
    "def read_dic_from_file(file_name):\n",
    "  file = open(file_name, \"r\")\n",
    "  contents = file.read()\n",
    "  dictionary = ast.literal_eval(contents)\n",
    "  file.close()\n",
    "  return dictionary\n",
    "\n",
    "\n",
    "\n",
    "def create_error_plot(model_history):\n",
    "  loss =  model_history.history['loss']\n",
    "  val_loss = model_history.history['val_loss']\n",
    "  accuracy = model_history.history['accuracy']\n",
    "  val_acc = model_history.history['val_accuracy']\n",
    "\n",
    "  #epochs = np.arange(len(loss))\n",
    "\n",
    "  epochs = model_history.epoch\n",
    "  fig = plt.figure(figsize = (12,5))\n",
    "\n",
    "  plt.subplot(121)\n",
    "  plt.plot(epochs, loss, color = 'red', marker = \"s\")\n",
    "  plt.plot(epochs, val_loss, marker = \"^\")\n",
    "  plt.legend([\"loss\", \"validation loss\"], loc=\"best\")\n",
    "  plt.xlabel(\"epoch\")\n",
    "  plt.ylabel(\"loss\")\n",
    "  plt.title(\"Training and Validation Loss\")\n",
    "\n",
    "  plt.subplot(122)\n",
    "  plt.plot(epochs, accuracy, color = 'red', marker = \"o\")\n",
    "  plt.plot(epochs, val_acc, marker = \"v\")\n",
    "  plt.legend([\"accuracy\", \"validation accuracy\"], loc=\"best\")\n",
    "  plt.xlabel(\"epoch\")\n",
    "  plt.ylabel(\"accuracy\")\n",
    "  plt.title(\"Training and Validation Accuracy Scores\")\n",
    "  fig.savefig(output_dir_path + \"error_plot.png\", dpi = 600)\n",
    "  plt.show()\n"
   ]
  },
  {
   "cell_type": "markdown",
   "metadata": {
    "id": "ymq19Iqst3sv"
   },
   "source": [
    "#### **Build CNN Model**\n",
    "\n",
    "Construct MultiLayer CNN model in TensorFlow/Keras"
   ]
  },
  {
   "cell_type": "code",
   "execution_count": null,
   "metadata": {
    "id": "glLtNMFCE36Q"
   },
   "outputs": [],
   "source": [
    "def Build_CNN_Model(conv_layers, dense_layers, kernel_size = (2, 2),  input_shape = (28, 28, 1), output_dim = 10,  optimizer = 'Adam', learning_rate = 0.001, verbose = 1):\n",
    "  \n",
    "  #====Start model initialization====\n",
    "  model = Sequential()\n",
    "\n",
    "  #=====Add convolution layers=====\n",
    "  for i in range(len(conv_layers)):\n",
    "    if len(conv_layers) == 1:\n",
    "      model.add(Conv2D(np.int(conv_layers[i]), kernel_size = kernel_size, input_shape = input_shape, activation='relu',  strides = 1, padding = 'same'))\n",
    "      model.add(MaxPool2D(padding = 'same'))\n",
    "    else:\n",
    "      \n",
    "      if i == 0:\n",
    "        model.add(Conv2D(np.int(conv_layers[i]), kernel_size = kernel_size, input_shape = input_shape, activation='relu',  strides = 1, padding = 'same'))\n",
    "        model.add(MaxPool2D(padding='same'))\n",
    "  \n",
    "      else:\n",
    "        model.add(Conv2D(np.int(conv_layers[i]), kernel_size = kernel_size, activation='relu',  strides = 1, padding = 'same'))\n",
    "        model.add(MaxPool2D(padding='same'))\n",
    "\n",
    "  #=====Flatten the output from Convolution + Pooling Layer =====\n",
    "  model.add(Flatten())\n",
    "\n",
    "  #=====Adding fully connected (dense ) layers =====\n",
    "  for i in range(len(dense_layers)):\n",
    "    model.add(Dense(np.int(dense_layers[i]),  activation='relu'))\n",
    "    #model.add(Dropout(0.10))\n",
    "\n",
    "  #=====Adding output layers =====\n",
    "  model.add(Dense(np.int(output_dim),  activation = 'softmax'))\n",
    "  \n",
    "  #=====Select Optimizer =====\n",
    "  if optimizer == 'Adam':\n",
    "    opt = optimizers.Adam(learning_rate = learning_rate)\n",
    "  elif optimizer == 'Adagrad': \n",
    "    opt = optimizers.Adagrad(learning_rate = learning_rate)\n",
    "  elif optimizer == 'Nadam':\n",
    "    opt = optimizers.Nadam(learning_rate = learning_rate)\n",
    "  elif optimizer == 'Adadelta':\n",
    "    opt = optimizers.Adadelta(learning_rate= learning_rate)\n",
    "  elif optimizer == 'RMSprop':\n",
    "    opt = optimizers.RMSprop(learning_rate= learning_rate)\n",
    "  else:\n",
    "    print(\"No optimizer found in the list(['Adam', 'Adagrad','Nadam', 'Adadelta', 'RMSprop'])! \\\n",
    "    Please apply your optimizer manually...\")\n",
    "  \n",
    "  #=====Compile Model =====\n",
    "  model.compile(loss='categorical_crossentropy', optimizer = opt,  metrics = ['accuracy'])\n",
    "   \n",
    "  if verbose == 1:\n",
    "    print(model.summary())\n",
    "  return model"
   ]
  },
  {
   "cell_type": "markdown",
   "metadata": {
    "id": "yoNFqnboMkX_"
   },
   "source": [
    "### **Testing:** Makeing sure our model was construced appropriately"
   ]
  },
  {
   "cell_type": "code",
   "execution_count": null,
   "metadata": {
    "colab": {
     "base_uri": "https://localhost:8080/"
    },
    "id": "w20Ss4ZRMd3u",
    "outputId": "76dc435f-9bd9-4343-af42-05b22407d770"
   },
   "outputs": [
    {
     "name": "stdout",
     "output_type": "stream",
     "text": [
      "Model: \"sequential\"\n",
      "_________________________________________________________________\n",
      " Layer (type)                Output Shape              Param #   \n",
      "=================================================================\n",
      " conv2d (Conv2D)             (None, 28, 28, 32)        160       \n",
      "                                                                 \n",
      " max_pooling2d (MaxPooling2D  (None, 14, 14, 32)       0         \n",
      " )                                                               \n",
      "                                                                 \n",
      " conv2d_1 (Conv2D)           (None, 14, 14, 16)        2064      \n",
      "                                                                 \n",
      " max_pooling2d_1 (MaxPooling  (None, 7, 7, 16)         0         \n",
      " 2D)                                                             \n",
      "                                                                 \n",
      " flatten (Flatten)           (None, 784)               0         \n",
      "                                                                 \n",
      " dense (Dense)               (None, 20)                15700     \n",
      "                                                                 \n",
      " dense_1 (Dense)             (None, 10)                210       \n",
      "                                                                 \n",
      " dense_2 (Dense)             (None, 10)                110       \n",
      "                                                                 \n",
      "=================================================================\n",
      "Total params: 18,244\n",
      "Trainable params: 18,244\n",
      "Non-trainable params: 0\n",
      "_________________________________________________________________\n",
      "None\n"
     ]
    },
    {
     "data": {
      "text/plain": [
       "<keras.engine.sequential.Sequential at 0x7ff2e617ee20>"
      ]
     },
     "execution_count": 55,
     "metadata": {},
     "output_type": "execute_result"
    }
   ],
   "source": [
    "#test if the function is working\n",
    "\n",
    "conv_layers = [32, 16]\n",
    "\n",
    "dense_layers = [ 20, 10]\n",
    "\n",
    "kernel_size =  (2,2)\n",
    "\n",
    "input_shape = (28, 28, 1)\n",
    "\n",
    "output_dim = 10\n",
    "\n",
    "optimizer = 'Adam'\n",
    "\n",
    "learning_rate = 0.001\n",
    "\n",
    "verbose = 1\n",
    "\n",
    "Build_CNN_Model(conv_layers, dense_layers,  kernel_size, input_shape, output_dim, optimizer, learning_rate, verbose )"
   ]
  },
  {
   "cell_type": "markdown",
   "metadata": {
    "id": "e2S97xvGH_2j"
   },
   "source": [
    "## **Implement CNN Models** "
   ]
  },
  {
   "cell_type": "code",
   "execution_count": null,
   "metadata": {
    "id": "ACKoMbiOIP6-"
   },
   "outputs": [],
   "source": [
    "\n",
    "def CNN_Model (conv_layers =  [32, 16],\n",
    "               dense_layers = [20, 10],\n",
    "               kernel_size = (2,2),\n",
    "               input_shape = (28, 28, 1),  \n",
    "               output_dim  = 10,\n",
    "               optimizer = 'Adam',\n",
    "               learning_rate = 0.001,\n",
    "               X_train = None,\n",
    "               y_train = None,\n",
    "               X_test =  None, \n",
    "               y_test =  None, \n",
    "               val_split = 0.2,\n",
    "               batch_size = 32,\n",
    "               epochs = 2, \n",
    "               verbose = 1):\n",
    "  \n",
    "  print('Building CNN Model.......................\\n')\n",
    "  #Build CNN model\n",
    "  model = Build_CNN_Model(conv_layers, dense_layers,  kernel_size, input_shape, output_dim, optimizer, learning_rate, verbose =0 )\n",
    "  \n",
    "  print('Fitting  CNN Model.......................\\n')\n",
    "  #Fit CNN model\n",
    "  callback = tf.keras.callbacks.EarlyStopping(monitor='val_loss', patience= 10)\n",
    "  #history = model.fit(X_train, y_train, batch_size = batch_size, epochs = epochs,  validation_split = val_split, callbacks = [callback], verbose = verbose)\n",
    "  history = model.fit(X_train, y_train, batch_size = batch_size, epochs = epochs,  validation_split = val_split, verbose = verbose)\n",
    "  \n",
    "  print('Calculating predictions and scores....')\n",
    "  print('Calculating predictions and scores.......................\\n')\n",
    "\n",
    "  #Calculate predictions \n",
    "  pred = model.predict(X_test)\n",
    "\n",
    "  #Calculate test scores\n",
    "  scores = model.evaluate(X_test, y_test)\n",
    "\n",
    "  #Create plots\n",
    "  #create_error_plot(history)\n",
    "  \n",
    "  print('Collecting outputs.......................\\n')\n",
    "  output = {\n",
    "            'model': model,\n",
    "            'model_history': history, \n",
    "            'test_loss': scores[0],\n",
    "            'test_acc': scores[1],\n",
    "            'test_predictions': pred,\n",
    "       }\n",
    "  \n",
    "  print('Congratuations! All the processes are completed successfully....\\n')  \n",
    "  return output\n",
    "  "
   ]
  },
  {
   "cell_type": "markdown",
   "metadata": {
    "id": "FGAeJ4k7RtkH"
   },
   "source": [
    "**Testing:**\n"
   ]
  },
  {
   "cell_type": "code",
   "execution_count": null,
   "metadata": {
    "colab": {
     "base_uri": "https://localhost:8080/"
    },
    "id": "1yuVn-RJXbSn",
    "outputId": "2e93db91-4fe5-4bae-fb41-0cc6819ab95e"
   },
   "outputs": [
    {
     "name": "stdout",
     "output_type": "stream",
     "text": [
      "Building CNN Model.......................\n",
      "\n",
      "Fitting  CNN Model.......................\n",
      "\n",
      "Epoch 1/50\n",
      "1500/1500 [==============================] - 6s 4ms/step - loss: 2.3116 - accuracy: 0.0971 - val_loss: 2.2284 - val_accuracy: 0.1074\n",
      "Epoch 2/50\n",
      "1500/1500 [==============================] - 5s 4ms/step - loss: 1.7671 - accuracy: 0.3167 - val_loss: 1.3209 - val_accuracy: 0.5038\n",
      "Epoch 3/50\n",
      "1500/1500 [==============================] - 5s 4ms/step - loss: 1.0411 - accuracy: 0.6377 - val_loss: 0.8495 - val_accuracy: 0.7227\n",
      "Epoch 4/50\n",
      "1500/1500 [==============================] - 6s 4ms/step - loss: 0.7172 - accuracy: 0.7508 - val_loss: 0.6550 - val_accuracy: 0.7448\n",
      "Epoch 5/50\n",
      "1500/1500 [==============================] - 5s 4ms/step - loss: 0.5950 - accuracy: 0.7780 - val_loss: 0.5670 - val_accuracy: 0.7890\n",
      "Epoch 6/50\n",
      "1500/1500 [==============================] - 5s 4ms/step - loss: 0.5379 - accuracy: 0.7960 - val_loss: 0.5274 - val_accuracy: 0.7960\n",
      "Epoch 7/50\n",
      "1500/1500 [==============================] - 6s 4ms/step - loss: 0.5013 - accuracy: 0.8084 - val_loss: 0.4997 - val_accuracy: 0.8093\n",
      "Epoch 8/50\n",
      "1500/1500 [==============================] - 7s 5ms/step - loss: 0.4697 - accuracy: 0.8167 - val_loss: 0.5096 - val_accuracy: 0.8088\n",
      "Epoch 9/50\n",
      "1500/1500 [==============================] - 6s 4ms/step - loss: 0.4496 - accuracy: 0.8255 - val_loss: 0.4787 - val_accuracy: 0.8276\n",
      "Epoch 10/50\n",
      "1500/1500 [==============================] - 5s 4ms/step - loss: 0.4298 - accuracy: 0.8364 - val_loss: 0.4605 - val_accuracy: 0.8370\n",
      "Epoch 11/50\n",
      "1500/1500 [==============================] - 6s 4ms/step - loss: 0.4200 - accuracy: 0.8435 - val_loss: 0.4519 - val_accuracy: 0.8459\n",
      "Epoch 12/50\n",
      "1500/1500 [==============================] - 5s 4ms/step - loss: 0.4086 - accuracy: 0.8526 - val_loss: 0.4753 - val_accuracy: 0.8268\n",
      "Epoch 13/50\n",
      "1500/1500 [==============================] - 6s 4ms/step - loss: 0.3975 - accuracy: 0.8581 - val_loss: 0.4349 - val_accuracy: 0.8521\n",
      "Epoch 14/50\n",
      "1500/1500 [==============================] - 5s 4ms/step - loss: 0.3888 - accuracy: 0.8640 - val_loss: 0.4318 - val_accuracy: 0.8568\n",
      "Epoch 15/50\n",
      "1500/1500 [==============================] - 5s 4ms/step - loss: 0.3815 - accuracy: 0.8668 - val_loss: 0.4360 - val_accuracy: 0.8559\n",
      "Epoch 16/50\n",
      "1500/1500 [==============================] - 5s 4ms/step - loss: 0.3729 - accuracy: 0.8694 - val_loss: 0.4322 - val_accuracy: 0.8585\n",
      "Epoch 17/50\n",
      "1500/1500 [==============================] - 6s 4ms/step - loss: 0.3656 - accuracy: 0.8737 - val_loss: 0.4201 - val_accuracy: 0.8612\n",
      "Epoch 18/50\n",
      "1500/1500 [==============================] - 6s 4ms/step - loss: 0.3619 - accuracy: 0.8762 - val_loss: 0.4099 - val_accuracy: 0.8662\n",
      "Epoch 19/50\n",
      "1500/1500 [==============================] - 6s 4ms/step - loss: 0.3547 - accuracy: 0.8772 - val_loss: 0.4103 - val_accuracy: 0.8638\n",
      "Epoch 20/50\n",
      "1500/1500 [==============================] - 5s 4ms/step - loss: 0.3506 - accuracy: 0.8789 - val_loss: 0.4203 - val_accuracy: 0.8640\n",
      "Epoch 21/50\n",
      "1500/1500 [==============================] - 5s 4ms/step - loss: 0.3469 - accuracy: 0.8810 - val_loss: 0.4105 - val_accuracy: 0.8680\n",
      "Epoch 22/50\n",
      "1500/1500 [==============================] - 5s 4ms/step - loss: 0.3437 - accuracy: 0.8809 - val_loss: 0.4029 - val_accuracy: 0.8652\n",
      "Epoch 23/50\n",
      "1500/1500 [==============================] - 5s 4ms/step - loss: 0.3394 - accuracy: 0.8831 - val_loss: 0.4209 - val_accuracy: 0.8624\n",
      "Epoch 24/50\n",
      "1500/1500 [==============================] - 5s 4ms/step - loss: 0.3363 - accuracy: 0.8837 - val_loss: 0.4165 - val_accuracy: 0.8657\n",
      "Epoch 25/50\n",
      "1500/1500 [==============================] - 6s 4ms/step - loss: 0.3333 - accuracy: 0.8852 - val_loss: 0.4291 - val_accuracy: 0.8618\n",
      "Epoch 26/50\n",
      "1500/1500 [==============================] - 5s 4ms/step - loss: 0.3295 - accuracy: 0.8851 - val_loss: 0.4185 - val_accuracy: 0.8628\n",
      "Epoch 27/50\n",
      "1500/1500 [==============================] - 6s 4ms/step - loss: 0.3295 - accuracy: 0.8862 - val_loss: 0.4119 - val_accuracy: 0.8734\n",
      "Epoch 28/50\n",
      "1500/1500 [==============================] - 5s 4ms/step - loss: 0.3239 - accuracy: 0.8885 - val_loss: 0.4197 - val_accuracy: 0.8723\n",
      "Epoch 29/50\n",
      "1500/1500 [==============================] - 5s 4ms/step - loss: 0.3222 - accuracy: 0.8885 - val_loss: 0.4058 - val_accuracy: 0.8740\n",
      "Epoch 30/50\n",
      "1500/1500 [==============================] - 5s 4ms/step - loss: 0.3184 - accuracy: 0.8894 - val_loss: 0.3962 - val_accuracy: 0.8714\n",
      "Epoch 31/50\n",
      "1500/1500 [==============================] - 5s 4ms/step - loss: 0.3121 - accuracy: 0.8917 - val_loss: 0.4132 - val_accuracy: 0.8708\n",
      "Epoch 32/50\n",
      "1500/1500 [==============================] - 7s 5ms/step - loss: 0.3066 - accuracy: 0.8930 - val_loss: 0.4081 - val_accuracy: 0.8699\n",
      "Epoch 33/50\n",
      "1500/1500 [==============================] - 6s 4ms/step - loss: 0.3050 - accuracy: 0.8927 - val_loss: 0.3943 - val_accuracy: 0.8752\n",
      "Epoch 34/50\n",
      "1500/1500 [==============================] - 5s 4ms/step - loss: 0.2993 - accuracy: 0.8958 - val_loss: 0.3799 - val_accuracy: 0.8794\n",
      "Epoch 35/50\n",
      "1500/1500 [==============================] - 6s 4ms/step - loss: 0.2976 - accuracy: 0.8953 - val_loss: 0.3823 - val_accuracy: 0.8807\n",
      "Epoch 36/50\n",
      "1500/1500 [==============================] - 6s 4ms/step - loss: 0.2918 - accuracy: 0.8984 - val_loss: 0.3765 - val_accuracy: 0.8801\n",
      "Epoch 37/50\n",
      "1500/1500 [==============================] - 6s 4ms/step - loss: 0.2878 - accuracy: 0.8990 - val_loss: 0.3666 - val_accuracy: 0.8823\n",
      "Epoch 38/50\n",
      "1500/1500 [==============================] - 5s 4ms/step - loss: 0.2880 - accuracy: 0.8994 - val_loss: 0.3778 - val_accuracy: 0.8766\n",
      "Epoch 39/50\n",
      "1500/1500 [==============================] - 6s 4ms/step - loss: 0.2841 - accuracy: 0.9016 - val_loss: 0.3831 - val_accuracy: 0.8767\n",
      "Epoch 40/50\n",
      "1500/1500 [==============================] - 6s 4ms/step - loss: 0.2820 - accuracy: 0.9014 - val_loss: 0.3625 - val_accuracy: 0.8830\n",
      "Epoch 41/50\n",
      "1500/1500 [==============================] - 6s 4ms/step - loss: 0.2815 - accuracy: 0.9016 - val_loss: 0.3719 - val_accuracy: 0.8807\n",
      "Epoch 42/50\n",
      "1500/1500 [==============================] - 6s 4ms/step - loss: 0.2786 - accuracy: 0.9028 - val_loss: 0.3552 - val_accuracy: 0.8858\n",
      "Epoch 43/50\n",
      "1500/1500 [==============================] - 6s 4ms/step - loss: 0.2782 - accuracy: 0.9035 - val_loss: 0.3624 - val_accuracy: 0.8845\n",
      "Epoch 44/50\n",
      "1500/1500 [==============================] - 6s 4ms/step - loss: 0.2741 - accuracy: 0.9048 - val_loss: 0.3659 - val_accuracy: 0.8792\n",
      "Epoch 45/50\n",
      "1500/1500 [==============================] - 6s 4ms/step - loss: 0.2726 - accuracy: 0.9040 - val_loss: 0.3749 - val_accuracy: 0.8817\n",
      "Epoch 46/50\n",
      "1500/1500 [==============================] - 6s 4ms/step - loss: 0.2749 - accuracy: 0.9026 - val_loss: 0.3666 - val_accuracy: 0.8822\n",
      "Epoch 47/50\n",
      "1500/1500 [==============================] - 6s 4ms/step - loss: 0.2710 - accuracy: 0.9050 - val_loss: 0.3598 - val_accuracy: 0.8848\n",
      "Epoch 48/50\n",
      "1500/1500 [==============================] - 6s 4ms/step - loss: 0.2696 - accuracy: 0.9045 - val_loss: 0.3862 - val_accuracy: 0.8796\n",
      "Epoch 49/50\n",
      "1500/1500 [==============================] - 6s 4ms/step - loss: 0.2676 - accuracy: 0.9071 - val_loss: 0.4059 - val_accuracy: 0.8698\n",
      "Epoch 50/50\n",
      "1500/1500 [==============================] - 6s 4ms/step - loss: 0.2658 - accuracy: 0.9060 - val_loss: 0.3588 - val_accuracy: 0.8821\n",
      "Calculating predictions and scores....\n",
      "Calculating predictions and scores.......................\n",
      "\n",
      "313/313 [==============================] - 1s 2ms/step\n",
      "313/313 [==============================] - 1s 3ms/step - loss: 0.3753 - accuracy: 0.8792\n",
      "Collecting outputs.......................\n",
      "\n",
      "Congratuations! All the processes are completed successfully....\n",
      "\n"
     ]
    }
   ],
   "source": [
    "model_output = CNN_Model (conv_layers =  [16, 8],\n",
    "                    dense_layers = [10, 5],\n",
    "                    kernel_size = (2,2) ,\n",
    "                    input_shape = (28, 28, 1), \n",
    "                    output_dim  = 10, \n",
    "                    optimizer = 'Adam', \n",
    "                    learning_rate = 0.001,\n",
    "                    X_train = X_train,\n",
    "                    y_train = y_train,\n",
    "                    X_test = X_test,\n",
    "                    y_test =  y_test, \n",
    "                    val_split = 0.2,\n",
    "                    batch_size = 32,\n",
    "                    epochs = 50, \n",
    "                    verbose = 1\n",
    "                    )"
   ]
  },
  {
   "cell_type": "code",
   "execution_count": null,
   "metadata": {
    "colab": {
     "base_uri": "https://localhost:8080/",
     "height": 350
    },
    "id": "mZ5zvwtSXGus",
    "outputId": "4f99d6a4-ba00-4bff-ccb7-ebe91d97d9ce"
   },
   "outputs": [
    {
     "data": {
      "image/png": "[encoded data removed]",
      "text/plain": [
       "<Figure size 864x360 with 2 Axes>"
      ]
     },
     "metadata": {
      "needs_background": "light"
     },
     "output_type": "display_data"
    }
   ],
   "source": [
    "create_error_plot(model_output['model_history'])"
   ]
  },
  {
   "cell_type": "markdown",
   "metadata": {
    "id": "CWagY-LtVxkA"
   },
   "source": [
    "## **Your Task**: \n",
    "\n",
    "- Experiment the above model multiple times with relatively higher epochs (say, 50 or 100) and identify whether it is better to stop early.\n",
    "\n",
    "- You need to find the most appropriate value of epochs (neigher very large nor very small)\n",
    "\n",
    "- Error plot will be helpful to identify where we can stop training.\n",
    "\n",
    "- Focus on behavior of training accuracy and validation accuracy.\n",
    "\n",
    "- At this point you will be tuning the value of one hyperparameter of CNN model, ie. epochs.\n",
    "\n",
    "\n",
    " "
   ]
  },
  {
   "cell_type": "markdown",
   "metadata": {
    "id": "azOFS0KfXpmm"
   },
   "source": [
    "**Try 1:** Best to Stop Early Due to GPU Run Time Crashing"
   ]
  },
  {
   "cell_type": "code",
   "execution_count": null,
   "metadata": {
    "colab": {
     "base_uri": "https://localhost:8080/",
     "height": 485
    },
    "id": "G-bphthfT2Uz",
    "outputId": "387b2588-2900-4a4f-c593-34e4ef15a551"
   },
   "outputs": [
    {
     "name": "stdout",
     "output_type": "stream",
     "text": [
      "Building CNN Model.......................\n",
      "\n",
      "Fitting  CNN Model.......................\n",
      "\n",
      "Epoch 1/100\n",
      "  88/1500 [>.............................] - ETA: 6s - loss: 2.4183 - accuracy: 0.0945"
     ]
    },
    {
     "ename": "KeyboardInterrupt",
     "evalue": "ignored",
     "output_type": "error",
     "traceback": [
      "\u001b[0;31m---------------------------------------------------------------------------\u001b[0m",
      "\u001b[0;31mKeyboardInterrupt\u001b[0m                         Traceback (most recent call last)",
      "\u001b[0;32m<ipython-input-66-925170c83f16>\u001b[0m in \u001b[0;36m<module>\u001b[0;34m\u001b[0m\n\u001b[0;32m----> 1\u001b[0;31m model_output2 = CNN_Model (conv_layers =  [16, 8],\n\u001b[0m\u001b[1;32m      2\u001b[0m                     \u001b[0mdense_layers\u001b[0m \u001b[0;34m=\u001b[0m \u001b[0;34m[\u001b[0m\u001b[0;36m10\u001b[0m\u001b[0;34m,\u001b[0m \u001b[0;36m5\u001b[0m\u001b[0;34m]\u001b[0m\u001b[0;34m,\u001b[0m\u001b[0;34m\u001b[0m\u001b[0;34m\u001b[0m\u001b[0m\n\u001b[1;32m      3\u001b[0m                     \u001b[0mkernel_size\u001b[0m \u001b[0;34m=\u001b[0m \u001b[0;34m(\u001b[0m\u001b[0;36m2\u001b[0m\u001b[0;34m,\u001b[0m\u001b[0;36m2\u001b[0m\u001b[0;34m)\u001b[0m \u001b[0;34m,\u001b[0m\u001b[0;34m\u001b[0m\u001b[0;34m\u001b[0m\u001b[0m\n\u001b[1;32m      4\u001b[0m                     \u001b[0minput_shape\u001b[0m \u001b[0;34m=\u001b[0m \u001b[0;34m(\u001b[0m\u001b[0;36m28\u001b[0m\u001b[0;34m,\u001b[0m \u001b[0;36m28\u001b[0m\u001b[0;34m,\u001b[0m \u001b[0;36m1\u001b[0m\u001b[0;34m)\u001b[0m\u001b[0;34m,\u001b[0m\u001b[0;34m\u001b[0m\u001b[0;34m\u001b[0m\u001b[0m\n\u001b[1;32m      5\u001b[0m                     \u001b[0moutput_dim\u001b[0m  \u001b[0;34m=\u001b[0m \u001b[0;36m10\u001b[0m\u001b[0;34m,\u001b[0m\u001b[0;34m\u001b[0m\u001b[0;34m\u001b[0m\u001b[0m\n",
      "\u001b[0;32m<ipython-input-56-0f3f2150cea8>\u001b[0m in \u001b[0;36mCNN_Model\u001b[0;34m(conv_layers, dense_layers, kernel_size, input_shape, output_dim, optimizer, learning_rate, X_train, y_train, X_test, y_test, val_split, batch_size, epochs, verbose)\u001b[0m\n\u001b[1;32m     23\u001b[0m   \u001b[0mcallback\u001b[0m \u001b[0;34m=\u001b[0m \u001b[0mtf\u001b[0m\u001b[0;34m.\u001b[0m\u001b[0mkeras\u001b[0m\u001b[0;34m.\u001b[0m\u001b[0mcallbacks\u001b[0m\u001b[0;34m.\u001b[0m\u001b[0mEarlyStopping\u001b[0m\u001b[0;34m(\u001b[0m\u001b[0mmonitor\u001b[0m\u001b[0;34m=\u001b[0m\u001b[0;34m'val_loss'\u001b[0m\u001b[0;34m,\u001b[0m \u001b[0mpatience\u001b[0m\u001b[0;34m=\u001b[0m \u001b[0;36m10\u001b[0m\u001b[0;34m)\u001b[0m\u001b[0;34m\u001b[0m\u001b[0;34m\u001b[0m\u001b[0m\n\u001b[1;32m     24\u001b[0m   \u001b[0;31m#history = model.fit(X_train, y_train, batch_size = batch_size, epochs = epochs,  validation_split = val_split, callbacks = [callback], verbose = verbose)\u001b[0m\u001b[0;34m\u001b[0m\u001b[0;34m\u001b[0m\u001b[0;34m\u001b[0m\u001b[0m\n\u001b[0;32m---> 25\u001b[0;31m   \u001b[0mhistory\u001b[0m \u001b[0;34m=\u001b[0m \u001b[0mmodel\u001b[0m\u001b[0;34m.\u001b[0m\u001b[0mfit\u001b[0m\u001b[0;34m(\u001b[0m\u001b[0mX_train\u001b[0m\u001b[0;34m,\u001b[0m \u001b[0my_train\u001b[0m\u001b[0;34m,\u001b[0m \u001b[0mbatch_size\u001b[0m \u001b[0;34m=\u001b[0m \u001b[0mbatch_size\u001b[0m\u001b[0;34m,\u001b[0m \u001b[0mepochs\u001b[0m \u001b[0;34m=\u001b[0m \u001b[0mepochs\u001b[0m\u001b[0;34m,\u001b[0m  \u001b[0mvalidation_split\u001b[0m \u001b[0;34m=\u001b[0m \u001b[0mval_split\u001b[0m\u001b[0;34m,\u001b[0m \u001b[0mverbose\u001b[0m \u001b[0;34m=\u001b[0m \u001b[0mverbose\u001b[0m\u001b[0;34m)\u001b[0m\u001b[0;34m\u001b[0m\u001b[0;34m\u001b[0m\u001b[0m\n\u001b[0m\u001b[1;32m     26\u001b[0m \u001b[0;34m\u001b[0m\u001b[0m\n\u001b[1;32m     27\u001b[0m   \u001b[0mprint\u001b[0m\u001b[0;34m(\u001b[0m\u001b[0;34m'Calculating predictions and scores....'\u001b[0m\u001b[0;34m)\u001b[0m\u001b[0;34m\u001b[0m\u001b[0;34m\u001b[0m\u001b[0m\n",
      "\u001b[0;32m/usr/local/lib/python3.8/dist-packages/keras/utils/traceback_utils.py\u001b[0m in \u001b[0;36merror_handler\u001b[0;34m(*args, **kwargs)\u001b[0m\n\u001b[1;32m     62\u001b[0m     \u001b[0mfiltered_tb\u001b[0m \u001b[0;34m=\u001b[0m \u001b[0;32mNone\u001b[0m\u001b[0;34m\u001b[0m\u001b[0;34m\u001b[0m\u001b[0m\n\u001b[1;32m     63\u001b[0m     \u001b[0;32mtry\u001b[0m\u001b[0;34m:\u001b[0m\u001b[0;34m\u001b[0m\u001b[0;34m\u001b[0m\u001b[0m\n\u001b[0;32m---> 64\u001b[0;31m       \u001b[0;32mreturn\u001b[0m \u001b[0mfn\u001b[0m\u001b[0;34m(\u001b[0m\u001b[0;34m*\u001b[0m\u001b[0margs\u001b[0m\u001b[0;34m,\u001b[0m \u001b[0;34m**\u001b[0m\u001b[0mkwargs\u001b[0m\u001b[0;34m)\u001b[0m\u001b[0;34m\u001b[0m\u001b[0;34m\u001b[0m\u001b[0m\n\u001b[0m\u001b[1;32m     65\u001b[0m     \u001b[0;32mexcept\u001b[0m \u001b[0mException\u001b[0m \u001b[0;32mas\u001b[0m \u001b[0me\u001b[0m\u001b[0;34m:\u001b[0m  \u001b[0;31m# pylint: disable=broad-except\u001b[0m\u001b[0;34m\u001b[0m\u001b[0;34m\u001b[0m\u001b[0m\n\u001b[1;32m     66\u001b[0m       \u001b[0mfiltered_tb\u001b[0m \u001b[0;34m=\u001b[0m \u001b[0m_process_traceback_frames\u001b[0m\u001b[0;34m(\u001b[0m\u001b[0me\u001b[0m\u001b[0;34m.\u001b[0m\u001b[0m__traceback__\u001b[0m\u001b[0;34m)\u001b[0m\u001b[0;34m\u001b[0m\u001b[0;34m\u001b[0m\u001b[0m\n",
      "\u001b[0;32m/usr/local/lib/python3.8/dist-packages/keras/engine/training.py\u001b[0m in \u001b[0;36mfit\u001b[0;34m(self, x, y, batch_size, epochs, verbose, callbacks, validation_split, validation_data, shuffle, class_weight, sample_weight, initial_epoch, steps_per_epoch, validation_steps, validation_batch_size, validation_freq, max_queue_size, workers, use_multiprocessing)\u001b[0m\n\u001b[1;32m   1407\u001b[0m                 _r=1):\n\u001b[1;32m   1408\u001b[0m               \u001b[0mcallbacks\u001b[0m\u001b[0;34m.\u001b[0m\u001b[0mon_train_batch_begin\u001b[0m\u001b[0;34m(\u001b[0m\u001b[0mstep\u001b[0m\u001b[0;34m)\u001b[0m\u001b[0;34m\u001b[0m\u001b[0;34m\u001b[0m\u001b[0m\n\u001b[0;32m-> 1409\u001b[0;31m               \u001b[0mtmp_logs\u001b[0m \u001b[0;34m=\u001b[0m \u001b[0mself\u001b[0m\u001b[0;34m.\u001b[0m\u001b[0mtrain_function\u001b[0m\u001b[0;34m(\u001b[0m\u001b[0miterator\u001b[0m\u001b[0;34m)\u001b[0m\u001b[0;34m\u001b[0m\u001b[0;34m\u001b[0m\u001b[0m\n\u001b[0m\u001b[1;32m   1410\u001b[0m               \u001b[0;32mif\u001b[0m \u001b[0mdata_handler\u001b[0m\u001b[0;34m.\u001b[0m\u001b[0mshould_sync\u001b[0m\u001b[0;34m:\u001b[0m\u001b[0;34m\u001b[0m\u001b[0;34m\u001b[0m\u001b[0m\n\u001b[1;32m   1411\u001b[0m                 \u001b[0mcontext\u001b[0m\u001b[0;34m.\u001b[0m\u001b[0masync_wait\u001b[0m\u001b[0;34m(\u001b[0m\u001b[0;34m)\u001b[0m\u001b[0;34m\u001b[0m\u001b[0;34m\u001b[0m\u001b[0m\n",
      "\u001b[0;32m/usr/local/lib/python3.8/dist-packages/tensorflow/python/util/traceback_utils.py\u001b[0m in \u001b[0;36merror_handler\u001b[0;34m(*args, **kwargs)\u001b[0m\n\u001b[1;32m    148\u001b[0m     \u001b[0mfiltered_tb\u001b[0m \u001b[0;34m=\u001b[0m \u001b[0;32mNone\u001b[0m\u001b[0;34m\u001b[0m\u001b[0;34m\u001b[0m\u001b[0m\n\u001b[1;32m    149\u001b[0m     \u001b[0;32mtry\u001b[0m\u001b[0;34m:\u001b[0m\u001b[0;34m\u001b[0m\u001b[0;34m\u001b[0m\u001b[0m\n\u001b[0;32m--> 150\u001b[0;31m       \u001b[0;32mreturn\u001b[0m \u001b[0mfn\u001b[0m\u001b[0;34m(\u001b[0m\u001b[0;34m*\u001b[0m\u001b[0margs\u001b[0m\u001b[0;34m,\u001b[0m \u001b[0;34m**\u001b[0m\u001b[0mkwargs\u001b[0m\u001b[0;34m)\u001b[0m\u001b[0;34m\u001b[0m\u001b[0;34m\u001b[0m\u001b[0m\n\u001b[0m\u001b[1;32m    151\u001b[0m     \u001b[0;32mexcept\u001b[0m \u001b[0mException\u001b[0m \u001b[0;32mas\u001b[0m \u001b[0me\u001b[0m\u001b[0;34m:\u001b[0m\u001b[0;34m\u001b[0m\u001b[0;34m\u001b[0m\u001b[0m\n\u001b[1;32m    152\u001b[0m       \u001b[0mfiltered_tb\u001b[0m \u001b[0;34m=\u001b[0m \u001b[0m_process_traceback_frames\u001b[0m\u001b[0;34m(\u001b[0m\u001b[0me\u001b[0m\u001b[0;34m.\u001b[0m\u001b[0m__traceback__\u001b[0m\u001b[0;34m)\u001b[0m\u001b[0;34m\u001b[0m\u001b[0;34m\u001b[0m\u001b[0m\n",
      "\u001b[0;32m/usr/local/lib/python3.8/dist-packages/tensorflow/python/eager/def_function.py\u001b[0m in \u001b[0;36m__call__\u001b[0;34m(self, *args, **kwds)\u001b[0m\n\u001b[1;32m    913\u001b[0m \u001b[0;34m\u001b[0m\u001b[0m\n\u001b[1;32m    914\u001b[0m       \u001b[0;32mwith\u001b[0m \u001b[0mOptionalXlaContext\u001b[0m\u001b[0;34m(\u001b[0m\u001b[0mself\u001b[0m\u001b[0;34m.\u001b[0m\u001b[0m_jit_compile\u001b[0m\u001b[0;34m)\u001b[0m\u001b[0;34m:\u001b[0m\u001b[0;34m\u001b[0m\u001b[0;34m\u001b[0m\u001b[0m\n\u001b[0;32m--> 915\u001b[0;31m         \u001b[0mresult\u001b[0m \u001b[0;34m=\u001b[0m \u001b[0mself\u001b[0m\u001b[0;34m.\u001b[0m\u001b[0m_call\u001b[0m\u001b[0;34m(\u001b[0m\u001b[0;34m*\u001b[0m\u001b[0margs\u001b[0m\u001b[0;34m,\u001b[0m \u001b[0;34m**\u001b[0m\u001b[0mkwds\u001b[0m\u001b[0;34m)\u001b[0m\u001b[0;34m\u001b[0m\u001b[0;34m\u001b[0m\u001b[0m\n\u001b[0m\u001b[1;32m    916\u001b[0m \u001b[0;34m\u001b[0m\u001b[0m\n\u001b[1;32m    917\u001b[0m       \u001b[0mnew_tracing_count\u001b[0m \u001b[0;34m=\u001b[0m \u001b[0mself\u001b[0m\u001b[0;34m.\u001b[0m\u001b[0mexperimental_get_tracing_count\u001b[0m\u001b[0;34m(\u001b[0m\u001b[0;34m)\u001b[0m\u001b[0;34m\u001b[0m\u001b[0;34m\u001b[0m\u001b[0m\n",
      "\u001b[0;32m/usr/local/lib/python3.8/dist-packages/tensorflow/python/eager/def_function.py\u001b[0m in \u001b[0;36m_call\u001b[0;34m(self, *args, **kwds)\u001b[0m\n\u001b[1;32m    945\u001b[0m       \u001b[0;31m# In this case we have created variables on the first call, so we run the\u001b[0m\u001b[0;34m\u001b[0m\u001b[0;34m\u001b[0m\u001b[0;34m\u001b[0m\u001b[0m\n\u001b[1;32m    946\u001b[0m       \u001b[0;31m# defunned version which is guaranteed to never create variables.\u001b[0m\u001b[0;34m\u001b[0m\u001b[0;34m\u001b[0m\u001b[0;34m\u001b[0m\u001b[0m\n\u001b[0;32m--> 947\u001b[0;31m       \u001b[0;32mreturn\u001b[0m \u001b[0mself\u001b[0m\u001b[0;34m.\u001b[0m\u001b[0m_stateless_fn\u001b[0m\u001b[0;34m(\u001b[0m\u001b[0;34m*\u001b[0m\u001b[0margs\u001b[0m\u001b[0;34m,\u001b[0m \u001b[0;34m**\u001b[0m\u001b[0mkwds\u001b[0m\u001b[0;34m)\u001b[0m  \u001b[0;31m# pylint: disable=not-callable\u001b[0m\u001b[0;34m\u001b[0m\u001b[0;34m\u001b[0m\u001b[0m\n\u001b[0m\u001b[1;32m    948\u001b[0m     \u001b[0;32melif\u001b[0m \u001b[0mself\u001b[0m\u001b[0;34m.\u001b[0m\u001b[0m_stateful_fn\u001b[0m \u001b[0;32mis\u001b[0m \u001b[0;32mnot\u001b[0m \u001b[0;32mNone\u001b[0m\u001b[0;34m:\u001b[0m\u001b[0;34m\u001b[0m\u001b[0;34m\u001b[0m\u001b[0m\n\u001b[1;32m    949\u001b[0m       \u001b[0;31m# Release the lock early so that multiple threads can perform the call\u001b[0m\u001b[0;34m\u001b[0m\u001b[0;34m\u001b[0m\u001b[0;34m\u001b[0m\u001b[0m\n",
      "\u001b[0;32m/usr/local/lib/python3.8/dist-packages/tensorflow/python/eager/function.py\u001b[0m in \u001b[0;36m__call__\u001b[0;34m(self, *args, **kwargs)\u001b[0m\n\u001b[1;32m   2451\u001b[0m       (graph_function,\n\u001b[1;32m   2452\u001b[0m        filtered_flat_args) = self._maybe_define_function(args, kwargs)\n\u001b[0;32m-> 2453\u001b[0;31m     return graph_function._call_flat(\n\u001b[0m\u001b[1;32m   2454\u001b[0m         filtered_flat_args, captured_inputs=graph_function.captured_inputs)  # pylint: disable=protected-access\n\u001b[1;32m   2455\u001b[0m \u001b[0;34m\u001b[0m\u001b[0m\n",
      "\u001b[0;32m/usr/local/lib/python3.8/dist-packages/tensorflow/python/eager/function.py\u001b[0m in \u001b[0;36m_call_flat\u001b[0;34m(self, args, captured_inputs, cancellation_manager)\u001b[0m\n\u001b[1;32m   1858\u001b[0m         and executing_eagerly):\n\u001b[1;32m   1859\u001b[0m       \u001b[0;31m# No tape is watching; skip to running the function.\u001b[0m\u001b[0;34m\u001b[0m\u001b[0;34m\u001b[0m\u001b[0;34m\u001b[0m\u001b[0m\n\u001b[0;32m-> 1860\u001b[0;31m       return self._build_call_outputs(self._inference_function.call(\n\u001b[0m\u001b[1;32m   1861\u001b[0m           ctx, args, cancellation_manager=cancellation_manager))\n\u001b[1;32m   1862\u001b[0m     forward_backward = self._select_forward_and_backward_functions(\n",
      "\u001b[0;32m/usr/local/lib/python3.8/dist-packages/tensorflow/python/eager/function.py\u001b[0m in \u001b[0;36mcall\u001b[0;34m(self, ctx, args, cancellation_manager)\u001b[0m\n\u001b[1;32m    495\u001b[0m       \u001b[0;32mwith\u001b[0m \u001b[0m_InterpolateFunctionError\u001b[0m\u001b[0;34m(\u001b[0m\u001b[0mself\u001b[0m\u001b[0;34m)\u001b[0m\u001b[0;34m:\u001b[0m\u001b[0;34m\u001b[0m\u001b[0;34m\u001b[0m\u001b[0m\n\u001b[1;32m    496\u001b[0m         \u001b[0;32mif\u001b[0m \u001b[0mcancellation_manager\u001b[0m \u001b[0;32mis\u001b[0m \u001b[0;32mNone\u001b[0m\u001b[0;34m:\u001b[0m\u001b[0;34m\u001b[0m\u001b[0;34m\u001b[0m\u001b[0m\n\u001b[0;32m--> 497\u001b[0;31m           outputs = execute.execute(\n\u001b[0m\u001b[1;32m    498\u001b[0m               \u001b[0mstr\u001b[0m\u001b[0;34m(\u001b[0m\u001b[0mself\u001b[0m\u001b[0;34m.\u001b[0m\u001b[0msignature\u001b[0m\u001b[0;34m.\u001b[0m\u001b[0mname\u001b[0m\u001b[0;34m)\u001b[0m\u001b[0;34m,\u001b[0m\u001b[0;34m\u001b[0m\u001b[0;34m\u001b[0m\u001b[0m\n\u001b[1;32m    499\u001b[0m               \u001b[0mnum_outputs\u001b[0m\u001b[0;34m=\u001b[0m\u001b[0mself\u001b[0m\u001b[0;34m.\u001b[0m\u001b[0m_num_outputs\u001b[0m\u001b[0;34m,\u001b[0m\u001b[0;34m\u001b[0m\u001b[0;34m\u001b[0m\u001b[0m\n",
      "\u001b[0;32m/usr/local/lib/python3.8/dist-packages/tensorflow/python/eager/execute.py\u001b[0m in \u001b[0;36mquick_execute\u001b[0;34m(op_name, num_outputs, inputs, attrs, ctx, name)\u001b[0m\n\u001b[1;32m     52\u001b[0m   \u001b[0;32mtry\u001b[0m\u001b[0;34m:\u001b[0m\u001b[0;34m\u001b[0m\u001b[0;34m\u001b[0m\u001b[0m\n\u001b[1;32m     53\u001b[0m     \u001b[0mctx\u001b[0m\u001b[0;34m.\u001b[0m\u001b[0mensure_initialized\u001b[0m\u001b[0;34m(\u001b[0m\u001b[0;34m)\u001b[0m\u001b[0;34m\u001b[0m\u001b[0;34m\u001b[0m\u001b[0m\n\u001b[0;32m---> 54\u001b[0;31m     tensors = pywrap_tfe.TFE_Py_Execute(ctx._handle, device_name, op_name,\n\u001b[0m\u001b[1;32m     55\u001b[0m                                         inputs, attrs, num_outputs)\n\u001b[1;32m     56\u001b[0m   \u001b[0;32mexcept\u001b[0m \u001b[0mcore\u001b[0m\u001b[0;34m.\u001b[0m\u001b[0m_NotOkStatusException\u001b[0m \u001b[0;32mas\u001b[0m \u001b[0me\u001b[0m\u001b[0;34m:\u001b[0m\u001b[0;34m\u001b[0m\u001b[0;34m\u001b[0m\u001b[0m\n",
      "\u001b[0;31mKeyboardInterrupt\u001b[0m: "
     ]
    }
   ],
   "source": [
    "model_output2 = CNN_Model (conv_layers =  [16, 8],\n",
    "                    dense_layers = [10, 5],\n",
    "                    kernel_size = (2,2) ,\n",
    "                    input_shape = (28, 28, 1), \n",
    "                    output_dim  = 10, \n",
    "                    optimizer = 'Adam', \n",
    "                    learning_rate = 0.001,\n",
    "                    X_train = X_train,\n",
    "                    y_train = y_train,\n",
    "                    X_test = X_test,\n",
    "                    y_test =  y_test, \n",
    "                    val_split = 0.2,\n",
    "                    batch_size = 32,\n",
    "                    epochs = 100, \n",
    "                    verbose = 1\n",
    "                    )\n",
    "\n",
    "create_error_plot(model_output2['model_history'])"
   ]
  },
  {
   "cell_type": "markdown",
   "metadata": {
    "id": "2PCv4dCOXrvb"
   },
   "source": [
    "**Try 2:**"
   ]
  },
  {
   "cell_type": "code",
   "execution_count": null,
   "metadata": {
    "colab": {
     "base_uri": "https://localhost:8080/",
     "height": 1000
    },
    "id": "yIjkxWh3XDvq",
    "outputId": "a9333d5b-9c23-4515-c76c-ff2ded989ca3"
   },
   "outputs": [
    {
     "name": "stdout",
     "output_type": "stream",
     "text": [
      "Building CNN Model.......................\n",
      "\n",
      "Fitting  CNN Model.......................\n",
      "\n",
      "Epoch 1/25\n",
      "1500/1500 [==============================] - 7s 4ms/step - loss: 1.9104 - accuracy: 0.2715 - val_loss: 1.4728 - val_accuracy: 0.4372\n",
      "Epoch 2/25\n",
      "1500/1500 [==============================] - 6s 4ms/step - loss: 1.0950 - accuracy: 0.5734 - val_loss: 0.6765 - val_accuracy: 0.7353\n",
      "Epoch 3/25\n",
      "1500/1500 [==============================] - 5s 4ms/step - loss: 0.5898 - accuracy: 0.7599 - val_loss: 0.5496 - val_accuracy: 0.7894\n",
      "Epoch 4/25\n",
      "1500/1500 [==============================] - 7s 5ms/step - loss: 0.4918 - accuracy: 0.8079 - val_loss: 0.4623 - val_accuracy: 0.8278\n",
      "Epoch 5/25\n",
      "1500/1500 [==============================] - 7s 4ms/step - loss: 0.4386 - accuracy: 0.8371 - val_loss: 0.4276 - val_accuracy: 0.8470\n",
      "Epoch 6/25\n",
      "1500/1500 [==============================] - 6s 4ms/step - loss: 0.4074 - accuracy: 0.8553 - val_loss: 0.4399 - val_accuracy: 0.8474\n",
      "Epoch 7/25\n",
      "1500/1500 [==============================] - 7s 5ms/step - loss: 0.3882 - accuracy: 0.8646 - val_loss: 0.4028 - val_accuracy: 0.8599\n",
      "Epoch 8/25\n",
      "1500/1500 [==============================] - 6s 4ms/step - loss: 0.3693 - accuracy: 0.8698 - val_loss: 0.4041 - val_accuracy: 0.8637\n",
      "Epoch 9/25\n",
      "1500/1500 [==============================] - 5s 4ms/step - loss: 0.3594 - accuracy: 0.8751 - val_loss: 0.4182 - val_accuracy: 0.8543\n",
      "Epoch 10/25\n",
      "1500/1500 [==============================] - 6s 4ms/step - loss: 0.3485 - accuracy: 0.8792 - val_loss: 0.3826 - val_accuracy: 0.8704\n",
      "Epoch 11/25\n",
      "1500/1500 [==============================] - 6s 4ms/step - loss: 0.3425 - accuracy: 0.8802 - val_loss: 0.3761 - val_accuracy: 0.8697\n",
      "Epoch 12/25\n",
      "1500/1500 [==============================] - 6s 4ms/step - loss: 0.3346 - accuracy: 0.8828 - val_loss: 0.3835 - val_accuracy: 0.8697\n",
      "Epoch 13/25\n",
      "1500/1500 [==============================] - 6s 4ms/step - loss: 0.3301 - accuracy: 0.8831 - val_loss: 0.4128 - val_accuracy: 0.8553\n",
      "Epoch 14/25\n",
      "1500/1500 [==============================] - 5s 4ms/step - loss: 0.3231 - accuracy: 0.8860 - val_loss: 0.3670 - val_accuracy: 0.8747\n",
      "Epoch 15/25\n",
      "1500/1500 [==============================] - 5s 4ms/step - loss: 0.3194 - accuracy: 0.8875 - val_loss: 0.3703 - val_accuracy: 0.8726\n",
      "Epoch 16/25\n",
      "1500/1500 [==============================] - 5s 4ms/step - loss: 0.3151 - accuracy: 0.8887 - val_loss: 0.3690 - val_accuracy: 0.8737\n",
      "Epoch 17/25\n",
      "1500/1500 [==============================] - 5s 4ms/step - loss: 0.3081 - accuracy: 0.8898 - val_loss: 0.3701 - val_accuracy: 0.8717\n",
      "Epoch 18/25\n",
      "1500/1500 [==============================] - 5s 4ms/step - loss: 0.3029 - accuracy: 0.8917 - val_loss: 0.3603 - val_accuracy: 0.8760\n",
      "Epoch 19/25\n",
      "1500/1500 [==============================] - 5s 4ms/step - loss: 0.2989 - accuracy: 0.8930 - val_loss: 0.3505 - val_accuracy: 0.8755\n",
      "Epoch 20/25\n",
      "1500/1500 [==============================] - 5s 4ms/step - loss: 0.2923 - accuracy: 0.8968 - val_loss: 0.3551 - val_accuracy: 0.8780\n",
      "Epoch 21/25\n",
      "1500/1500 [==============================] - 6s 4ms/step - loss: 0.2895 - accuracy: 0.8969 - val_loss: 0.3546 - val_accuracy: 0.8746\n",
      "Epoch 22/25\n",
      "1500/1500 [==============================] - 6s 4ms/step - loss: 0.2864 - accuracy: 0.8984 - val_loss: 0.3614 - val_accuracy: 0.8750\n",
      "Epoch 23/25\n",
      "1500/1500 [==============================] - 6s 4ms/step - loss: 0.2845 - accuracy: 0.8964 - val_loss: 0.3358 - val_accuracy: 0.8820\n",
      "Epoch 24/25\n",
      "1500/1500 [==============================] - 6s 4ms/step - loss: 0.2792 - accuracy: 0.8995 - val_loss: 0.3701 - val_accuracy: 0.8739\n",
      "Epoch 25/25\n",
      "1500/1500 [==============================] - 5s 4ms/step - loss: 0.2801 - accuracy: 0.8996 - val_loss: 0.3501 - val_accuracy: 0.8774\n",
      "Calculating predictions and scores....\n",
      "Calculating predictions and scores.......................\n",
      "\n",
      "313/313 [==============================] - 1s 2ms/step\n",
      "313/313 [==============================] - 1s 3ms/step - loss: 0.3617 - accuracy: 0.8782\n",
      "Collecting outputs.......................\n",
      "\n",
      "Congratuations! All the processes are completed successfully....\n",
      "\n"
     ]
    },
    {
     "data": {
      "image/png": "[encoded data removed]",
      "text/plain": [
       "<Figure size 864x360 with 2 Axes>"
      ]
     },
     "metadata": {
      "needs_background": "light"
     },
     "output_type": "display_data"
    }
   ],
   "source": [
    "model_output3 = CNN_Model (conv_layers =  [16, 8],\n",
    "                    dense_layers = [10, 5],\n",
    "                    kernel_size = (2,2) ,\n",
    "                    input_shape = (28, 28, 1), \n",
    "                    output_dim  = 10, \n",
    "                    optimizer = 'Adam', \n",
    "                    learning_rate = 0.001,\n",
    "                    X_train = X_train,\n",
    "                    y_train = y_train,\n",
    "                    X_test = X_test,\n",
    "                    y_test =  y_test, \n",
    "                    val_split = 0.2,\n",
    "                    batch_size = 32,\n",
    "                    epochs = 25, \n",
    "                    verbose = 1\n",
    "                    )\n",
    "\n",
    "create_error_plot(model_output3['model_history'])"
   ]
  },
  {
   "cell_type": "markdown",
   "metadata": {
    "id": "ay9ugjgXXvNT"
   },
   "source": [
    "**Try 3:**"
   ]
  },
  {
   "cell_type": "code",
   "execution_count": null,
   "metadata": {
    "colab": {
     "base_uri": "https://localhost:8080/",
     "height": 593
    },
    "id": "MIofG-KXXxnd",
    "outputId": "7a9acfaa-0479-4457-e98f-02ab27bdf623"
   },
   "outputs": [
    {
     "name": "stdout",
     "output_type": "stream",
     "text": [
      "Building CNN Model.......................\n",
      "\n",
      "Fitting  CNN Model.......................\n",
      "\n",
      "1500/1500 [==============================] - 7s 4ms/step - loss: 1.8760 - accuracy: 0.2510 - val_loss: 1.5731 - val_accuracy: 0.3716\n",
      "Calculating predictions and scores....\n",
      "Calculating predictions and scores.......................\n",
      "\n",
      "313/313 [==============================] - 1s 2ms/step\n",
      "313/313 [==============================] - 1s 3ms/step - loss: 1.5867 - accuracy: 0.3711\n",
      "Collecting outputs.......................\n",
      "\n",
      "Congratuations! All the processes are completed successfully....\n",
      "\n"
     ]
    },
    {
     "data": {
      "image/png": "[encoded data removed]",
      "text/plain": [
       "<Figure size 864x360 with 2 Axes>"
      ]
     },
     "metadata": {
      "needs_background": "light"
     },
     "output_type": "display_data"
    }
   ],
   "source": [
    "model_output4 = CNN_Model (conv_layers =  [16, 8],\n",
    "                    dense_layers = [10, 5],\n",
    "                    kernel_size = (2,2) ,\n",
    "                    input_shape = (28, 28, 1), \n",
    "                    output_dim  = 10, \n",
    "                    optimizer = 'Adam', \n",
    "                    learning_rate = 0.001,\n",
    "                    X_train = X_train,\n",
    "                    y_train = y_train,\n",
    "                    X_test = X_test,\n",
    "                    y_test =  y_test, \n",
    "                    val_split = 0.2,\n",
    "                    batch_size = 32,\n",
    "                    epochs = 1, \n",
    "                    verbose = 1\n",
    "                    )\n",
    "\n",
    "create_error_plot(model_output4['model_history'])"
   ]
  },
  {
   "cell_type": "markdown",
   "metadata": {
    "id": "CZocrUMinrU7"
   },
   "source": [
    "### **Remarks:** Running about 25-50 epochs gives the best results. Both achieved an accuracy score of 87%. Running too many epochs gives unknown results due to the computers' GPU runtime. Google would crash after 80 epcochs. From what it appeared while running was that the average accuracy would be better. Running too little of epochs does not give good results."
   ]
  },
  {
   "cell_type": "markdown",
   "metadata": {
    "id": "EUKSjbG1X3DK"
   },
   "source": [
    "## **Step 5: Dealing with the Stochastic Behavior of Deep Learning Models and Checking Robustness of the Models**"
   ]
  },
  {
   "cell_type": "markdown",
   "metadata": {
    "id": "unvOiw2rYoY0"
   },
   "source": [
    "## **Multi-Run CNN Model**"
   ]
  },
  {
   "cell_type": "code",
   "execution_count": null,
   "metadata": {
    "id": "rFcAIpFk8U0p"
   },
   "outputs": [],
   "source": [
    "import pandas as pd"
   ]
  },
  {
   "cell_type": "code",
   "execution_count": null,
   "metadata": {
    "id": "cRu98VwJYKRb"
   },
   "outputs": [],
   "source": [
    "\n",
    "def Multi_Run_CNN_Model(num_replicates =  None,\n",
    "                      conv_layers = None,\n",
    "                      dense_layers =  None,\n",
    "                      kernel_size =  None,\n",
    "                      input_shape =  None,\n",
    "                      output_dim  =  None,\n",
    "                      optimizer =  None,\n",
    "                      learning_rate = None,\n",
    "                      X_train = None,\n",
    "                      y_train = None,\n",
    "                      X_test =  None, \n",
    "                      y_test =  None, \n",
    "                      val_split = None,\n",
    "                      batch_size =  None,\n",
    "                      epochs =  None,\n",
    "                      verbose =  None,\n",
    "                      ):\n",
    "  \n",
    "  \n",
    "  all_test_acc = []\n",
    "  best_test_acc = 0\n",
    "  best_replicate = None,\n",
    "  best_test_model = None, \n",
    "\n",
    "  for i in range(num_replicates):\n",
    "    print('===== Running ' + str(i) +\" replicate=======\")\n",
    "\n",
    "    model_output = CNN_Model (conv_layers = conv_layers,\n",
    "                              dense_layers = dense_layers,\n",
    "                              kernel_size = kernel_size,\n",
    "                              input_shape =input_shape,\n",
    "                              output_dim = output_dim,\n",
    "                              optimizer  =  optimizer,\n",
    "                              learning_rate= learning_rate,\n",
    "                              X_train=  X_train,\n",
    "                              y_train =  y_train,\n",
    "                              X_test = X_test,\n",
    "                              y_test =  y_test,\n",
    "                              val_split= val_split,\n",
    "                              epochs =  epochs, \n",
    "                              verbose = 1)\n",
    "    \n",
    "    all_test_acc.append(model_output['test_acc'])\n",
    "\n",
    "    if model_output['test_acc'] > best_test_acc:\n",
    "      best_test_model = model_output\n",
    "      best_replicate = i\n",
    "\n",
    "\n",
    "  avg_test_acc = np.mean(np.array(all_test_acc))\n",
    "  \n",
    "  output = {\n",
    "      'best_model':  best_test_model,\n",
    "      'best_replicate': best_replicate,\n",
    "      'all_test_acc': all_test_acc,\n",
    "      'average_test_acc': avg_test_acc\n",
    "  }\n",
    "  \n",
    "  #file_name = output_dir_path+ \"multi-run-cnn-\" + str(conv_layers) +\"-conv_layers-\"+ str(dense_layers) + \"-dense_layers-\"+ \"results\" + \".txt\"\n",
    "  #write_dic_to_file(output, file_name)\n",
    "\n",
    "  print('Avarage test accuracy: ', avg_test_acc)\n",
    "\n",
    "  #file_name = output_dir_path+ \"multi-run-cnn-\" + str(conv_layers) + \"-conv_layers-\"+ str(dense_layers) + \"-dense_layers-\"+ \"-all_accuracies-\" + \".txt\"\n",
    "  \n",
    "\n",
    "  return output"
   ]
  },
  {
   "cell_type": "code",
   "execution_count": null,
   "metadata": {
    "colab": {
     "base_uri": "https://localhost:8080/"
    },
    "id": "-C6x8gxvYKUf",
    "outputId": "a5bc6f20-5158-4d5c-becd-c51e9f292a56"
   },
   "outputs": [
    {
     "name": "stdout",
     "output_type": "stream",
     "text": [
      "===== Running 0 replicate=======\n",
      "Building CNN Model.......................\n",
      "\n",
      "Fitting  CNN Model.......................\n",
      "\n",
      "Epoch 1/25\n",
      "1500/1500 [==============================] - 7s 4ms/step - loss: 2.0374 - accuracy: 0.2552 - val_loss: 1.5373 - val_accuracy: 0.3522\n",
      "Epoch 2/25\n",
      "1500/1500 [==============================] - 6s 4ms/step - loss: 1.3324 - accuracy: 0.4454 - val_loss: 1.2195 - val_accuracy: 0.4951\n",
      "Epoch 3/25\n",
      "1500/1500 [==============================] - 5s 4ms/step - loss: 1.1745 - accuracy: 0.5036 - val_loss: 1.1465 - val_accuracy: 0.4951\n",
      "Epoch 4/25\n",
      "1500/1500 [==============================] - 6s 4ms/step - loss: 1.0853 - accuracy: 0.5504 - val_loss: 1.0653 - val_accuracy: 0.5773\n",
      "Epoch 5/25\n",
      "1500/1500 [==============================] - 7s 5ms/step - loss: 1.0239 - accuracy: 0.5871 - val_loss: 0.9913 - val_accuracy: 0.6323\n",
      "Epoch 6/25\n",
      "1500/1500 [==============================] - 6s 4ms/step - loss: 0.8040 - accuracy: 0.7140 - val_loss: 0.6854 - val_accuracy: 0.7698\n",
      "Epoch 7/25\n",
      "1500/1500 [==============================] - 6s 4ms/step - loss: 0.6193 - accuracy: 0.7766 - val_loss: 0.6504 - val_accuracy: 0.7739\n",
      "Epoch 8/25\n",
      "1500/1500 [==============================] - 6s 4ms/step - loss: 0.5634 - accuracy: 0.7933 - val_loss: 0.5842 - val_accuracy: 0.7872\n",
      "Epoch 9/25\n",
      "1500/1500 [==============================] - 6s 4ms/step - loss: 0.5322 - accuracy: 0.8026 - val_loss: 0.5585 - val_accuracy: 0.7984\n",
      "Epoch 10/25\n",
      "1500/1500 [==============================] - 6s 4ms/step - loss: 0.5098 - accuracy: 0.8077 - val_loss: 0.5572 - val_accuracy: 0.7868\n",
      "Epoch 11/25\n",
      "1500/1500 [==============================] - 6s 4ms/step - loss: 0.4915 - accuracy: 0.8159 - val_loss: 0.5143 - val_accuracy: 0.8140\n",
      "Epoch 12/25\n",
      "1500/1500 [==============================] - 6s 4ms/step - loss: 0.4755 - accuracy: 0.8200 - val_loss: 0.5094 - val_accuracy: 0.8076\n",
      "Epoch 13/25\n",
      "1500/1500 [==============================] - 6s 4ms/step - loss: 0.4666 - accuracy: 0.8244 - val_loss: 0.4946 - val_accuracy: 0.8261\n",
      "Epoch 14/25\n",
      "1500/1500 [==============================] - 6s 4ms/step - loss: 0.4557 - accuracy: 0.8310 - val_loss: 0.5109 - val_accuracy: 0.8224\n",
      "Epoch 15/25\n",
      "1500/1500 [==============================] - 6s 4ms/step - loss: 0.4466 - accuracy: 0.8334 - val_loss: 0.4907 - val_accuracy: 0.8254\n",
      "Epoch 16/25\n",
      "1500/1500 [==============================] - 6s 4ms/step - loss: 0.4391 - accuracy: 0.8395 - val_loss: 0.4873 - val_accuracy: 0.8243\n",
      "Epoch 17/25\n",
      "1500/1500 [==============================] - 6s 4ms/step - loss: 0.4328 - accuracy: 0.8410 - val_loss: 0.4886 - val_accuracy: 0.8293\n",
      "Epoch 18/25\n",
      "1500/1500 [==============================] - 5s 4ms/step - loss: 0.4236 - accuracy: 0.8459 - val_loss: 0.4951 - val_accuracy: 0.8207\n",
      "Epoch 19/25\n",
      "1500/1500 [==============================] - 6s 4ms/step - loss: 0.4203 - accuracy: 0.8490 - val_loss: 0.4669 - val_accuracy: 0.8347\n",
      "Epoch 20/25\n",
      "1500/1500 [==============================] - 6s 4ms/step - loss: 0.4149 - accuracy: 0.8511 - val_loss: 0.4670 - val_accuracy: 0.8399\n",
      "Epoch 21/25\n",
      "1500/1500 [==============================] - 6s 4ms/step - loss: 0.4068 - accuracy: 0.8548 - val_loss: 0.4641 - val_accuracy: 0.8418\n",
      "Epoch 22/25\n",
      "1500/1500 [==============================] - 6s 4ms/step - loss: 0.4035 - accuracy: 0.8580 - val_loss: 0.4608 - val_accuracy: 0.8447\n",
      "Epoch 23/25\n",
      "1500/1500 [==============================] - 6s 4ms/step - loss: 0.3962 - accuracy: 0.8609 - val_loss: 0.4617 - val_accuracy: 0.8416\n",
      "Epoch 24/25\n",
      "1500/1500 [==============================] - 5s 4ms/step - loss: 0.3938 - accuracy: 0.8631 - val_loss: 0.4592 - val_accuracy: 0.8490\n",
      "Epoch 25/25\n",
      "1500/1500 [==============================] - 6s 4ms/step - loss: 0.3883 - accuracy: 0.8644 - val_loss: 0.4506 - val_accuracy: 0.8471\n",
      "Calculating predictions and scores....\n",
      "Calculating predictions and scores.......................\n",
      "\n",
      "313/313 [==============================] - 1s 2ms/step\n",
      "313/313 [==============================] - 1s 3ms/step - loss: 0.4748 - accuracy: 0.8446\n",
      "Collecting outputs.......................\n",
      "\n",
      "Congratuations! All the processes are completed successfully....\n",
      "\n",
      "Avarage test accuracy:  0.8446000218391418\n"
     ]
    }
   ],
   "source": [
    "model_output = Multi_Run_CNN_Model(num_replicates = 1, conv_layers =  [16, 8],\n",
    "                    dense_layers = [10, 5],\n",
    "                    kernel_size = (2,2) ,\n",
    "                    input_shape = (28, 28, 1), \n",
    "                    output_dim  = 10, \n",
    "                    optimizer = 'Adam', \n",
    "                    learning_rate = 0.001,\n",
    "                    X_train = X_train,\n",
    "                    y_train = y_train,\n",
    "                    X_test = X_test,\n",
    "                    y_test =  y_test, \n",
    "                    val_split = 0.2,\n",
    "                    batch_size = 32,\n",
    "                    epochs = 25, \n",
    "                    verbose = 1\n",
    "                    )"
   ]
  },
  {
   "cell_type": "code",
   "execution_count": null,
   "metadata": {
    "colab": {
     "base_uri": "https://localhost:8080/"
    },
    "id": "N2Q5CfS4YKX2",
    "outputId": "e96eb45b-bb95-4e96-c44a-f4932022daae"
   },
   "outputs": [
    {
     "data": {
      "text/plain": [
       "{'best_model': {'model': <keras.engine.sequential.Sequential at 0x7ff2666cdc40>,\n",
       "  'model_history': <keras.callbacks.History at 0x7ff2666bb940>,\n",
       "  'test_loss': 0.4747839868068695,\n",
       "  'test_acc': 0.8446000218391418,\n",
       "  'test_predictions': array([[2.1334695e-06, 2.5577851e-11, 6.6773090e-08, ..., 5.5936854e-03,\n",
       "          1.9716792e-04, 9.8658979e-01],\n",
       "         [1.6009370e-04, 0.0000000e+00, 9.7658032e-01, ..., 0.0000000e+00,\n",
       "          1.1661052e-16, 0.0000000e+00],\n",
       "         [1.5345175e-05, 9.7991002e-01, 5.2690016e-06, ..., 6.2983228e-05,\n",
       "          2.1705935e-03, 6.3385419e-03],\n",
       "         ...,\n",
       "         [5.9995658e-10, 1.8590620e-09, 3.7063564e-06, ..., 1.0357443e-04,\n",
       "          9.9335736e-01, 5.8426954e-06],\n",
       "         [1.5345175e-05, 9.7991002e-01, 5.2690016e-06, ..., 6.2983228e-05,\n",
       "          2.1705935e-03, 6.3385419e-03],\n",
       "         [6.6359726e-14, 0.0000000e+00, 9.8340613e-14, ..., 2.2009592e-01,\n",
       "          2.6645819e-06, 1.9459218e-01]], dtype=float32)},\n",
       " 'best_replicate': 0,\n",
       " 'all_test_acc': [0.8446000218391418],\n",
       " 'average_test_acc': 0.8446000218391418}"
      ]
     },
     "execution_count": 86,
     "metadata": {},
     "output_type": "execute_result"
    }
   ],
   "source": [
    "model_output "
   ]
  },
  {
   "cell_type": "markdown",
   "metadata": {
    "id": "x_VjZQJ6-5ag"
   },
   "source": [
    "##**Saving results in files**"
   ]
  },
  {
   "cell_type": "code",
   "execution_count": null,
   "metadata": {
    "id": "YbOvp4f6YKau"
   },
   "outputs": [],
   "source": [
    "#full results \n",
    "write_dic_to_file(model_output, output_dir_path+ \"model1_full_results\" + \".txt\")\n",
    "# Test accuracies from all replicates\n",
    "pd.DataFrame(model_output['all_test_acc']).to_csv(output_dir_path+\"model1_all_test_acc.csv\")\n",
    "\n"
   ]
  },
  {
   "cell_type": "markdown",
   "metadata": {
    "id": "bRZbr40hiwWM"
   },
   "source": [
    "## **Step 6: Hyperparameter Tuning**\n"
   ]
  },
  {
   "cell_type": "markdown",
   "metadata": {
    "id": "k_W1WbEYhgXF"
   },
   "source": [
    "## **Your Tasks**"
   ]
  },
  {
   "cell_type": "markdown",
   "metadata": {
    "id": "4wffnISzcaeh"
   },
   "source": [
    "You need to tune at least the following hyperparamters parameters.\n",
    "\n",
    "- Models: [Model 1, Model 2, Model 3]\n",
    "\n",
    "    - **Model 1:  32-filters single convolutional layer and 20 neurons single dense layer CNN Model**\n",
    "\n",
    "    - **Model 2:  32-16-filters two convolutional layers and 20-10 neurons two dense layers CNN Model**\n",
    "\n",
    "    - **Model 3:  32-16-8-filters three convolutional layers and   20-10 neurons two dense layers CNN Model**\n",
    "\n",
    "\n",
    "- Options for Optimizers = ['Adam', 'Adagrad']\n",
    "\n",
    "- Options for Learning Rates  = [0.01, 0.001]\n",
    "\n",
    "- There will be total of 12 cases ( 3 x 2 x 2)\n",
    "\n",
    "- Each of the cases should be excecuted with 10 independent replicates(runs) \n",
    "\n",
    "- You are encourased to try more combinations if you want.\n",
    "\n",
    "- For each cases you need to record the value of **average test accuracy score** after 10 independent replicates.\n",
    "\n",
    "- Make a table with nice layout and record average accuracy values in each boxes. You can use latex (prefered) or word to create tables. \n",
    "\n",
    "- See the reference poster for further help. \n",
    "\n",
    "- See below one of the cases and you can do similar for other cases. \n",
    "\n",
    "- You need to pick a resonable epoch number  based on your experiment. \n",
    "\n",
    "- Once these hyper parameters are tunned, then we will re-train our models one more time with tbe best hyperpameters. \n",
    "\n",
    "\n",
    "\n",
    "\n"
   ]
  },
  {
   "cell_type": "markdown",
   "metadata": {
    "id": "Zwq_cR6TfccE"
   },
   "source": [
    "\n",
    "\n",
    "\n",
    "#### **Case I:**\n",
    "\n",
    " - conv_layers =  [32]\n",
    " - dense_layers = [20]\n",
    " - optimizer = 'Adam'\n",
    " - learning_rate = 0.01\n",
    " - num_replicagtes = 1\n",
    "\n",
    "\n",
    "You need to test similar 11 more cases..\n",
    "\n"
   ]
  },
  {
   "cell_type": "code",
   "execution_count": null,
   "metadata": {
    "colab": {
     "base_uri": "https://localhost:8080/"
    },
    "id": "i1oi5QVJmv7J",
    "outputId": "5c626bf4-f2f3-4417-c962-169ed0500da1"
   },
   "outputs": [
    {
     "name": "stdout",
     "output_type": "stream",
     "text": [
      "===== Running 0 replicate=======\n",
      "Building CNN Model.......................\n",
      "\n",
      "Fitting  CNN Model.......................\n",
      "\n",
      "Epoch 1/10\n",
      "1500/1500 [==============================] - 6s 4ms/step - loss: 2.3875 - accuracy: 0.3263 - val_loss: 0.7502 - val_accuracy: 0.7098\n",
      "Epoch 2/10\n",
      "1500/1500 [==============================] - 6s 4ms/step - loss: 0.6060 - accuracy: 0.7623 - val_loss: 0.6043 - val_accuracy: 0.7855\n",
      "Epoch 3/10\n",
      "1500/1500 [==============================] - 6s 4ms/step - loss: 0.5187 - accuracy: 0.8124 - val_loss: 0.4913 - val_accuracy: 0.8266\n",
      "Epoch 4/10\n",
      "1500/1500 [==============================] - 6s 4ms/step - loss: 0.4754 - accuracy: 0.8289 - val_loss: 0.4859 - val_accuracy: 0.8267\n",
      "Epoch 5/10\n",
      "1500/1500 [==============================] - 5s 3ms/step - loss: 0.4715 - accuracy: 0.8303 - val_loss: 0.4938 - val_accuracy: 0.8237\n",
      "Epoch 6/10\n",
      "1500/1500 [==============================] - 8s 5ms/step - loss: 0.4848 - accuracy: 0.8262 - val_loss: 0.4777 - val_accuracy: 0.8314\n",
      "Epoch 7/10\n",
      "1500/1500 [==============================] - 6s 4ms/step - loss: 0.4660 - accuracy: 0.8332 - val_loss: 0.4651 - val_accuracy: 0.8384\n",
      "Epoch 8/10\n",
      "1500/1500 [==============================] - 5s 3ms/step - loss: 0.4722 - accuracy: 0.8281 - val_loss: 0.5001 - val_accuracy: 0.8106\n",
      "Epoch 9/10\n",
      "1500/1500 [==============================] - 5s 3ms/step - loss: 0.4922 - accuracy: 0.8202 - val_loss: 0.5153 - val_accuracy: 0.8133\n",
      "Epoch 10/10\n",
      "1500/1500 [==============================] - 5s 3ms/step - loss: 0.4744 - accuracy: 0.8263 - val_loss: 0.4877 - val_accuracy: 0.8202\n",
      "Calculating predictions and scores....\n",
      "Calculating predictions and scores.......................\n",
      "\n",
      "313/313 [==============================] - 1s 4ms/step\n",
      "313/313 [==============================] - 1s 3ms/step - loss: 0.5120 - accuracy: 0.8134\n",
      "Collecting outputs.......................\n",
      "\n",
      "Congratuations! All the processes are completed successfully....\n",
      "\n",
      "Avarage test accuracy:  0.8133999705314636\n",
      "{'best_model': {'model': <keras.engine.sequential.Sequential object at 0x7ff27c1eebe0>, 'model_history': <keras.callbacks.History object at 0x7ff2e69cd460>, 'test_loss': 0.511965811252594, 'test_acc': 0.8133999705314636, 'test_predictions': array([[2.12218548e-14, 1.11252045e-17, 8.37684385e-20, ...,\n",
      "        8.08603596e-03, 4.77129758e-09, 9.90105093e-01],\n",
      "       [3.37956026e-02, 3.02824471e-03, 9.56826150e-01, ...,\n",
      "        2.51359378e-15, 9.22974286e-05, 6.63834439e-12],\n",
      "       [1.63998338e-05, 9.99325633e-01, 6.57227240e-04, ...,\n",
      "        5.59002609e-19, 7.29095895e-09, 1.09343441e-19],\n",
      "       ...,\n",
      "       [2.37421036e-01, 1.50522634e-08, 9.48359400e-08, ...,\n",
      "        5.23513149e-19, 7.62121022e-01, 1.42248463e-13],\n",
      "       [3.02923272e-05, 9.23079610e-01, 1.46901430e-05, ...,\n",
      "        7.73380364e-08, 2.85297097e-06, 4.03111789e-14],\n",
      "       [4.24953818e-04, 3.29178874e-05, 9.30803890e-06, ...,\n",
      "        2.52806127e-01, 2.66565263e-01, 3.55328992e-03]], dtype=float32)}, 'best_replicate': 0, 'all_test_acc': [0.8133999705314636], 'average_test_acc': 0.8133999705314636}\n"
     ]
    }
   ],
   "source": [
    "case1_model_output = Multi_Run_CNN_Model(num_replicates = 1,\n",
    "                                   conv_layers =  [32],\n",
    "                                   dense_layers = [20],\n",
    "                                   kernel_size = (2,2) ,\n",
    "                                   input_shape = (28, 28, 1), \n",
    "                                    output_dim  = 10, \n",
    "                                    optimizer = 'Adam', \n",
    "                                    learning_rate = 0.01,\n",
    "                                    X_train = X_train,\n",
    "                                    y_train = y_train,\n",
    "                                    X_test = X_test,\n",
    "                                    y_test =  y_test, \n",
    "                                    val_split = 0.2,\n",
    "                                    batch_size = 32,\n",
    "                                    epochs = 10, #To save time\n",
    "                                    verbose = 1\n",
    "                                    )\n",
    "\n",
    "\n",
    "#full results \n",
    "write_dic_to_file(case1_model_output, output_dir_path+ \"case1_hyperparameter_tuning_results\" + \".txt\")\n",
    "\n",
    "print(case1_model_output)"
   ]
  },
  {
   "cell_type": "markdown",
   "metadata": {
    "id": "pCYMk-G5YURv"
   },
   "source": [
    "\n",
    "\n",
    "#### **Case II:**\n",
    "\n",
    " - conv_layers =  [32]\n",
    " - dense_layers = [20]\n",
    " - optimizer = 'Adam'\n",
    " - learning_rate = 0.001\n",
    " - num_replicagtes = 1"
   ]
  },
  {
   "cell_type": "code",
   "execution_count": null,
   "metadata": {
    "colab": {
     "base_uri": "https://localhost:8080/"
    },
    "id": "MiZ1Q5CzXngo",
    "outputId": "4d46aad3-ff44-4ba8-f364-de44ac9b755a"
   },
   "outputs": [
    {
     "name": "stdout",
     "output_type": "stream",
     "text": [
      "===== Running 0 replicate=======\n",
      "Building CNN Model.......................\n",
      "\n",
      "Fitting  CNN Model.......................\n",
      "\n",
      "Epoch 1/10\n",
      "1500/1500 [==============================] - 5s 3ms/step - loss: 2.4294 - accuracy: 0.0971 - val_loss: 2.3027 - val_accuracy: 0.0983\n",
      "Epoch 2/10\n",
      "1500/1500 [==============================] - 6s 4ms/step - loss: 2.3028 - accuracy: 0.0970 - val_loss: 2.3027 - val_accuracy: 0.0957\n",
      "Epoch 3/10\n",
      "1500/1500 [==============================] - 5s 3ms/step - loss: 2.3028 - accuracy: 0.0977 - val_loss: 2.3027 - val_accuracy: 0.0983\n",
      "Epoch 4/10\n",
      "1500/1500 [==============================] - 6s 4ms/step - loss: 2.3027 - accuracy: 0.1004 - val_loss: 2.3028 - val_accuracy: 0.0983\n",
      "Epoch 5/10\n",
      "1500/1500 [==============================] - 9s 6ms/step - loss: 2.3028 - accuracy: 0.0981 - val_loss: 2.3027 - val_accuracy: 0.0957\n",
      "Epoch 6/10\n",
      "1500/1500 [==============================] - 6s 4ms/step - loss: 2.3027 - accuracy: 0.0984 - val_loss: 2.3027 - val_accuracy: 0.1003\n",
      "Epoch 7/10\n",
      "1500/1500 [==============================] - 6s 4ms/step - loss: 2.3028 - accuracy: 0.0987 - val_loss: 2.3028 - val_accuracy: 0.0995\n",
      "Epoch 8/10\n",
      "1500/1500 [==============================] - 7s 4ms/step - loss: 2.3027 - accuracy: 0.0991 - val_loss: 2.3026 - val_accuracy: 0.1030\n",
      "Epoch 9/10\n",
      "1500/1500 [==============================] - 7s 5ms/step - loss: 2.3028 - accuracy: 0.0980 - val_loss: 2.3027 - val_accuracy: 0.1005\n",
      "Epoch 10/10\n",
      "1500/1500 [==============================] - 6s 4ms/step - loss: 2.3027 - accuracy: 0.0988 - val_loss: 2.3026 - val_accuracy: 0.1030\n",
      "Calculating predictions and scores....\n",
      "Calculating predictions and scores.......................\n",
      "\n",
      "313/313 [==============================] - 1s 2ms/step\n",
      "313/313 [==============================] - 1s 3ms/step - loss: 2.3026 - accuracy: 0.1000\n",
      "Collecting outputs.......................\n",
      "\n",
      "Congratuations! All the processes are completed successfully....\n",
      "\n",
      "Avarage test accuracy:  0.10000000149011612\n",
      "{'best_model': {'model': <keras.engine.sequential.Sequential object at 0x7ff27c1058e0>, 'model_history': <keras.callbacks.History object at 0x7ff27c231ac0>, 'test_loss': 2.302647352218628, 'test_acc': 0.10000000149011612, 'test_predictions': array([[0.10136065, 0.09817112, 0.10009041, ..., 0.10061226, 0.10034621,\n",
      "        0.10072172],\n",
      "       [0.10136065, 0.09817112, 0.10009041, ..., 0.10061226, 0.10034621,\n",
      "        0.10072172],\n",
      "       [0.10136065, 0.09817112, 0.10009041, ..., 0.10061226, 0.10034621,\n",
      "        0.10072172],\n",
      "       ...,\n",
      "       [0.10136065, 0.09817112, 0.10009041, ..., 0.10061226, 0.10034621,\n",
      "        0.10072172],\n",
      "       [0.10136065, 0.09817112, 0.10009041, ..., 0.10061226, 0.10034621,\n",
      "        0.10072172],\n",
      "       [0.10136065, 0.09817112, 0.10009041, ..., 0.10061226, 0.10034621,\n",
      "        0.10072172]], dtype=float32)}, 'best_replicate': 0, 'all_test_acc': [0.10000000149011612], 'average_test_acc': 0.10000000149011612}\n"
     ]
    }
   ],
   "source": [
    "case2_model_output = Multi_Run_CNN_Model(num_replicates = 1,\n",
    "                                   conv_layers =  [32],\n",
    "                                   dense_layers = [20],\n",
    "                                   kernel_size = (2,2) ,\n",
    "                                   input_shape = (28, 28, 1), \n",
    "                                    output_dim  = 10, \n",
    "                                    optimizer = 'Adam', \n",
    "                                    learning_rate = 0.001,\n",
    "                                    X_train = X_train,\n",
    "                                    y_train = y_train,\n",
    "                                    X_test = X_test,\n",
    "                                    y_test =  y_test, \n",
    "                                    val_split = 0.2,\n",
    "                                    batch_size = 32,\n",
    "                                    epochs = 10, \n",
    "                                    verbose = 1\n",
    "                                    )\n",
    "\n",
    "\n",
    "#full results \n",
    "write_dic_to_file(case2_model_output, output_dir_path+ \"case2_hyperparameter_tuning_results\" + \".txt\")\n",
    "print(case2_model_output)"
   ]
  },
  {
   "cell_type": "markdown",
   "metadata": {
    "id": "4yhL7rV9Y1-O"
   },
   "source": [
    "\n",
    "\n",
    "#### **Case III:**\n",
    "\n",
    " - conv_layers =  [32]\n",
    " - dense_layers = [20]\n",
    " - optimizer = 'Adagrad'\n",
    " - learning_rate = 0.01\n",
    " - num_replicagtes = 10"
   ]
  },
  {
   "cell_type": "code",
   "execution_count": null,
   "metadata": {
    "colab": {
     "base_uri": "https://localhost:8080/"
    },
    "id": "SCP0-WayY4f7",
    "outputId": "7ff5b197-6611-403e-bd2b-ec3b6fd0517a"
   },
   "outputs": [
    {
     "name": "stdout",
     "output_type": "stream",
     "text": [
      "===== Running 0 replicate=======\n",
      "Building CNN Model.......................\n",
      "\n",
      "Fitting  CNN Model.......................\n",
      "\n",
      "Epoch 1/10\n",
      "1500/1500 [==============================] - 6s 4ms/step - loss: 2.4312 - accuracy: 0.2909 - val_loss: 1.5931 - val_accuracy: 0.3898\n",
      "Epoch 2/10\n",
      "1500/1500 [==============================] - 6s 4ms/step - loss: 1.5159 - accuracy: 0.4272 - val_loss: 1.4229 - val_accuracy: 0.4705\n",
      "Epoch 3/10\n",
      "1500/1500 [==============================] - 5s 3ms/step - loss: 1.1812 - accuracy: 0.5762 - val_loss: 1.1148 - val_accuracy: 0.5875\n",
      "Epoch 4/10\n",
      "1500/1500 [==============================] - 6s 4ms/step - loss: 1.0369 - accuracy: 0.6266 - val_loss: 1.0248 - val_accuracy: 0.6382\n",
      "Epoch 5/10\n",
      "1500/1500 [==============================] - 6s 4ms/step - loss: 0.9612 - accuracy: 0.6512 - val_loss: 0.9885 - val_accuracy: 0.6378\n",
      "Epoch 6/10\n",
      "1500/1500 [==============================] - 6s 4ms/step - loss: 0.9168 - accuracy: 0.6605 - val_loss: 0.9332 - val_accuracy: 0.6502\n",
      "Epoch 7/10\n",
      "1500/1500 [==============================] - 5s 4ms/step - loss: 0.8772 - accuracy: 0.6710 - val_loss: 0.8919 - val_accuracy: 0.6741\n",
      "Epoch 8/10\n",
      "1500/1500 [==============================] - 5s 3ms/step - loss: 0.8425 - accuracy: 0.6790 - val_loss: 0.8764 - val_accuracy: 0.6700\n",
      "Epoch 9/10\n",
      "1500/1500 [==============================] - 5s 3ms/step - loss: 0.8154 - accuracy: 0.6860 - val_loss: 0.8505 - val_accuracy: 0.6825\n",
      "Epoch 10/10\n",
      "1500/1500 [==============================] - 6s 4ms/step - loss: 0.7920 - accuracy: 0.6919 - val_loss: 0.8459 - val_accuracy: 0.6788\n",
      "Calculating predictions and scores....\n",
      "Calculating predictions and scores.......................\n",
      "\n",
      "313/313 [==============================] - 1s 2ms/step\n",
      "313/313 [==============================] - 1s 3ms/step - loss: 0.8767 - accuracy: 0.6786\n",
      "Collecting outputs.......................\n",
      "\n",
      "Congratuations! All the processes are completed successfully....\n",
      "\n",
      "Avarage test accuracy:  0.678600013256073\n",
      "{'best_model': {'model': <keras.engine.sequential.Sequential object at 0x7ff2e15090d0>, 'model_history': <keras.callbacks.History object at 0x7ff2e1cb1f10>, 'test_loss': 0.876675009727478, 'test_acc': 0.678600013256073, 'test_predictions': array([[5.2447682e-09, 1.6222524e-08, 8.4935558e-13, ..., 7.0190236e-02,\n",
      "        3.6666261e-08, 9.2980975e-01],\n",
      "       [2.1072030e-01, 2.5363283e-02, 2.2991110e-01, ..., 6.4013779e-02,\n",
      "        5.4241452e-02, 1.8818442e-02],\n",
      "       [8.6389917e-22, 9.9137926e-01, 8.2592115e-23, ..., 3.3232484e-18,\n",
      "        4.0793035e-24, 4.1752309e-23],\n",
      "       ...,\n",
      "       [2.5109938e-07, 8.3992928e-09, 4.0858101e-14, ..., 6.6520341e-05,\n",
      "        9.8687208e-01, 1.0455833e-02],\n",
      "       [9.1198668e-19, 9.8147076e-01, 1.2193581e-19, ..., 9.5481884e-16,\n",
      "        7.4702067e-21, 4.7966905e-20],\n",
      "       [4.6028144e-13, 4.3272532e-09, 1.5355366e-06, ..., 4.3520377e-08,\n",
      "        2.4705005e-16, 1.0158232e-12]], dtype=float32)}, 'best_replicate': 0, 'all_test_acc': [0.678600013256073], 'average_test_acc': 0.678600013256073}\n"
     ]
    }
   ],
   "source": [
    "case3_model_output = Multi_Run_CNN_Model(num_replicates = 1,\n",
    "                                    conv_layers =  [32],\n",
    "                                    dense_layers = [20],\n",
    "                                    kernel_size = (2,2) ,\n",
    "                                    input_shape = (28, 28, 1), \n",
    "                                    output_dim  = 10, \n",
    "                                    optimizer = 'Adagrad', \n",
    "                                    learning_rate = 0.01,\n",
    "                                    X_train = X_train,\n",
    "                                    y_train = y_train,\n",
    "                                    X_test = X_test,\n",
    "                                    y_test =  y_test, \n",
    "                                    val_split = 0.2,\n",
    "                                    batch_size = 32,\n",
    "                                    epochs = 10, \n",
    "                                    verbose = 1\n",
    "                                    )\n",
    "\n",
    "\n",
    "#full results \n",
    "write_dic_to_file(case3_model_output, output_dir_path+ \"case3_hyperparameter_tuning_results\" + \".txt\")\n",
    "print(case3_model_output)"
   ]
  },
  {
   "cell_type": "markdown",
   "metadata": {
    "id": "Ks_mI_RbZLwh"
   },
   "source": [
    "\n",
    "#### **Case IV:**\n",
    "\n",
    " - conv_layers =  [32]\n",
    " - dense_layers = [20]\n",
    " - optimizer = 'Adagrad'\n",
    " - learning_rate = 0.001\n",
    " - num_replicagtes = 10"
   ]
  },
  {
   "cell_type": "code",
   "execution_count": null,
   "metadata": {
    "colab": {
     "base_uri": "https://localhost:8080/"
    },
    "id": "KRl5dsCXZQdQ",
    "outputId": "ab4f08fd-7c79-4b66-edfb-3df3dbb1a562"
   },
   "outputs": [
    {
     "name": "stdout",
     "output_type": "stream",
     "text": [
      "===== Running 0 replicate=======\n",
      "Building CNN Model.......................\n",
      "\n",
      "Fitting  CNN Model.......................\n",
      "\n",
      "Epoch 1/10\n",
      "1500/1500 [==============================] - 6s 4ms/step - loss: 1.7989 - accuracy: 0.3569 - val_loss: 1.3081 - val_accuracy: 0.4978\n",
      "Epoch 2/10\n",
      "1500/1500 [==============================] - 5s 4ms/step - loss: 1.1771 - accuracy: 0.5742 - val_loss: 1.0751 - val_accuracy: 0.6383\n",
      "Epoch 3/10\n",
      "1500/1500 [==============================] - 5s 3ms/step - loss: 0.9807 - accuracy: 0.6555 - val_loss: 0.9373 - val_accuracy: 0.6602\n",
      "Epoch 4/10\n",
      "1500/1500 [==============================] - 5s 4ms/step - loss: 0.8611 - accuracy: 0.7166 - val_loss: 0.8688 - val_accuracy: 0.7548\n",
      "Epoch 5/10\n",
      "1500/1500 [==============================] - 5s 3ms/step - loss: 0.7732 - accuracy: 0.7677 - val_loss: 0.7650 - val_accuracy: 0.7740\n",
      "Epoch 6/10\n",
      "1500/1500 [==============================] - 5s 3ms/step - loss: 0.7081 - accuracy: 0.7789 - val_loss: 0.7207 - val_accuracy: 0.7790\n",
      "Epoch 7/10\n",
      "1500/1500 [==============================] - 5s 3ms/step - loss: 0.6631 - accuracy: 0.7865 - val_loss: 0.7024 - val_accuracy: 0.7793\n",
      "Epoch 8/10\n",
      "1500/1500 [==============================] - 5s 4ms/step - loss: 0.6285 - accuracy: 0.7922 - val_loss: 0.6511 - val_accuracy: 0.7962\n",
      "Epoch 9/10\n",
      "1500/1500 [==============================] - 5s 3ms/step - loss: 0.6024 - accuracy: 0.7983 - val_loss: 0.6316 - val_accuracy: 0.7957\n",
      "Epoch 10/10\n",
      "1500/1500 [==============================] - 5s 4ms/step - loss: 0.5825 - accuracy: 0.8010 - val_loss: 0.6175 - val_accuracy: 0.7974\n",
      "Calculating predictions and scores....\n",
      "Calculating predictions and scores.......................\n",
      "\n",
      "313/313 [==============================] - 1s 2ms/step\n",
      "313/313 [==============================] - 1s 3ms/step - loss: 0.6355 - accuracy: 0.7923\n",
      "Collecting outputs.......................\n",
      "\n",
      "Congratuations! All the processes are completed successfully....\n",
      "\n",
      "Avarage test accuracy:  0.7922999858856201\n",
      "{'best_model': {'model': <keras.engine.sequential.Sequential object at 0x7ff2e1bf2580>, 'model_history': <keras.callbacks.History object at 0x7ff27c3a1910>, 'test_loss': 0.6355318427085876, 'test_acc': 0.7922999858856201, 'test_predictions': array([[7.5794208e-07, 6.5628526e-05, 1.8642392e-14, ..., 3.6538058e-04,\n",
      "        5.9740778e-08, 9.7561002e-01],\n",
      "       [3.4022249e-09, 7.4956229e-18, 7.2652078e-01, ..., 1.6226841e-15,\n",
      "        1.5627447e-04, 2.7048612e-19],\n",
      "       [2.6514857e-05, 9.9997354e-01, 1.0365199e-32, ..., 2.7554255e-17,\n",
      "        6.2797378e-11, 1.6148432e-13],\n",
      "       ...,\n",
      "       [7.1838633e-07, 3.6593178e-07, 1.0405411e-07, ..., 5.6827762e-06,\n",
      "        9.9831820e-01, 1.1356588e-03],\n",
      "       [1.4805056e-06, 9.9999833e-01, 2.3281365e-30, ..., 5.3534583e-14,\n",
      "        1.3448715e-09, 1.6471731e-10],\n",
      "       [5.3228217e-07, 6.2874897e-05, 2.4766384e-09, ..., 1.0165947e-03,\n",
      "        3.1402379e-03, 3.1491973e-02]], dtype=float32)}, 'best_replicate': 0, 'all_test_acc': [0.7922999858856201], 'average_test_acc': 0.7922999858856201}\n"
     ]
    }
   ],
   "source": [
    "case4_model_output = Multi_Run_CNN_Model(num_replicates = 1,\n",
    "                                    conv_layers =  [32],\n",
    "                                    dense_layers = [20],\n",
    "                                    kernel_size = (2,2) ,\n",
    "                                    input_shape = (28, 28, 1), \n",
    "                                    output_dim  = 10, \n",
    "                                    optimizer = 'Adagrad', \n",
    "                                    learning_rate = 0.001,\n",
    "                                    X_train = X_train,\n",
    "                                    y_train = y_train,\n",
    "                                    X_test = X_test,\n",
    "                                    y_test =  y_test, \n",
    "                                    val_split = 0.2,\n",
    "                                    batch_size = 32,\n",
    "                                    epochs = 10, \n",
    "                                    verbose = 1\n",
    "                                    )\n",
    "\n",
    "\n",
    "#full results \n",
    "write_dic_to_file(case4_model_output, output_dir_path+ \"case4_hyperparameter_tuning_results\" + \".txt\")\n",
    "print(case4_model_output)\n",
    "\n"
   ]
  },
  {
   "cell_type": "markdown",
   "metadata": {
    "id": "f13l9mdOZf61"
   },
   "source": [
    "\n",
    "#### **Case V:**\n",
    "\n",
    " - conv_layers =  [32, 16]\n",
    " - dense_layers = [20, 10]\n",
    " - optimizer = 'Adam'\n",
    " - learning_rate = 0.01\n",
    " - num_replicagtes = 10"
   ]
  },
  {
   "cell_type": "code",
   "execution_count": null,
   "metadata": {
    "colab": {
     "base_uri": "https://localhost:8080/"
    },
    "id": "HL_nU_TTZpx3",
    "outputId": "07502e24-c471-438e-d6a1-7ea84f71f04d"
   },
   "outputs": [
    {
     "name": "stdout",
     "output_type": "stream",
     "text": [
      "===== Running 0 replicate=======\n",
      "Building CNN Model.......................\n",
      "\n",
      "Fitting  CNN Model.......................\n",
      "\n",
      "Epoch 1/10\n",
      "1500/1500 [==============================] - 7s 4ms/step - loss: 0.7192 - accuracy: 0.7396 - val_loss: 0.5476 - val_accuracy: 0.8027\n",
      "Epoch 2/10\n",
      "1500/1500 [==============================] - 6s 4ms/step - loss: 0.5109 - accuracy: 0.8143 - val_loss: 0.4806 - val_accuracy: 0.8349\n",
      "Epoch 3/10\n",
      "1500/1500 [==============================] - 6s 4ms/step - loss: 0.4805 - accuracy: 0.8301 - val_loss: 0.4669 - val_accuracy: 0.8362\n",
      "Epoch 4/10\n",
      "1500/1500 [==============================] - 5s 4ms/step - loss: 0.4757 - accuracy: 0.8352 - val_loss: 0.4757 - val_accuracy: 0.8332\n",
      "Epoch 5/10\n",
      "1500/1500 [==============================] - 6s 4ms/step - loss: 0.4717 - accuracy: 0.8351 - val_loss: 0.4508 - val_accuracy: 0.8431\n",
      "Epoch 6/10\n",
      "1500/1500 [==============================] - 6s 4ms/step - loss: 0.4529 - accuracy: 0.8428 - val_loss: 0.4842 - val_accuracy: 0.8278\n",
      "Epoch 7/10\n",
      "1500/1500 [==============================] - 6s 4ms/step - loss: 0.4803 - accuracy: 0.8351 - val_loss: 0.4706 - val_accuracy: 0.8412\n",
      "Epoch 8/10\n",
      "1500/1500 [==============================] - 5s 4ms/step - loss: 0.4420 - accuracy: 0.8465 - val_loss: 0.4375 - val_accuracy: 0.8466\n",
      "Epoch 9/10\n",
      "1500/1500 [==============================] - 5s 4ms/step - loss: 0.4372 - accuracy: 0.8480 - val_loss: 0.4651 - val_accuracy: 0.8432\n",
      "Epoch 10/10\n",
      "1500/1500 [==============================] - 6s 4ms/step - loss: 0.4299 - accuracy: 0.8486 - val_loss: 0.4427 - val_accuracy: 0.8459\n",
      "Calculating predictions and scores....\n",
      "Calculating predictions and scores.......................\n",
      "\n",
      "313/313 [==============================] - 1s 2ms/step\n",
      "313/313 [==============================] - 1s 3ms/step - loss: 0.4653 - accuracy: 0.8417\n",
      "Collecting outputs.......................\n",
      "\n",
      "Congratuations! All the processes are completed successfully....\n",
      "\n",
      "Avarage test accuracy:  0.84170001745224\n",
      "{'best_model': {'model': <keras.engine.sequential.Sequential object at 0x7ff27c218f70>, 'model_history': <keras.callbacks.History object at 0x7ff27c2246d0>, 'test_loss': 0.46531376242637634, 'test_acc': 0.84170001745224, 'test_predictions': array([[1.5719865e-11, 1.9769961e-15, 3.4643089e-14, ..., 2.5360741e-02,\n",
      "        7.3707476e-08, 9.7212040e-01],\n",
      "       [1.2074637e-04, 2.0000691e-08, 9.5144778e-01, ..., 8.0697952e-28,\n",
      "        9.4950747e-06, 3.3546626e-20],\n",
      "       [1.1554926e-08, 9.9759537e-01, 3.8639314e-09, ..., 3.0628293e-29,\n",
      "        2.6274108e-08, 1.8932744e-25],\n",
      "       ...,\n",
      "       [1.2721545e-12, 2.6954490e-15, 9.7565041e-15, ..., 3.2170672e-10,\n",
      "        9.9999917e-01, 3.3450982e-07],\n",
      "       [5.5957246e-13, 9.9993873e-01, 1.2974237e-13, ..., 0.0000000e+00,\n",
      "        2.6999158e-12, 2.0165140e-37],\n",
      "       [9.1671599e-03, 2.5337603e-04, 4.0927948e-04, ..., 5.3633058e-01,\n",
      "        5.9387349e-02, 3.2666776e-02]], dtype=float32)}, 'best_replicate': 0, 'all_test_acc': [0.84170001745224], 'average_test_acc': 0.84170001745224}\n"
     ]
    }
   ],
   "source": [
    "case5_model_output = Multi_Run_CNN_Model(num_replicates = 1,\n",
    "                                    conv_layers =  [32, 16],\n",
    "                                    dense_layers = [20, 10],\n",
    "                                    kernel_size = (2,2) ,\n",
    "                                    input_shape = (28, 28, 1), \n",
    "                                    output_dim  = 10, \n",
    "                                    optimizer = 'Adam', \n",
    "                                    learning_rate = 0.01,\n",
    "                                    X_train = X_train,\n",
    "                                    y_train = y_train,\n",
    "                                    X_test = X_test,\n",
    "                                    y_test =  y_test, \n",
    "                                    val_split = 0.2,\n",
    "                                    batch_size = 32,\n",
    "                                    epochs = 10, \n",
    "                                    verbose = 1\n",
    "                                    )\n",
    "\n",
    "\n",
    "#full results \n",
    "write_dic_to_file(case5_model_output, output_dir_path+ \"case5_hyperparameter_tuning_results\" + \".txt\")\n",
    "print(case5_model_output)\n",
    "\n"
   ]
  },
  {
   "cell_type": "markdown",
   "metadata": {
    "id": "mwBVnzY4aFqw"
   },
   "source": [
    "\n",
    "#### **Case VI:**\n",
    "\n",
    " - conv_layers =  [32, 16]\n",
    " - dense_layers = [20, 10]\n",
    " - optimizer = 'Adam'\n",
    " - learning_rate = 0.001\n",
    " - num_replicagtes = 10"
   ]
  },
  {
   "cell_type": "code",
   "execution_count": null,
   "metadata": {
    "colab": {
     "base_uri": "https://localhost:8080/"
    },
    "id": "7IRpZ9vgaKPa",
    "outputId": "7128840e-bfc7-4646-badd-3b61e949feca"
   },
   "outputs": [
    {
     "name": "stdout",
     "output_type": "stream",
     "text": [
      "===== Running 0 replicate=======\n",
      "Building CNN Model.......................\n",
      "\n",
      "Fitting  CNN Model.......................\n",
      "\n",
      "Epoch 1/10\n",
      "1500/1500 [==============================] - 7s 4ms/step - loss: 1.1364 - accuracy: 0.6067 - val_loss: 0.6691 - val_accuracy: 0.7999\n",
      "Epoch 2/10\n",
      "1500/1500 [==============================] - 6s 4ms/step - loss: 0.5535 - accuracy: 0.8295 - val_loss: 0.5120 - val_accuracy: 0.8300\n",
      "Epoch 3/10\n",
      "1500/1500 [==============================] - 6s 4ms/step - loss: 0.4329 - accuracy: 0.8582 - val_loss: 0.4122 - val_accuracy: 0.8608\n",
      "Epoch 4/10\n",
      "1500/1500 [==============================] - 6s 4ms/step - loss: 0.3671 - accuracy: 0.8727 - val_loss: 0.3632 - val_accuracy: 0.8745\n",
      "Epoch 5/10\n",
      "1500/1500 [==============================] - 6s 4ms/step - loss: 0.3313 - accuracy: 0.8812 - val_loss: 0.3501 - val_accuracy: 0.8773\n",
      "Epoch 6/10\n",
      "1500/1500 [==============================] - 6s 4ms/step - loss: 0.3079 - accuracy: 0.8894 - val_loss: 0.3495 - val_accuracy: 0.8758\n",
      "Epoch 7/10\n",
      "1500/1500 [==============================] - 6s 4ms/step - loss: 0.2939 - accuracy: 0.8940 - val_loss: 0.3412 - val_accuracy: 0.8817\n",
      "Epoch 8/10\n",
      "1500/1500 [==============================] - 6s 4ms/step - loss: 0.2798 - accuracy: 0.8996 - val_loss: 0.3356 - val_accuracy: 0.8838\n",
      "Epoch 9/10\n",
      "1500/1500 [==============================] - 6s 4ms/step - loss: 0.2715 - accuracy: 0.9022 - val_loss: 0.3213 - val_accuracy: 0.8898\n",
      "Epoch 10/10\n",
      "1500/1500 [==============================] - 6s 4ms/step - loss: 0.2608 - accuracy: 0.9074 - val_loss: 0.3171 - val_accuracy: 0.8943\n",
      "Calculating predictions and scores....\n",
      "Calculating predictions and scores.......................\n",
      "\n",
      "313/313 [==============================] - 1s 2ms/step\n",
      "313/313 [==============================] - 1s 3ms/step - loss: 0.3356 - accuracy: 0.8897\n",
      "Collecting outputs.......................\n",
      "\n",
      "Congratuations! All the processes are completed successfully....\n",
      "\n",
      "Avarage test accuracy:  0.8896999955177307\n",
      "{'best_model': {'model': <keras.engine.sequential.Sequential object at 0x7ff2e1c70a90>, 'model_history': <keras.callbacks.History object at 0x7ff27c3ec5e0>, 'test_loss': 0.3355848789215088, 'test_acc': 0.8896999955177307, 'test_predictions': array([[3.3186469e-25, 3.1800948e-28, 3.0072491e-28, ..., 4.8967765e-04,\n",
      "        3.6178910e-10, 9.9946231e-01],\n",
      "       [8.3793470e-09, 1.6184769e-15, 9.9994481e-01, ..., 1.3890964e-15,\n",
      "        6.0991113e-07, 1.8240899e-13],\n",
      "       [1.6090232e-07, 9.9999154e-01, 3.6057461e-08, ..., 1.6710383e-07,\n",
      "        2.9131590e-07, 3.4981653e-07],\n",
      "       ...,\n",
      "       [9.3675725e-09, 1.4447744e-24, 2.6882933e-15, ..., 1.3056974e-10,\n",
      "        9.9999201e-01, 4.5186025e-12],\n",
      "       [2.3567609e-06, 9.9993801e-01, 3.2486176e-07, ..., 1.3650739e-06,\n",
      "        2.2042682e-06, 4.4614576e-06],\n",
      "       [7.8649185e-09, 2.3638090e-18, 2.5228367e-10, ..., 2.7856171e-01,\n",
      "        8.4955995e-05, 7.0637296e-04]], dtype=float32)}, 'best_replicate': 0, 'all_test_acc': [0.8896999955177307], 'average_test_acc': 0.8896999955177307}\n"
     ]
    }
   ],
   "source": [
    "case6_model_output = Multi_Run_CNN_Model(num_replicates = 1,\n",
    "                                    conv_layers =  [32, 16],\n",
    "                                    dense_layers = [20, 10],\n",
    "                                    kernel_size = (2,2) ,\n",
    "                                    input_shape = (28, 28, 1), \n",
    "                                    output_dim  = 10, \n",
    "                                    optimizer = 'Adam', \n",
    "                                    learning_rate = 0.001,\n",
    "                                    X_train = X_train,\n",
    "                                    y_train = y_train,\n",
    "                                    X_test = X_test,\n",
    "                                    y_test =  y_test, \n",
    "                                    val_split = 0.2,\n",
    "                                    batch_size = 32,\n",
    "                                    epochs = 10, \n",
    "                                    verbose = 1\n",
    "                                    )\n",
    "\n",
    "\n",
    "#full results \n",
    "write_dic_to_file(case6_model_output, output_dir_path+ \"case6_hyperparameter_tuning_results\" + \".txt\")\n",
    "\n",
    "print(case6_model_output)"
   ]
  },
  {
   "cell_type": "markdown",
   "metadata": {
    "id": "keVMCR5saZzQ"
   },
   "source": [
    "#### **Case VII:**\n",
    "\n",
    " - conv_layers =  [32, 16]\n",
    " - dense_layers = [20, 10]\n",
    " - optimizer = 'Adagrad'\n",
    " - learning_rate = 0.01\n",
    " - num_replicagtes = 10"
   ]
  },
  {
   "cell_type": "code",
   "execution_count": null,
   "metadata": {
    "colab": {
     "base_uri": "https://localhost:8080/"
    },
    "id": "-Kalk_MRaeyS",
    "outputId": "c5966d90-69ea-4611-8373-865a2d1381fc"
   },
   "outputs": [
    {
     "name": "stdout",
     "output_type": "stream",
     "text": [
      "===== Running 0 replicate=======\n",
      "Building CNN Model.......................\n",
      "\n",
      "Fitting  CNN Model.......................\n",
      "\n",
      "Epoch 1/10\n",
      "1500/1500 [==============================] - 7s 4ms/step - loss: 0.8494 - accuracy: 0.7249 - val_loss: 0.5070 - val_accuracy: 0.8240\n",
      "Epoch 2/10\n",
      "1500/1500 [==============================] - 6s 4ms/step - loss: 0.4478 - accuracy: 0.8441 - val_loss: 0.4251 - val_accuracy: 0.8497\n",
      "Epoch 3/10\n",
      "1500/1500 [==============================] - 5s 4ms/step - loss: 0.3906 - accuracy: 0.8647 - val_loss: 0.3931 - val_accuracy: 0.8623\n",
      "Epoch 4/10\n",
      "1500/1500 [==============================] - 5s 4ms/step - loss: 0.3607 - accuracy: 0.8744 - val_loss: 0.3796 - val_accuracy: 0.8653\n",
      "Epoch 5/10\n",
      "1500/1500 [==============================] - 6s 4ms/step - loss: 0.3416 - accuracy: 0.8800 - val_loss: 0.3639 - val_accuracy: 0.8722\n",
      "Epoch 6/10\n",
      "1500/1500 [==============================] - 6s 4ms/step - loss: 0.3258 - accuracy: 0.8857 - val_loss: 0.3615 - val_accuracy: 0.8746\n",
      "Epoch 7/10\n",
      "1500/1500 [==============================] - 6s 4ms/step - loss: 0.3140 - accuracy: 0.8885 - val_loss: 0.3542 - val_accuracy: 0.8748\n",
      "Epoch 8/10\n",
      "1500/1500 [==============================] - 5s 4ms/step - loss: 0.3037 - accuracy: 0.8925 - val_loss: 0.3452 - val_accuracy: 0.8788\n",
      "Epoch 9/10\n",
      "1500/1500 [==============================] - 6s 4ms/step - loss: 0.2941 - accuracy: 0.8950 - val_loss: 0.3404 - val_accuracy: 0.8798\n",
      "Epoch 10/10\n",
      "1500/1500 [==============================] - 6s 4ms/step - loss: 0.2865 - accuracy: 0.8976 - val_loss: 0.3374 - val_accuracy: 0.8821\n",
      "Calculating predictions and scores....\n",
      "Calculating predictions and scores.......................\n",
      "\n",
      "313/313 [==============================] - 1s 2ms/step\n",
      "313/313 [==============================] - 1s 3ms/step - loss: 0.3640 - accuracy: 0.8736\n",
      "Collecting outputs.......................\n",
      "\n",
      "Congratuations! All the processes are completed successfully....\n",
      "\n",
      "Avarage test accuracy:  0.8736000061035156\n",
      "{'best_model': {'model': <keras.engine.sequential.Sequential object at 0x7ff2e1aad490>, 'model_history': <keras.callbacks.History object at 0x7ff2664f2be0>, 'test_loss': 0.364044725894928, 'test_acc': 0.8736000061035156, 'test_predictions': array([[6.1956880e-06, 3.7019284e-14, 2.8001438e-08, ..., 2.7075000e-03,\n",
      "        8.0629297e-07, 9.9680102e-01],\n",
      "       [3.3991075e-08, 6.3307448e-07, 9.9905306e-01, ..., 5.3241547e-06,\n",
      "        2.3854549e-10, 1.7414262e-09],\n",
      "       [9.4397970e-13, 9.9999940e-01, 2.1120523e-09, ..., 3.8655366e-21,\n",
      "        5.7202080e-14, 3.5917423e-28],\n",
      "       ...,\n",
      "       [2.0185472e-04, 3.0411672e-06, 5.1960058e-09, ..., 2.4255849e-08,\n",
      "        9.9711728e-01, 9.9562001e-08],\n",
      "       [3.7237897e-09, 9.9904639e-01, 9.6144618e-07, ..., 2.6575603e-16,\n",
      "        4.4333884e-11, 1.4069227e-20],\n",
      "       [7.8018854e-04, 1.7778513e-04, 4.0593497e-03, ..., 4.1444534e-03,\n",
      "        9.7393403e-03, 5.1943772e-04]], dtype=float32)}, 'best_replicate': 0, 'all_test_acc': [0.8736000061035156], 'average_test_acc': 0.8736000061035156}\n"
     ]
    }
   ],
   "source": [
    "case7_model_output = Multi_Run_CNN_Model(num_replicates = 1,\n",
    "                                    conv_layers =  [32, 16],\n",
    "                                    dense_layers = [20, 10],\n",
    "                                    kernel_size = (2,2) ,\n",
    "                                    input_shape = (28, 28, 1), \n",
    "                                    output_dim  = 10, \n",
    "                                    optimizer = 'Adagrad', \n",
    "                                    learning_rate = 0.01,\n",
    "                                    X_train = X_train,\n",
    "                                    y_train = y_train,\n",
    "                                    X_test = X_test,\n",
    "                                    y_test =  y_test, \n",
    "                                    val_split = 0.2,\n",
    "                                    batch_size = 32,\n",
    "                                    epochs = 10, \n",
    "                                    verbose = 1\n",
    "                                    )\n",
    "\n",
    "\n",
    "#full results \n",
    "write_dic_to_file(case7_model_output, output_dir_path+ \"case7_hyperparameter_tuning_results\" + \".txt\")\n",
    "\n",
    "print(case7_model_output)\n"
   ]
  },
  {
   "cell_type": "markdown",
   "metadata": {
    "id": "tsvHnZIxaqnL"
   },
   "source": [
    "#### **Case VIII:**\n",
    "\n",
    " - conv_layers =  [32, 16]\n",
    " - dense_layers = [20, 10]\n",
    " - optimizer = 'Adagrad'\n",
    " - learning_rate = 0.001\n",
    " - num_replicagtes = 10"
   ]
  },
  {
   "cell_type": "code",
   "execution_count": null,
   "metadata": {
    "colab": {
     "base_uri": "https://localhost:8080/"
    },
    "id": "98UqZ3EUaw6A",
    "outputId": "93c29e64-1be6-45f6-80ce-f24137907edc"
   },
   "outputs": [
    {
     "name": "stdout",
     "output_type": "stream",
     "text": [
      "===== Running 0 replicate=======\n",
      "Building CNN Model.......................\n",
      "\n",
      "Fitting  CNN Model.......................\n",
      "\n",
      "Epoch 1/10\n",
      "1500/1500 [==============================] - 6s 4ms/step - loss: 1.6409 - accuracy: 0.5587 - val_loss: 1.2500 - val_accuracy: 0.6697\n",
      "Epoch 2/10\n",
      "1500/1500 [==============================] - 6s 4ms/step - loss: 1.1485 - accuracy: 0.6945 - val_loss: 1.0853 - val_accuracy: 0.7190\n",
      "Epoch 3/10\n",
      "1500/1500 [==============================] - 5s 4ms/step - loss: 1.0324 - accuracy: 0.7260 - val_loss: 1.0113 - val_accuracy: 0.7362\n",
      "Epoch 4/10\n",
      "1500/1500 [==============================] - 6s 4ms/step - loss: 0.9703 - accuracy: 0.7409 - val_loss: 0.9610 - val_accuracy: 0.7433\n",
      "Epoch 5/10\n",
      "1500/1500 [==============================] - 6s 4ms/step - loss: 0.9282 - accuracy: 0.7516 - val_loss: 0.9281 - val_accuracy: 0.7503\n",
      "Epoch 6/10\n",
      "1500/1500 [==============================] - 5s 4ms/step - loss: 0.8973 - accuracy: 0.7592 - val_loss: 0.9024 - val_accuracy: 0.7557\n",
      "Epoch 7/10\n",
      "1500/1500 [==============================] - 5s 4ms/step - loss: 0.8724 - accuracy: 0.7659 - val_loss: 0.8852 - val_accuracy: 0.7613\n",
      "Epoch 8/10\n",
      "1500/1500 [==============================] - 5s 4ms/step - loss: 0.8526 - accuracy: 0.7695 - val_loss: 0.8643 - val_accuracy: 0.7615\n",
      "Epoch 9/10\n",
      "1500/1500 [==============================] - 6s 4ms/step - loss: 0.8354 - accuracy: 0.7727 - val_loss: 0.8489 - val_accuracy: 0.7682\n",
      "Epoch 10/10\n",
      "1500/1500 [==============================] - 5s 4ms/step - loss: 0.8203 - accuracy: 0.7769 - val_loss: 0.8374 - val_accuracy: 0.7719\n",
      "Calculating predictions and scores....\n",
      "Calculating predictions and scores.......................\n",
      "\n",
      "313/313 [==============================] - 1s 2ms/step\n",
      "313/313 [==============================] - 1s 3ms/step - loss: 0.8629 - accuracy: 0.7639\n",
      "Collecting outputs.......................\n",
      "\n",
      "Congratuations! All the processes are completed successfully....\n",
      "\n",
      "Avarage test accuracy:  0.7638999819755554\n",
      "{'best_model': {'model': <keras.engine.sequential.Sequential object at 0x7ff2d01aba90>, 'model_history': <keras.callbacks.History object at 0x7ff2e653c1c0>, 'test_loss': 0.8628767728805542, 'test_acc': 0.7638999819755554, 'test_predictions': array([[1.9951460e-03, 1.4457028e-07, 1.8746924e-04, ..., 2.0733824e-02,\n",
      "        4.5023847e-04, 9.0709740e-01],\n",
      "       [3.2980995e-07, 7.4373211e-06, 6.8022352e-01, ..., 5.5806915e-04,\n",
      "        3.5804722e-03, 6.3921134e-03],\n",
      "       [9.6576676e-02, 1.2524137e-01, 1.0811128e-01, ..., 8.9936234e-02,\n",
      "        9.2558719e-02, 8.8526547e-02],\n",
      "       ...,\n",
      "       [7.9395004e-02, 5.7496982e-05, 2.4486387e-03, ..., 1.6907783e-02,\n",
      "        8.2230985e-01, 3.7066501e-02],\n",
      "       [9.6576676e-02, 1.2524137e-01, 1.0811128e-01, ..., 8.9936234e-02,\n",
      "        9.2558719e-02, 8.8526547e-02],\n",
      "       [5.5687423e-03, 5.8762125e-06, 2.3882103e-03, ..., 4.9530199e-01,\n",
      "        2.5741929e-02, 2.1763306e-02]], dtype=float32)}, 'best_replicate': 0, 'all_test_acc': [0.7638999819755554], 'average_test_acc': 0.7638999819755554}\n"
     ]
    }
   ],
   "source": [
    "case8_model_output = Multi_Run_CNN_Model(num_replicates = 1,\n",
    "                                    conv_layers =  [32, 16],\n",
    "                                    dense_layers = [20, 10],\n",
    "                                    kernel_size = (2,2) ,\n",
    "                                    input_shape = (28, 28, 1), \n",
    "                                    output_dim  = 10, \n",
    "                                    optimizer = 'Adagrad', \n",
    "                                    learning_rate = 0.001,\n",
    "                                    X_train = X_train,\n",
    "                                    y_train = y_train,\n",
    "                                    X_test = X_test,\n",
    "                                    y_test =  y_test, \n",
    "                                    val_split = 0.2,\n",
    "                                    batch_size = 32,\n",
    "                                    epochs = 10, \n",
    "                                    verbose = 1\n",
    "                                    )\n",
    "\n",
    "#full results \n",
    "write_dic_to_file(case8_model_output, output_dir_path+ \"case8_hyperparameter_tuning_results\" + \".txt\")\n",
    "\n",
    "print(case8_model_output)\n",
    "\n"
   ]
  },
  {
   "cell_type": "markdown",
   "metadata": {
    "id": "2iUa6hYcbSmY"
   },
   "source": [
    "#### **Case IX:**\n",
    "\n",
    " - conv_layers =  [32, 16, 8]\n",
    " - dense_layers = [20, 10]\n",
    " - optimizer = 'Adam'\n",
    " - learning_rate = 0.01\n",
    " - num_replicagtes = 10"
   ]
  },
  {
   "cell_type": "code",
   "execution_count": null,
   "metadata": {
    "colab": {
     "base_uri": "https://localhost:8080/"
    },
    "id": "keXPuGcJa4kP",
    "outputId": "b56fa8ca-fa6a-423c-d65b-66d25a63b917"
   },
   "outputs": [
    {
     "name": "stdout",
     "output_type": "stream",
     "text": [
      "===== Running 0 replicate=======\n",
      "Building CNN Model.......................\n",
      "\n",
      "Fitting  CNN Model.......................\n",
      "\n",
      "Epoch 1/10\n",
      "1500/1500 [==============================] - 6s 4ms/step - loss: 1.0007 - accuracy: 0.6785 - val_loss: 0.5773 - val_accuracy: 0.7962\n",
      "Epoch 2/10\n",
      "1500/1500 [==============================] - 6s 4ms/step - loss: 0.5523 - accuracy: 0.8019 - val_loss: 0.4998 - val_accuracy: 0.8246\n",
      "Epoch 3/10\n",
      "1500/1500 [==============================] - 6s 4ms/step - loss: 0.4882 - accuracy: 0.8226 - val_loss: 0.4779 - val_accuracy: 0.8309\n",
      "Epoch 4/10\n",
      "1500/1500 [==============================] - 6s 4ms/step - loss: 0.4569 - accuracy: 0.8336 - val_loss: 0.4784 - val_accuracy: 0.8243\n",
      "Epoch 5/10\n",
      "1500/1500 [==============================] - 6s 4ms/step - loss: 0.4422 - accuracy: 0.8410 - val_loss: 0.4470 - val_accuracy: 0.8387\n",
      "Epoch 6/10\n",
      "1500/1500 [==============================] - 6s 4ms/step - loss: 0.4281 - accuracy: 0.8438 - val_loss: 0.4215 - val_accuracy: 0.8441\n",
      "Epoch 7/10\n",
      "1500/1500 [==============================] - 5s 4ms/step - loss: 0.4206 - accuracy: 0.8468 - val_loss: 0.4181 - val_accuracy: 0.8487\n",
      "Epoch 8/10\n",
      "1500/1500 [==============================] - 6s 4ms/step - loss: 0.4230 - accuracy: 0.8459 - val_loss: 0.4186 - val_accuracy: 0.8464\n",
      "Epoch 9/10\n",
      "1500/1500 [==============================] - 6s 4ms/step - loss: 0.4295 - accuracy: 0.8455 - val_loss: 0.4733 - val_accuracy: 0.8322\n",
      "Epoch 10/10\n",
      "1500/1500 [==============================] - 6s 4ms/step - loss: 0.4148 - accuracy: 0.8510 - val_loss: 0.4775 - val_accuracy: 0.8185\n",
      "Calculating predictions and scores....\n",
      "Calculating predictions and scores.......................\n",
      "\n",
      "313/313 [==============================] - 1s 2ms/step\n",
      "313/313 [==============================] - 1s 3ms/step - loss: 0.5074 - accuracy: 0.8110\n",
      "Collecting outputs.......................\n",
      "\n",
      "Congratuations! All the processes are completed successfully....\n",
      "\n",
      "Avarage test accuracy:  0.8109999895095825\n",
      "{'best_model': {'model': <keras.engine.sequential.Sequential object at 0x7ff26638a790>, 'model_history': <keras.callbacks.History object at 0x7ff266385670>, 'test_loss': 0.5074399709701538, 'test_acc': 0.8109999895095825, 'test_predictions': array([[1.53175972e-06, 1.41749341e-08, 5.86030668e-11, ...,\n",
      "        3.28219980e-01, 4.51367159e-05, 5.32631874e-01],\n",
      "       [1.77945476e-02, 1.03617879e-07, 7.64874339e-01, ...,\n",
      "        3.47602210e-13, 7.52328779e-04, 1.41406431e-07],\n",
      "       [4.70224535e-08, 1.00000000e+00, 4.08214662e-09, ...,\n",
      "        0.00000000e+00, 3.93622530e-11, 1.27781165e-20],\n",
      "       ...,\n",
      "       [4.23766111e-13, 1.55853810e-28, 1.91966180e-13, ...,\n",
      "        1.22086749e-06, 9.99998808e-01, 2.11535869e-15],\n",
      "       [2.16169474e-06, 9.99994874e-01, 2.82970774e-07, ...,\n",
      "        0.00000000e+00, 7.42229123e-09, 1.41857028e-16],\n",
      "       [6.42960053e-03, 2.58440523e-05, 2.48847902e-03, ...,\n",
      "        3.55462506e-02, 3.88173200e-03, 8.12661462e-03]], dtype=float32)}, 'best_replicate': 0, 'all_test_acc': [0.8109999895095825], 'average_test_acc': 0.8109999895095825}\n"
     ]
    }
   ],
   "source": [
    "case9_model_output = Multi_Run_CNN_Model(num_replicates = 1,\n",
    "                                    conv_layers =  [32, 16],\n",
    "                                    dense_layers = [20, 10],\n",
    "                                    kernel_size = (2,2) ,\n",
    "                                    input_shape = (28, 28, 1), \n",
    "                                    output_dim  = 10, \n",
    "                                    optimizer = 'Adam', \n",
    "                                    learning_rate = 0.01,\n",
    "                                    X_train = X_train,\n",
    "                                    y_train = y_train,\n",
    "                                    X_test = X_test,\n",
    "                                    y_test =  y_test, \n",
    "                                    val_split = 0.2,\n",
    "                                    batch_size = 32,\n",
    "                                    epochs = 10, \n",
    "                                    verbose = 1\n",
    "                                    )\n",
    "\n",
    "\n",
    "write_dic_to_file(case9_model_output, output_dir_path+ \"case9_hyperparameter_tuning_results\" + \".txt\")\n",
    "\n",
    "print(case9_model_output)\n",
    "#full results \n"
   ]
  },
  {
   "cell_type": "markdown",
   "metadata": {
    "id": "_oEuIcBSb5SB"
   },
   "source": [
    "#### **Case X:**\n",
    "\n",
    " - conv_layers =  [32, 16, 8]\n",
    " - dense_layers = [20, 10]\n",
    " - optimizer = 'Adam'\n",
    " - learning_rate = 0.001\n",
    " - num_replicagtes = 10"
   ]
  },
  {
   "cell_type": "code",
   "execution_count": null,
   "metadata": {
    "colab": {
     "base_uri": "https://localhost:8080/"
    },
    "id": "JmIQvkQjb-DF",
    "outputId": "de158df3-4f24-433d-98ad-44ecea332192"
   },
   "outputs": [
    {
     "name": "stdout",
     "output_type": "stream",
     "text": [
      "===== Running 0 replicate=======\n",
      "Building CNN Model.......................\n",
      "\n",
      "Fitting  CNN Model.......................\n",
      "\n",
      "Epoch 1/10\n",
      "1500/1500 [==============================] - 7s 4ms/step - loss: 0.9262 - accuracy: 0.6876 - val_loss: 0.5248 - val_accuracy: 0.8090\n",
      "Epoch 2/10\n",
      "1500/1500 [==============================] - 6s 4ms/step - loss: 0.4749 - accuracy: 0.8290 - val_loss: 0.4306 - val_accuracy: 0.8461\n",
      "Epoch 3/10\n",
      "1500/1500 [==============================] - 6s 4ms/step - loss: 0.4121 - accuracy: 0.8531 - val_loss: 0.4080 - val_accuracy: 0.8551\n",
      "Epoch 4/10\n",
      "1500/1500 [==============================] - 6s 4ms/step - loss: 0.3755 - accuracy: 0.8659 - val_loss: 0.3805 - val_accuracy: 0.8642\n",
      "Epoch 5/10\n",
      "1500/1500 [==============================] - 6s 4ms/step - loss: 0.3534 - accuracy: 0.8742 - val_loss: 0.3615 - val_accuracy: 0.8686\n",
      "Epoch 6/10\n",
      "1500/1500 [==============================] - 7s 4ms/step - loss: 0.3371 - accuracy: 0.8773 - val_loss: 0.3549 - val_accuracy: 0.8754\n",
      "Epoch 7/10\n",
      "1500/1500 [==============================] - 6s 4ms/step - loss: 0.3237 - accuracy: 0.8823 - val_loss: 0.3427 - val_accuracy: 0.8810\n",
      "Epoch 8/10\n",
      "1500/1500 [==============================] - 6s 4ms/step - loss: 0.3144 - accuracy: 0.8856 - val_loss: 0.3283 - val_accuracy: 0.8835\n",
      "Epoch 9/10\n",
      "1500/1500 [==============================] - 6s 4ms/step - loss: 0.3069 - accuracy: 0.8898 - val_loss: 0.3500 - val_accuracy: 0.8763\n",
      "Epoch 10/10\n",
      "1500/1500 [==============================] - 6s 4ms/step - loss: 0.3007 - accuracy: 0.8901 - val_loss: 0.3495 - val_accuracy: 0.8733\n",
      "Calculating predictions and scores....\n",
      "Calculating predictions and scores.......................\n",
      "\n",
      "313/313 [==============================] - 1s 2ms/step\n",
      "313/313 [==============================] - 1s 3ms/step - loss: 0.3581 - accuracy: 0.8694\n",
      "Collecting outputs.......................\n",
      "\n",
      "Congratuations! All the processes are completed successfully....\n",
      "\n",
      "Avarage test accuracy:  0.8694000244140625\n",
      "{'best_model': {'model': <keras.engine.sequential.Sequential object at 0x7ff2e14e95e0>, 'model_history': <keras.callbacks.History object at 0x7ff266498460>, 'test_loss': 0.3581365644931793, 'test_acc': 0.8694000244140625, 'test_predictions': array([[6.83132981e-08, 1.42440576e-05, 1.16085355e-08, ...,\n",
      "        1.21389539e-03, 1.20958887e-07, 9.98661280e-01],\n",
      "       [1.01478375e-03, 1.01781821e-11, 9.96710539e-01, ...,\n",
      "        2.15922347e-17, 3.24285423e-07, 1.85057444e-20],\n",
      "       [4.47342973e-06, 9.99565184e-01, 4.83807447e-08, ...,\n",
      "        1.58668275e-18, 4.13316457e-06, 1.25029210e-15],\n",
      "       ...,\n",
      "       [8.75072374e-07, 3.73492384e-07, 1.46090338e-06, ...,\n",
      "        5.00970657e-14, 9.99991536e-01, 2.54267988e-16],\n",
      "       [6.78531660e-06, 9.98589098e-01, 5.58485098e-08, ...,\n",
      "        5.73828770e-16, 4.39413543e-06, 5.43532558e-13],\n",
      "       [1.25294016e-03, 3.53824078e-07, 2.90211165e-06, ...,\n",
      "        9.53100324e-02, 4.50463034e-03, 2.02096403e-02]], dtype=float32)}, 'best_replicate': 0, 'all_test_acc': [0.8694000244140625], 'average_test_acc': 0.8694000244140625}\n"
     ]
    }
   ],
   "source": [
    "case10_model_output = Multi_Run_CNN_Model(num_replicates = 1,\n",
    "                                    conv_layers =  [32, 16, 8],\n",
    "                                    dense_layers = [20, 10],\n",
    "                                    kernel_size = (2,2) ,\n",
    "                                    input_shape = (28, 28, 1), \n",
    "                                    output_dim  = 10, \n",
    "                                    optimizer = 'Adam', \n",
    "                                    learning_rate = 0.001,\n",
    "                                    X_train = X_train,\n",
    "                                    y_train = y_train,\n",
    "                                    X_test = X_test,\n",
    "                                    y_test =  y_test, \n",
    "                                    val_split = 0.2,\n",
    "                                    batch_size = 32,\n",
    "                                    epochs = 10, \n",
    "                                    verbose = 1\n",
    "                                    )\n",
    "\n",
    "\n",
    "write_dic_to_file(case10_model_output, output_dir_path+ \"case10_hyperparameter_tuning_results\" + \".txt\")\n",
    "\n",
    "print(case10_model_output)\n",
    "#full results \n"
   ]
  },
  {
   "cell_type": "markdown",
   "metadata": {
    "id": "_f47M01CcKJT"
   },
   "source": [
    "#### **Case XI:**\n",
    "\n",
    " - conv_layers =  [32, 16, 8]\n",
    " - dense_layers = [20, 10]\n",
    " - optimizer = 'Adagrad'\n",
    " - learning_rate = 0.01\n",
    " - num_replicagtes = 10"
   ]
  },
  {
   "cell_type": "code",
   "execution_count": null,
   "metadata": {
    "colab": {
     "base_uri": "https://localhost:8080/"
    },
    "id": "BMHKyoakcOoa",
    "outputId": "e4fd846e-abdc-49fc-884e-24e1dcc5163e"
   },
   "outputs": [
    {
     "name": "stdout",
     "output_type": "stream",
     "text": [
      "===== Running 0 replicate=======\n",
      "Building CNN Model.......................\n",
      "\n",
      "Fitting  CNN Model.......................\n",
      "\n",
      "Epoch 1/10\n",
      "1500/1500 [==============================] - 7s 4ms/step - loss: 0.9817 - accuracy: 0.6691 - val_loss: 0.6712 - val_accuracy: 0.7631\n",
      "Epoch 2/10\n",
      "1500/1500 [==============================] - 6s 4ms/step - loss: 0.6238 - accuracy: 0.7791 - val_loss: 0.5845 - val_accuracy: 0.7907\n",
      "Epoch 3/10\n",
      "1500/1500 [==============================] - 6s 4ms/step - loss: 0.5608 - accuracy: 0.8006 - val_loss: 0.5463 - val_accuracy: 0.8043\n",
      "Epoch 4/10\n",
      "1500/1500 [==============================] - 6s 4ms/step - loss: 0.5276 - accuracy: 0.8122 - val_loss: 0.5246 - val_accuracy: 0.8134\n",
      "Epoch 5/10\n",
      "1500/1500 [==============================] - 6s 4ms/step - loss: 0.5063 - accuracy: 0.8214 - val_loss: 0.5072 - val_accuracy: 0.8198\n",
      "Epoch 6/10\n",
      "1500/1500 [==============================] - 6s 4ms/step - loss: 0.4891 - accuracy: 0.8260 - val_loss: 0.4927 - val_accuracy: 0.8263\n",
      "Epoch 7/10\n",
      "1500/1500 [==============================] - 6s 4ms/step - loss: 0.4768 - accuracy: 0.8318 - val_loss: 0.4834 - val_accuracy: 0.8304\n",
      "Epoch 8/10\n",
      "1500/1500 [==============================] - 6s 4ms/step - loss: 0.4653 - accuracy: 0.8360 - val_loss: 0.4762 - val_accuracy: 0.8324\n",
      "Epoch 9/10\n",
      "1500/1500 [==============================] - 9s 6ms/step - loss: 0.4555 - accuracy: 0.8388 - val_loss: 0.4700 - val_accuracy: 0.8351\n",
      "Epoch 10/10\n",
      "1500/1500 [==============================] - 6s 4ms/step - loss: 0.4478 - accuracy: 0.8414 - val_loss: 0.4609 - val_accuracy: 0.8412\n",
      "Calculating predictions and scores....\n",
      "Calculating predictions and scores.......................\n",
      "\n",
      "313/313 [==============================] - 1s 2ms/step\n",
      "313/313 [==============================] - 1s 3ms/step - loss: 0.4800 - accuracy: 0.8289\n",
      "Collecting outputs.......................\n",
      "\n",
      "Congratuations! All the processes are completed successfully....\n",
      "\n",
      "Avarage test accuracy:  0.8288999795913696\n",
      "{'best_model': {'model': <keras.engine.sequential.Sequential object at 0x7ff2e14831c0>, 'model_history': <keras.callbacks.History object at 0x7ff26606a100>, 'test_loss': 0.4800261855125427, 'test_acc': 0.8288999795913696, 'test_predictions': array([[6.61598676e-07, 8.16098691e-05, 1.50557635e-05, ...,\n",
      "        5.33763506e-03, 9.92929199e-05, 9.86229777e-01],\n",
      "       [6.29419112e-04, 2.38908415e-05, 9.78377104e-01, ...,\n",
      "        1.56430371e-08, 3.80133657e-04, 7.13473147e-09],\n",
      "       [1.01570578e-07, 9.99775350e-01, 1.93189109e-07, ...,\n",
      "        3.24837677e-13, 1.76098318e-08, 9.31624352e-13],\n",
      "       ...,\n",
      "       [9.76674110e-02, 7.42700940e-04, 3.19237709e-02, ...,\n",
      "        3.26002760e-06, 8.28041255e-01, 1.45096346e-05],\n",
      "       [1.30520993e-05, 9.99588549e-01, 6.59174830e-08, ...,\n",
      "        5.60483170e-12, 4.20978904e-06, 1.60697414e-10],\n",
      "       [2.84397113e-03, 6.43732783e-04, 2.96003581e-03, ...,\n",
      "        4.03633296e-01, 4.32900965e-01, 5.59962308e-03]], dtype=float32)}, 'best_replicate': 0, 'all_test_acc': [0.8288999795913696], 'average_test_acc': 0.8288999795913696}\n"
     ]
    }
   ],
   "source": [
    "case11_model_output = Multi_Run_CNN_Model(num_replicates = 1,\n",
    "                                    conv_layers =  [32, 16, 8],\n",
    "                                    dense_layers = [20, 10],\n",
    "                                    kernel_size = (2,2) ,\n",
    "                                    input_shape = (28, 28, 1), \n",
    "                                    output_dim  = 10, \n",
    "                                    optimizer = 'Adagrad', \n",
    "                                    learning_rate = 0.01,\n",
    "                                    X_train = X_train,\n",
    "                                    y_train = y_train,\n",
    "                                    X_test = X_test,\n",
    "                                    y_test =  y_test, \n",
    "                                    val_split = 0.2,\n",
    "                                    batch_size = 32,\n",
    "                                    epochs = 10, \n",
    "                                    verbose = 1\n",
    "                                    )\n",
    "\n",
    "\n",
    "write_dic_to_file(case11_model_output, output_dir_path+ \"case11_hyperparameter_tuning_results\" + \".txt\")\n",
    "\n",
    "print(case11_model_output)\n",
    "#full results "
   ]
  },
  {
   "cell_type": "markdown",
   "metadata": {
    "id": "GzkAoScQcYcA"
   },
   "source": [
    "#### **Case XII:**\n",
    "\n",
    " - conv_layers =  [32, 16, 8]\n",
    " - dense_layers = [20, 10]\n",
    " - optimizer = 'Adagrad'\n",
    " - learning_rate = 0.001\n",
    " - num_replicagtes = 10"
   ]
  },
  {
   "cell_type": "code",
   "execution_count": null,
   "metadata": {
    "colab": {
     "base_uri": "https://localhost:8080/"
    },
    "id": "TkGBhTFkca4Q",
    "outputId": "cb272bfc-ff94-4af7-f3fb-7455ff4fee0e"
   },
   "outputs": [
    {
     "name": "stdout",
     "output_type": "stream",
     "text": [
      "===== Running 0 replicate=======\n",
      "Building CNN Model.......................\n",
      "\n",
      "Fitting  CNN Model.......................\n",
      "\n",
      "Epoch 1/10\n",
      "1500/1500 [==============================] - 8s 5ms/step - loss: 2.3331 - accuracy: 0.2181 - val_loss: 1.9573 - val_accuracy: 0.3027\n",
      "Epoch 2/10\n",
      "1500/1500 [==============================] - 7s 5ms/step - loss: 1.8552 - accuracy: 0.3411 - val_loss: 1.7465 - val_accuracy: 0.3900\n",
      "Epoch 3/10\n",
      "1500/1500 [==============================] - 8s 5ms/step - loss: 1.6801 - accuracy: 0.4150 - val_loss: 1.6097 - val_accuracy: 0.4400\n",
      "Epoch 4/10\n",
      "1500/1500 [==============================] - 9s 6ms/step - loss: 1.5637 - accuracy: 0.4493 - val_loss: 1.5159 - val_accuracy: 0.4661\n",
      "Epoch 5/10\n",
      "1500/1500 [==============================] - 9s 6ms/step - loss: 1.4788 - accuracy: 0.4770 - val_loss: 1.4415 - val_accuracy: 0.4917\n",
      "Epoch 6/10\n",
      "1500/1500 [==============================] - 7s 5ms/step - loss: 1.4104 - accuracy: 0.5016 - val_loss: 1.3794 - val_accuracy: 0.5167\n",
      "Epoch 7/10\n",
      "1500/1500 [==============================] - 7s 5ms/step - loss: 1.3521 - accuracy: 0.5243 - val_loss: 1.3262 - val_accuracy: 0.5337\n",
      "Epoch 8/10\n",
      "1500/1500 [==============================] - 8s 5ms/step - loss: 1.3013 - accuracy: 0.5437 - val_loss: 1.2788 - val_accuracy: 0.5552\n",
      "Epoch 9/10\n",
      "1500/1500 [==============================] - 8s 5ms/step - loss: 1.2558 - accuracy: 0.5715 - val_loss: 1.2376 - val_accuracy: 0.5869\n",
      "Epoch 10/10\n",
      "1500/1500 [==============================] - 7s 5ms/step - loss: 1.2140 - accuracy: 0.6026 - val_loss: 1.1970 - val_accuracy: 0.6176\n",
      "Calculating predictions and scores....\n",
      "Calculating predictions and scores.......................\n",
      "\n",
      "313/313 [==============================] - 1s 3ms/step\n",
      "313/313 [==============================] - 1s 3ms/step - loss: 1.1976 - accuracy: 0.6113\n",
      "Collecting outputs.......................\n",
      "\n",
      "Congratuations! All the processes are completed successfully....\n",
      "\n",
      "Avarage test accuracy:  0.611299991607666\n",
      "{'best_model': {'model': <keras.engine.sequential.Sequential object at 0x7ff248287df0>, 'model_history': <keras.callbacks.History object at 0x7ff248287e20>, 'test_loss': 1.1976401805877686, 'test_acc': 0.611299991607666, 'test_predictions': array([[9.72466543e-02, 3.12368944e-02, 6.74571395e-02, ...,\n",
      "        1.76022813e-01, 1.60776109e-01, 2.02694967e-01],\n",
      "       [8.02235678e-02, 4.07295556e-05, 5.40377200e-01, ...,\n",
      "        1.10743492e-09, 5.24044808e-05, 2.36640102e-04],\n",
      "       [6.86444764e-05, 9.94831145e-01, 2.65525701e-03, ...,\n",
      "        9.44470280e-09, 1.13423039e-06, 1.20945973e-08],\n",
      "       ...,\n",
      "       [1.17080525e-01, 1.79190974e-04, 9.57163330e-03, ...,\n",
      "        3.42377205e-03, 7.18351960e-01, 2.64444738e-04],\n",
      "       [1.38184638e-03, 9.69323516e-01, 6.75434433e-03, ...,\n",
      "        7.85469467e-07, 1.04510516e-04, 8.56094857e-07],\n",
      "       [8.92632157e-02, 7.29854107e-02, 9.18101445e-02, ...,\n",
      "        1.74597725e-01, 1.13598615e-01, 1.32800281e-01]], dtype=float32)}, 'best_replicate': 0, 'all_test_acc': [0.611299991607666], 'average_test_acc': 0.611299991607666}\n"
     ]
    }
   ],
   "source": [
    "case12_model_output = Multi_Run_CNN_Model(num_replicates = 1,\n",
    "                                    conv_layers =  [32, 16, 8],\n",
    "                                    dense_layers = [20, 10],\n",
    "                                    kernel_size = (2,2) ,\n",
    "                                    input_shape = (28, 28, 1), \n",
    "                                    output_dim  = 10, \n",
    "                                    optimizer = 'Adagrad', \n",
    "                                    learning_rate = 0.001,\n",
    "                                    X_train = X_train,\n",
    "                                    y_train = y_train,\n",
    "                                    X_test = X_test,\n",
    "                                    y_test =  y_test, \n",
    "                                    val_split = 0.2,\n",
    "                                    batch_size = 32,\n",
    "                                    epochs = 10, \n",
    "                                    verbose = 1\n",
    "                                    )\n",
    "\n",
    "\n",
    "write_dic_to_file(case12_model_output, output_dir_path+ \"case12_hyperparameter_tuning_results\" + \".txt\")\n",
    "\n",
    "print(case12_model_output)\n",
    "#full results "
   ]
  },
  {
   "cell_type": "markdown",
   "metadata": {
    "id": "sfJkvnI0cy2H"
   },
   "source": [
    "## **End Results of Step 6-Hyperparameter Tuning**"
   ]
  },
  {
   "cell_type": "markdown",
   "metadata": {
    "id": "fagoRrrcc9fn"
   },
   "source": [
    "\n",
    "Discuss your results of parameter tuning. \n",
    "\n",
    "For the project, consider the following.\n",
    "\n",
    "- Design a table and then enter average accuracy scores(**avg_test-acc**) for each case. There will be 12 different values in the table. \n",
    "\n",
    "- Design another table consisting the best hyperparameters(Optimizer and learning rate) for three different model configurations. \n",
    "\n",
    "- Discuss/Interprete results."
   ]
  },
  {
   "cell_type": "code",
   "execution_count": null,
   "metadata": {
    "colab": {
     "base_uri": "https://localhost:8080/"
    },
    "id": "u5B5ooRsc6PM",
    "outputId": "98ff295b-e1ea-471a-8d17-450f333b8e94"
   },
   "outputs": [
    {
     "name": "stdout",
     "output_type": "stream",
     "text": [
      "   case 1  case 2  case 3  case 4  case 5  case 6  case 7  case 8  case 9  \\\n",
      "0  0.8134     0.1  0.6786  0.7923  0.8417  0.8897  0.8736  0.7639   0.811   \n",
      "\n",
      "   case 10  case 11  case 12  \n",
      "0   0.8694   0.8289   0.6113  \n"
     ]
    }
   ],
   "source": [
    "avg_test_acc_scores = {\n",
    "    \"case 1\" : case1_model_output['all_test_acc'],\n",
    "    \"case 2\" : case2_model_output['all_test_acc'],\n",
    "    \"case 3\" : case3_model_output['all_test_acc'],\n",
    "    \"case 4\" : case4_model_output['all_test_acc'],\n",
    "    \"case 5\" : case5_model_output['all_test_acc'],\n",
    "    \"case 6\" : case6_model_output['all_test_acc'],\n",
    "    \"case 7\" : case7_model_output['all_test_acc'],\n",
    "    \"case 8\" : case8_model_output['all_test_acc'],\n",
    "    \"case 9\" : case9_model_output['all_test_acc'],\n",
    "    \"case 10\" : case10_model_output['all_test_acc'],\n",
    "    \"case 11\" : case11_model_output['all_test_acc'],\n",
    "    \"case 12\" : case12_model_output['all_test_acc'],\n",
    "\n",
    "}\n",
    "\n",
    "avg_test_acc_df = pd.DataFrame(avg_test_acc_scores)\n",
    "print(avg_test_acc_df)"
   ]
  },
  {
   "cell_type": "code",
   "execution_count": null,
   "metadata": {
    "colab": {
     "base_uri": "https://localhost:8080/"
    },
    "id": "wgflKsPfxFvl",
    "outputId": "e86aad0a-5118-4550-8bb5-3d09c057a3bf"
   },
   "outputs": [
    {
     "name": "stdout",
     "output_type": "stream",
     "text": [
      "            Model 1              Model 2                Model 3\n",
      "0              Adam                 Adam                   Adam\n",
      "1              0.01                0.001                   0.01\n",
      "2  conv_layers [32]  conv_layers [32,16]  conv_layers [32,16,8]\n",
      "3  dense_layer [20]  dense_layer [20,10]    dense_layer [20,10]\n"
     ]
    }
   ],
   "source": [
    "hyperparameters = {\n",
    "    \"Model 1\" : ['Adam', '0.01', 'conv_layers [32]', 'dense_layer [20]'],\n",
    "    \"Model 2\" : ['Adam', '0.001', 'conv_layers [32,16]', 'dense_layer [20,10]'],\n",
    "    \"Model 3\" : ['Adam', '0.01', 'conv_layers [32,16,8]', 'dense_layer [20,10]'],\n",
    "}\n",
    "\n",
    "hyperparameters_df = pd.DataFrame(hyperparameters)\n",
    "print(hyperparameters_df)"
   ]
  },
  {
   "cell_type": "markdown",
   "metadata": {
    "id": "QN-YxXuuz4eB"
   },
   "source": [
    "### Remarks: I found that the best model was case 6 using an adam optimizer with a learning rate of 0.001. Thishad the highest accuracy score."
   ]
  },
  {
   "cell_type": "markdown",
   "metadata": {
    "id": "65Hc4QAWIWXb"
   },
   "source": [
    "## **Step 7: Full Scale Training with Optimized Hyperparameters**"
   ]
  },
  {
   "cell_type": "markdown",
   "metadata": {
    "id": "SAssgGqLxIH0"
   },
   "source": [
    "After tuning the hyperparameters for the constructed models, you need to retrain your models in a full scale with the best hyperparameters.\n",
    "\n",
    "\n",
    "### **Model 1: 32-filters single convolutional layer and 20 neurons single dense layer CNN Model**\n",
    "\n",
    "For example, lets pretend we got the  best hyperpameters as follows.\n",
    "\n",
    "- Best optimizer: \"Adagrad\" \n",
    "- Best learning rate: 0.001\n",
    "- Best epochs = 30\n",
    "\n",
    "\n",
    "Then  you need to train the Model 1 one more time. \n",
    "\n",
    "\n",
    "\n",
    "#### **Step 1: Train the model upto 10 independent replicates**"
   ]
  },
  {
   "cell_type": "code",
   "execution_count": null,
   "metadata": {
    "colab": {
     "base_uri": "https://localhost:8080/"
    },
    "id": "rVEBTslgIccY",
    "outputId": "6094d9ab-f676-448b-dfcb-b97652d055ac"
   },
   "outputs": [
    {
     "name": "stdout",
     "output_type": "stream",
     "text": [
      "===== Running 0 replicate=======\n",
      "Building CNN Model.......................\n",
      "\n",
      "Fitting  CNN Model.......................\n",
      "\n",
      "Epoch 1/20\n",
      "1500/1500 [==============================] - 5s 3ms/step - loss: 1.1436 - accuracy: 0.6750 - val_loss: 0.8114 - val_accuracy: 0.7394\n",
      "Epoch 2/20\n",
      "1500/1500 [==============================] - 5s 4ms/step - loss: 0.7167 - accuracy: 0.7734 - val_loss: 0.6868 - val_accuracy: 0.7906\n",
      "Epoch 3/20\n",
      "1500/1500 [==============================] - 5s 4ms/step - loss: 0.6200 - accuracy: 0.8006 - val_loss: 0.6304 - val_accuracy: 0.8062\n",
      "Epoch 4/20\n",
      "1500/1500 [==============================] - 5s 4ms/step - loss: 0.5635 - accuracy: 0.8162 - val_loss: 0.5879 - val_accuracy: 0.8159\n",
      "Epoch 5/20\n",
      "1500/1500 [==============================] - 5s 4ms/step - loss: 0.5264 - accuracy: 0.8271 - val_loss: 0.5755 - val_accuracy: 0.8220\n",
      "Epoch 6/20\n",
      "1500/1500 [==============================] - 5s 4ms/step - loss: 0.4999 - accuracy: 0.8350 - val_loss: 0.5525 - val_accuracy: 0.8253\n",
      "Epoch 7/20\n",
      "1500/1500 [==============================] - 5s 3ms/step - loss: 0.4782 - accuracy: 0.8415 - val_loss: 0.5434 - val_accuracy: 0.8308\n",
      "Epoch 8/20\n",
      "1500/1500 [==============================] - 5s 4ms/step - loss: 0.4597 - accuracy: 0.8465 - val_loss: 0.5277 - val_accuracy: 0.8340\n",
      "Epoch 9/20\n",
      "1500/1500 [==============================] - 5s 4ms/step - loss: 0.4445 - accuracy: 0.8510 - val_loss: 0.5357 - val_accuracy: 0.8363\n",
      "Epoch 10/20\n",
      "1500/1500 [==============================] - 5s 4ms/step - loss: 0.4315 - accuracy: 0.8566 - val_loss: 0.5128 - val_accuracy: 0.8431\n",
      "Epoch 11/20\n",
      "1500/1500 [==============================] - 5s 3ms/step - loss: 0.4198 - accuracy: 0.8597 - val_loss: 0.5010 - val_accuracy: 0.8425\n",
      "Epoch 12/20\n",
      "1500/1500 [==============================] - 5s 4ms/step - loss: 0.4087 - accuracy: 0.8636 - val_loss: 0.4962 - val_accuracy: 0.8428\n",
      "Epoch 13/20\n",
      "1500/1500 [==============================] - 5s 4ms/step - loss: 0.3986 - accuracy: 0.8672 - val_loss: 0.4919 - val_accuracy: 0.8501\n",
      "Epoch 14/20\n",
      "1500/1500 [==============================] - 5s 3ms/step - loss: 0.3906 - accuracy: 0.8702 - val_loss: 0.4832 - val_accuracy: 0.8484\n",
      "Epoch 15/20\n",
      "1500/1500 [==============================] - 5s 3ms/step - loss: 0.3817 - accuracy: 0.8713 - val_loss: 0.4872 - val_accuracy: 0.8508\n",
      "Epoch 16/20\n",
      "1500/1500 [==============================] - 5s 4ms/step - loss: 0.3749 - accuracy: 0.8739 - val_loss: 0.4730 - val_accuracy: 0.8518\n",
      "Epoch 17/20\n",
      "1500/1500 [==============================] - 6s 4ms/step - loss: 0.3684 - accuracy: 0.8762 - val_loss: 0.4678 - val_accuracy: 0.8511\n",
      "Epoch 18/20\n",
      "1500/1500 [==============================] - 5s 4ms/step - loss: 0.3614 - accuracy: 0.8796 - val_loss: 0.4631 - val_accuracy: 0.8543\n",
      "Epoch 19/20\n",
      "1500/1500 [==============================] - 5s 3ms/step - loss: 0.3556 - accuracy: 0.8805 - val_loss: 0.4592 - val_accuracy: 0.8565\n",
      "Epoch 20/20\n",
      "1500/1500 [==============================] - 5s 3ms/step - loss: 0.3499 - accuracy: 0.8827 - val_loss: 0.4581 - val_accuracy: 0.8566\n",
      "Calculating predictions and scores....\n",
      "Calculating predictions and scores.......................\n",
      "\n",
      "313/313 [==============================] - 1s 2ms/step\n",
      "313/313 [==============================] - 1s 3ms/step - loss: 0.4730 - accuracy: 0.8493\n",
      "Collecting outputs.......................\n",
      "\n",
      "Congratuations! All the processes are completed successfully....\n",
      "\n",
      "Avarage test accuracy:  0.8493000268936157\n"
     ]
    }
   ],
   "source": [
    "model1_final_output = Multi_Run_CNN_Model(num_replicates = 1,\n",
    "                                   conv_layers =  [32],\n",
    "                                   dense_layers = [20],\n",
    "                                   kernel_size = (2,2) ,\n",
    "                                   input_shape = (28, 28, 1), \n",
    "                                    output_dim  = 10, \n",
    "                                    optimizer = 'Adagrad',  # best optimizer\n",
    "                                    learning_rate = 0.001, # best learning rate\n",
    "                                    X_train = X_train,\n",
    "                                    y_train = y_train,\n",
    "                                    X_test = X_test,\n",
    "                                    y_test =  y_test, \n",
    "                                    val_split = 0.2,\n",
    "                                    batch_size = 32,\n",
    "                                    epochs = 20, # best epochs\n",
    "                                    verbose = 1\n",
    "                                    )\n",
    "\n"
   ]
  },
  {
   "cell_type": "code",
   "execution_count": null,
   "metadata": {
    "colab": {
     "base_uri": "https://localhost:8080/"
    },
    "id": "WgVUUhgeHtJn",
    "outputId": "b1501f82-99b6-4e5e-b061-193df9a34462"
   },
   "outputs": [
    {
     "data": {
      "text/plain": [
       "{'best_model': {'model': <keras.engine.sequential.Sequential at 0x7ff2480cadf0>,\n",
       "  'model_history': <keras.callbacks.History at 0x7ff24816e160>,\n",
       "  'test_loss': 0.4729650914669037,\n",
       "  'test_acc': 0.8493000268936157,\n",
       "  'test_predictions': array([[2.45976439e-09, 1.16394060e-23, 1.90554211e-10, ...,\n",
       "          1.31064226e-04, 7.03344849e-09, 9.97065127e-01],\n",
       "         [3.92426739e-14, 4.81075009e-16, 9.99900103e-01, ...,\n",
       "          5.47692893e-17, 1.77091366e-07, 6.79249441e-19],\n",
       "         [8.09559707e-22, 1.00000000e+00, 4.90910269e-15, ...,\n",
       "          3.32844219e-09, 1.29300138e-14, 1.20648485e-20],\n",
       "         ...,\n",
       "         [2.96580165e-05, 1.79014881e-09, 4.51999904e-06, ...,\n",
       "          1.27593026e-04, 9.98825133e-01, 2.42867754e-05],\n",
       "         [4.38245148e-19, 9.99998689e-01, 3.38061446e-09, ...,\n",
       "          1.27291557e-07, 2.40528222e-11, 1.25237593e-16],\n",
       "         [8.97865370e-03, 3.62085951e-11, 8.81786807e-04, ...,\n",
       "          3.00910473e-01, 1.54533582e-02, 8.74147844e-03]], dtype=float32)},\n",
       " 'best_replicate': 0,\n",
       " 'all_test_acc': [0.8493000268936157],\n",
       " 'average_test_acc': 0.8493000268936157}"
      ]
     },
     "execution_count": 111,
     "metadata": {},
     "output_type": "execute_result"
    }
   ],
   "source": [
    "model1_final_output"
   ]
  },
  {
   "cell_type": "code",
   "execution_count": null,
   "metadata": {
    "id": "c19bzyoAinpJ"
   },
   "outputs": [],
   "source": [
    "#full results \n",
    "write_dic_to_file(model1_final_output, output_dir_path+ \"model1_full_results\" + \".txt\")\n",
    "# Test accuracies from all replicates\n",
    "pd.DataFrame(model1_final_output['all_test_acc']).to_csv(output_dir_path+\"model1_all_test_acc.csv\")\n",
    "\n"
   ]
  },
  {
   "cell_type": "markdown",
   "metadata": {
    "id": "Fs3xYvpyzFgd"
   },
   "source": [
    "### **Step2: Boxplot of all the accuracies obtained from 10 replicates**"
   ]
  },
  {
   "cell_type": "code",
   "execution_count": null,
   "metadata": {
    "colab": {
     "base_uri": "https://localhost:8080/",
     "height": 265
    },
    "id": "D5LoKesCzW2q",
    "outputId": "4ea24996-3f31-4901-da20-c3034252bda8"
   },
   "outputs": [
    {
     "data": {
      "image/png": "[encoded data removed]",
      "text/plain": [
       "<Figure size 288x288 with 1 Axes>"
      ]
     },
     "metadata": {
      "needs_background": "light"
     },
     "output_type": "display_data"
    }
   ],
   "source": [
    "model1_all_test_acc = pd.read_csv(output_dir_path+\"model1_all_test_acc.csv\")\n",
    "\n",
    "import matplotlib.pyplot as plt\n",
    "\n",
    "fig = plt.figure(figsize= (4, 4))\n",
    "plt.boxplot(model1_all_test_acc.iloc[:,1])\n",
    "\n",
    "fig.savefig(output_dir_path+\"model1_test_acc_boxplot.png\", dpi = 600)\n",
    "plt.show()"
   ]
  },
  {
   "cell_type": "code",
   "execution_count": null,
   "metadata": {
    "id": "A6vX8UqiFOWX"
   },
   "outputs": [],
   "source": []
  },
  {
   "cell_type": "markdown",
   "metadata": {
    "id": "XVaCNC4zyd_5"
   },
   "source": [
    "\n",
    "### **Model 2: 32-16-filters two convolutional layers and 20-10 neurons two dense layers CNN Model**\n",
    "\n",
    "\n",
    "For example, lets pretend we got the  best hyperpameters as follows.\n",
    "\n",
    "- Best optimizer: \"Adagrad\" \n",
    "- Best learning rate: 0.001\n",
    "- Best epochs = 30\n",
    "\n",
    "\n",
    "Then  you need to train the Model 2 one more time. \n",
    "\n",
    "\n",
    "\n",
    "#### **Step 1: Train the model upto 10 independent replicates**\n",
    "\n",
    "\n"
   ]
  },
  {
   "cell_type": "code",
   "execution_count": null,
   "metadata": {
    "colab": {
     "base_uri": "https://localhost:8080/"
    },
    "id": "r5tz8okdym1O",
    "outputId": "4402ce71-758b-417d-d5f3-f7b017348766"
   },
   "outputs": [
    {
     "name": "stdout",
     "output_type": "stream",
     "text": [
      "===== Running 0 replicate=======\n",
      "Building CNN Model.......................\n",
      "\n",
      "Fitting  CNN Model.......................\n",
      "\n",
      "Epoch 1/20\n",
      "1500/1500 [==============================] - 7s 4ms/step - loss: 1.6595 - accuracy: 0.4041 - val_loss: 1.3211 - val_accuracy: 0.5049\n",
      "Epoch 2/20\n",
      "1500/1500 [==============================] - 6s 4ms/step - loss: 1.2323 - accuracy: 0.5356 - val_loss: 1.1561 - val_accuracy: 0.5590\n",
      "Epoch 3/20\n",
      "1500/1500 [==============================] - 7s 4ms/step - loss: 1.0954 - accuracy: 0.5825 - val_loss: 1.0431 - val_accuracy: 0.5970\n",
      "Epoch 4/20\n",
      "1500/1500 [==============================] - 6s 4ms/step - loss: 0.9893 - accuracy: 0.6274 - val_loss: 0.9502 - val_accuracy: 0.6777\n",
      "Epoch 5/20\n",
      "1500/1500 [==============================] - 6s 4ms/step - loss: 0.9086 - accuracy: 0.6961 - val_loss: 0.8799 - val_accuracy: 0.7197\n",
      "Epoch 6/20\n",
      "1500/1500 [==============================] - 6s 4ms/step - loss: 0.8457 - accuracy: 0.7362 - val_loss: 0.8256 - val_accuracy: 0.7454\n",
      "Epoch 7/20\n",
      "1500/1500 [==============================] - 7s 5ms/step - loss: 0.7981 - accuracy: 0.7485 - val_loss: 0.7859 - val_accuracy: 0.7522\n",
      "Epoch 8/20\n",
      "1500/1500 [==============================] - 6s 4ms/step - loss: 0.7618 - accuracy: 0.7558 - val_loss: 0.7555 - val_accuracy: 0.7622\n",
      "Epoch 9/20\n",
      "1500/1500 [==============================] - 6s 4ms/step - loss: 0.7328 - accuracy: 0.7629 - val_loss: 0.7314 - val_accuracy: 0.7676\n",
      "Epoch 10/20\n",
      "1500/1500 [==============================] - 6s 4ms/step - loss: 0.7093 - accuracy: 0.7682 - val_loss: 0.7109 - val_accuracy: 0.7685\n",
      "Epoch 11/20\n",
      "1500/1500 [==============================] - 6s 4ms/step - loss: 0.6894 - accuracy: 0.7729 - val_loss: 0.6938 - val_accuracy: 0.7725\n",
      "Epoch 12/20\n",
      "1500/1500 [==============================] - 6s 4ms/step - loss: 0.6728 - accuracy: 0.7774 - val_loss: 0.6796 - val_accuracy: 0.7743\n",
      "Epoch 13/20\n",
      "1500/1500 [==============================] - 6s 4ms/step - loss: 0.6585 - accuracy: 0.7798 - val_loss: 0.6687 - val_accuracy: 0.7753\n",
      "Epoch 14/20\n",
      "1500/1500 [==============================] - 6s 4ms/step - loss: 0.6464 - accuracy: 0.7828 - val_loss: 0.6567 - val_accuracy: 0.7808\n",
      "Epoch 15/20\n",
      "1500/1500 [==============================] - 6s 4ms/step - loss: 0.6354 - accuracy: 0.7847 - val_loss: 0.6490 - val_accuracy: 0.7804\n",
      "Epoch 16/20\n",
      "1500/1500 [==============================] - 6s 4ms/step - loss: 0.6255 - accuracy: 0.7871 - val_loss: 0.6392 - val_accuracy: 0.7837\n",
      "Epoch 17/20\n",
      "1500/1500 [==============================] - 6s 4ms/step - loss: 0.6166 - accuracy: 0.7891 - val_loss: 0.6301 - val_accuracy: 0.7854\n",
      "Epoch 18/20\n",
      "1500/1500 [==============================] - 6s 4ms/step - loss: 0.6083 - accuracy: 0.7915 - val_loss: 0.6232 - val_accuracy: 0.7871\n",
      "Epoch 19/20\n",
      "1500/1500 [==============================] - 6s 4ms/step - loss: 0.6010 - accuracy: 0.7926 - val_loss: 0.6166 - val_accuracy: 0.7891\n",
      "Epoch 20/20\n",
      "1500/1500 [==============================] - 6s 4ms/step - loss: 0.5942 - accuracy: 0.7943 - val_loss: 0.6106 - val_accuracy: 0.7898\n",
      "Calculating predictions and scores....\n",
      "Calculating predictions and scores.......................\n",
      "\n",
      "313/313 [==============================] - 1s 2ms/step\n",
      "313/313 [==============================] - 1s 3ms/step - loss: 0.6388 - accuracy: 0.7816\n",
      "Collecting outputs.......................\n",
      "\n",
      "Congratuations! All the processes are completed successfully....\n",
      "\n",
      "Avarage test accuracy:  0.7815999984741211\n"
     ]
    }
   ],
   "source": [
    "model2_final_output = Multi_Run_CNN_Model(num_replicates = 1,\n",
    "                                   conv_layers =  [32, 16],\n",
    "                                   dense_layers = [20, 10],\n",
    "                                   kernel_size = (2,2) ,\n",
    "                                   input_shape = (28, 28, 1), \n",
    "                                    output_dim  = 10, \n",
    "                                    optimizer = 'Adagrad',  # best optimizer\n",
    "                                    learning_rate = 0.001, # best learning rate\n",
    "                                    X_train = X_train,\n",
    "                                    y_train = y_train,\n",
    "                                    X_test = X_test,\n",
    "                                    y_test =  y_test, \n",
    "                                    val_split = 0.2,\n",
    "                                    batch_size = 32,\n",
    "                                    epochs = 20, # best epochs\n",
    "                                    verbose = 1\n",
    "                                    )\n"
   ]
  },
  {
   "cell_type": "code",
   "execution_count": null,
   "metadata": {
    "colab": {
     "base_uri": "https://localhost:8080/"
    },
    "id": "h2OwlF8sGWMG",
    "outputId": "3e3c945e-1003-4aa1-8dbc-b4d70f8c5117"
   },
   "outputs": [
    {
     "data": {
      "text/plain": [
       "{'best_model': {'model': <keras.engine.sequential.Sequential at 0x7ff2660a2430>,\n",
       "  'model_history': <keras.callbacks.History at 0x7ff1fa145400>,\n",
       "  'test_loss': 0.6388012766838074,\n",
       "  'test_acc': 0.7815999984741211,\n",
       "  'test_predictions': array([[6.22023117e-14, 1.02103921e-03, 7.36027914e-07, ...,\n",
       "          1.33424535e-01, 3.47723017e-07, 8.55614603e-01],\n",
       "         [5.85556903e-04, 1.37458715e-04, 6.73677266e-01, ...,\n",
       "          8.75631906e-03, 1.36446254e-02, 2.06523036e-04],\n",
       "         [6.23445294e-06, 9.99101639e-01, 3.43374220e-17, ...,\n",
       "          5.07812958e-10, 6.22528473e-10, 4.12908690e-07],\n",
       "         ...,\n",
       "         [2.15180480e-04, 1.90320989e-05, 5.05170273e-03, ...,\n",
       "          1.82296775e-04, 9.55219328e-01, 2.24045991e-07],\n",
       "         [9.44741885e-04, 9.83174264e-01, 9.49352793e-13, ...,\n",
       "          7.29247915e-08, 9.85873498e-07, 1.02871945e-05],\n",
       "         [1.10775318e-06, 1.93524745e-03, 2.15665810e-03, ...,\n",
       "          4.27467935e-02, 1.67959273e-01, 8.45828932e-03]], dtype=float32)},\n",
       " 'best_replicate': 0,\n",
       " 'all_test_acc': [0.7815999984741211],\n",
       " 'average_test_acc': 0.7815999984741211}"
      ]
     },
     "execution_count": 115,
     "metadata": {},
     "output_type": "execute_result"
    }
   ],
   "source": [
    "model2_final_output"
   ]
  },
  {
   "cell_type": "code",
   "execution_count": null,
   "metadata": {
    "id": "UyYEM-69GRoC"
   },
   "outputs": [],
   "source": [
    "#full results \n",
    "write_dic_to_file(model2_final_output, output_dir_path+ \"model2_full_results\" + \".txt\")\n",
    "# Test accuracies from all replicates\n",
    "pd.DataFrame(model2_final_output['all_test_acc']).to_csv(output_dir_path+\"model2_all_test_acc.csv\")\n",
    "\n"
   ]
  },
  {
   "cell_type": "markdown",
   "metadata": {
    "id": "5YF-znGXcf29"
   },
   "source": [
    "#### **Step2: Boxplot of all the accuracies obtained from 10 replicates**"
   ]
  },
  {
   "cell_type": "code",
   "execution_count": null,
   "metadata": {
    "colab": {
     "base_uri": "https://localhost:8080/",
     "height": 265
    },
    "id": "zZ4ytirSchaP",
    "outputId": "a8f5329f-b9f4-413a-9973-6fb4d14822f5"
   },
   "outputs": [
    {
     "data": {
      "image/png": "[encoded data removed]",
      "text/plain": [
       "<Figure size 288x288 with 1 Axes>"
      ]
     },
     "metadata": {
      "needs_background": "light"
     },
     "output_type": "display_data"
    }
   ],
   "source": [
    "model2_all_test_acc = pd.read_csv(output_dir_path+\"model2_all_test_acc.csv\")\n",
    "\n",
    "import matplotlib.pyplot as plt\n",
    "\n",
    "fig = plt.figure(figsize= (4, 4))\n",
    "plt.boxplot(model2_all_test_acc.iloc[:,1])\n",
    "\n",
    "fig.savefig(output_dir_path+\"model2_test_acc_boxplot.png\", dpi = 600)\n",
    "plt.show()"
   ]
  },
  {
   "cell_type": "markdown",
   "metadata": {
    "id": "9MR9eAoqFgF1"
   },
   "source": [
    "**bold text**\n",
    "### **Model 3:  32-16-8-filters three convolutional layers and   20-10 neurons two dense layers CNN Model**\n",
    "\n",
    "\n",
    "For example, lets pretend we got the  best hyperpameters as follows.\n",
    "\n",
    "- Best optimizer: \"Adagrad\" \n",
    "- Best learning rate: 0.001\n",
    "- Best epochs = 30\n",
    "\n",
    "\n",
    "Then  you need to train the Model 2 one more time. \n",
    "\n",
    "\n",
    "\n",
    "\n",
    "\n",
    "#### **Step 1: Train the model upto 10 independent replicates**"
   ]
  },
  {
   "cell_type": "code",
   "execution_count": null,
   "metadata": {
    "colab": {
     "base_uri": "https://localhost:8080/"
    },
    "id": "h__CKW-ScSVm",
    "outputId": "64278f41-f939-44e4-e328-3706933be3a9"
   },
   "outputs": [
    {
     "name": "stdout",
     "output_type": "stream",
     "text": [
      "===== Running 0 replicate=======\n",
      "Building CNN Model.......................\n",
      "\n",
      "Fitting  CNN Model.......................\n",
      "\n",
      "Epoch 1/20\n",
      "1500/1500 [==============================] - 7s 4ms/step - loss: 2.0117 - accuracy: 0.3328 - val_loss: 1.7460 - val_accuracy: 0.4158\n",
      "Epoch 2/20\n",
      "1500/1500 [==============================] - 6s 4ms/step - loss: 1.6556 - accuracy: 0.4508 - val_loss: 1.5906 - val_accuracy: 0.4769\n",
      "Epoch 3/20\n",
      "1500/1500 [==============================] - 6s 4ms/step - loss: 1.5345 - accuracy: 0.5033 - val_loss: 1.4943 - val_accuracy: 0.5163\n",
      "Epoch 4/20\n",
      "1500/1500 [==============================] - 6s 4ms/step - loss: 1.4487 - accuracy: 0.5385 - val_loss: 1.4217 - val_accuracy: 0.5399\n",
      "Epoch 5/20\n",
      "1500/1500 [==============================] - 7s 4ms/step - loss: 1.3826 - accuracy: 0.5543 - val_loss: 1.3681 - val_accuracy: 0.5562\n",
      "Epoch 6/20\n",
      "1500/1500 [==============================] - 6s 4ms/step - loss: 1.3300 - accuracy: 0.5745 - val_loss: 1.3202 - val_accuracy: 0.5688\n",
      "Epoch 7/20\n",
      "1500/1500 [==============================] - 6s 4ms/step - loss: 1.2871 - accuracy: 0.5909 - val_loss: 1.2820 - val_accuracy: 0.5847\n",
      "Epoch 8/20\n",
      "1500/1500 [==============================] - 6s 4ms/step - loss: 1.2500 - accuracy: 0.6055 - val_loss: 1.2500 - val_accuracy: 0.6008\n",
      "Epoch 9/20\n",
      "1500/1500 [==============================] - 6s 4ms/step - loss: 1.2192 - accuracy: 0.6151 - val_loss: 1.2199 - val_accuracy: 0.6080\n",
      "Epoch 10/20\n",
      "1500/1500 [==============================] - 6s 4ms/step - loss: 1.1911 - accuracy: 0.6229 - val_loss: 1.1943 - val_accuracy: 0.6169\n",
      "Epoch 11/20\n",
      "1500/1500 [==============================] - 6s 4ms/step - loss: 1.1668 - accuracy: 0.6412 - val_loss: 1.1716 - val_accuracy: 0.6479\n",
      "Epoch 12/20\n",
      "1500/1500 [==============================] - 6s 4ms/step - loss: 1.1446 - accuracy: 0.6582 - val_loss: 1.1509 - val_accuracy: 0.6553\n",
      "Epoch 13/20\n",
      "1500/1500 [==============================] - 6s 4ms/step - loss: 1.1244 - accuracy: 0.6637 - val_loss: 1.1322 - val_accuracy: 0.6607\n",
      "Epoch 14/20\n",
      "1500/1500 [==============================] - 6s 4ms/step - loss: 1.1056 - accuracy: 0.6673 - val_loss: 1.1139 - val_accuracy: 0.6653\n",
      "Epoch 15/20\n",
      "1500/1500 [==============================] - 6s 4ms/step - loss: 1.0889 - accuracy: 0.6699 - val_loss: 1.0967 - val_accuracy: 0.6703\n",
      "Epoch 16/20\n",
      "1500/1500 [==============================] - 6s 4ms/step - loss: 1.0727 - accuracy: 0.6725 - val_loss: 1.0820 - val_accuracy: 0.6711\n",
      "Epoch 17/20\n",
      "1500/1500 [==============================] - 6s 4ms/step - loss: 1.0574 - accuracy: 0.6765 - val_loss: 1.0674 - val_accuracy: 0.6745\n",
      "Epoch 18/20\n",
      "1500/1500 [==============================] - 7s 5ms/step - loss: 1.0429 - accuracy: 0.6801 - val_loss: 1.0518 - val_accuracy: 0.6782\n",
      "Epoch 19/20\n",
      "1500/1500 [==============================] - 6s 4ms/step - loss: 1.0289 - accuracy: 0.6816 - val_loss: 1.0379 - val_accuracy: 0.6827\n",
      "Epoch 20/20\n",
      "1500/1500 [==============================] - 6s 4ms/step - loss: 1.0154 - accuracy: 0.6848 - val_loss: 1.0253 - val_accuracy: 0.6848\n",
      "Calculating predictions and scores....\n",
      "Calculating predictions and scores.......................\n",
      "\n",
      "313/313 [==============================] - 1s 2ms/step\n",
      "313/313 [==============================] - 1s 3ms/step - loss: 1.0532 - accuracy: 0.6713\n",
      "Collecting outputs.......................\n",
      "\n",
      "Congratuations! All the processes are completed successfully....\n",
      "\n",
      "Avarage test accuracy:  0.6712999939918518\n"
     ]
    }
   ],
   "source": [
    "model3_final_output = Multi_Run_CNN_Model(num_replicates = 1,\n",
    "                                   conv_layers =  [32, 16, 8],\n",
    "                                   dense_layers = [20, 10],\n",
    "                                   kernel_size = (2,2) ,\n",
    "                                   input_shape = (28, 28, 1), \n",
    "                                    output_dim  = 10, \n",
    "                                    optimizer = 'Adagrad',  # best optimizer\n",
    "                                    learning_rate = 0.001, # best learning rate\n",
    "                                    X_train = X_train,\n",
    "                                    y_train = y_train,\n",
    "                                    X_test = X_test,\n",
    "                                    y_test =  y_test, \n",
    "                                    val_split = 0.2,\n",
    "                                    batch_size = 32,\n",
    "                                    epochs = 20, # best epochs\n",
    "                                    verbose = 1\n",
    "                                    )\n"
   ]
  },
  {
   "cell_type": "code",
   "execution_count": null,
   "metadata": {
    "colab": {
     "base_uri": "https://localhost:8080/"
    },
    "id": "T7geEUULG3ka",
    "outputId": "0cd25359-f079-4126-9cc7-07cacfd72123"
   },
   "outputs": [
    {
     "data": {
      "text/plain": [
       "{'best_model': {'model': <keras.engine.sequential.Sequential at 0x7ff2e16893a0>,\n",
       "  'model_history': <keras.callbacks.History at 0x7ff1f0608b20>,\n",
       "  'test_loss': 1.0532478094100952,\n",
       "  'test_acc': 0.6712999939918518,\n",
       "  'test_predictions': array([[4.5443707e-05, 2.6460481e-07, 1.8952502e-04, ..., 7.6384924e-02,\n",
       "          1.2337830e-01, 5.1198512e-01],\n",
       "         [9.8568276e-03, 7.9109473e-03, 2.6197472e-01, ..., 1.4278629e-01,\n",
       "          1.8826830e-01, 4.9369913e-02],\n",
       "         [2.7672434e-04, 9.9954897e-01, 4.8940560e-11, ..., 1.2539728e-05,\n",
       "          1.0556865e-10, 2.4229220e-08],\n",
       "         ...,\n",
       "         [1.3470554e-02, 4.2875152e-05, 1.0490188e-03, ..., 1.0412453e-05,\n",
       "          2.2062327e-01, 6.2273104e-02],\n",
       "         [5.4337562e-04, 9.8477244e-01, 8.6885299e-09, ..., 3.3479606e-04,\n",
       "          4.7459277e-08, 5.4345592e-06],\n",
       "         [3.1516264e-04, 1.2444976e-03, 4.0069010e-02, ..., 1.4437988e-01,\n",
       "          8.1684291e-02, 6.5192305e-02]], dtype=float32)},\n",
       " 'best_replicate': 0,\n",
       " 'all_test_acc': [0.6712999939918518],\n",
       " 'average_test_acc': 0.6712999939918518}"
      ]
     },
     "execution_count": 119,
     "metadata": {},
     "output_type": "execute_result"
    }
   ],
   "source": [
    "model3_final_output\n",
    "\n"
   ]
  },
  {
   "cell_type": "code",
   "execution_count": null,
   "metadata": {
    "id": "GENuuwlkG51N"
   },
   "outputs": [],
   "source": [
    "#full results \n",
    "write_dic_to_file(model3_final_output, output_dir_path+ \"model3_full_results\" + \".txt\")\n",
    "# Test accuracies from all replicates\n",
    "pd.DataFrame(model3_final_output['all_test_acc']).to_csv(output_dir_path+\"model3_all_test_acc.csv\")\n",
    "\n"
   ]
  },
  {
   "cell_type": "markdown",
   "metadata": {
    "id": "UV_qCALGcWTX"
   },
   "source": [
    "#### **Step2: Boxplot of all the accuracies obtained from 10 replicates**"
   ]
  },
  {
   "cell_type": "code",
   "execution_count": null,
   "metadata": {
    "colab": {
     "base_uri": "https://localhost:8080/",
     "height": 265
    },
    "id": "C4y1oH5xcXOI",
    "outputId": "710dac5f-8dbc-405a-fa80-0c0bc20c373c"
   },
   "outputs": [
    {
     "data": {
      "image/png": "[encoded data removed]",
      "text/plain": [
       "<Figure size 288x288 with 1 Axes>"
      ]
     },
     "metadata": {
      "needs_background": "light"
     },
     "output_type": "display_data"
    }
   ],
   "source": [
    "model3_all_test_acc = pd.read_csv(output_dir_path+\"model3_all_test_acc.csv\")\n",
    "\n",
    "\n",
    "import matplotlib.pyplot as plt\n",
    "fig = plt.figure(figsize= (4, 4))\n",
    "plt.boxplot(model3_all_test_acc.iloc[:,1])\n",
    "\n",
    "fig.savefig(output_dir_path+\"model3_test_acc_boxplot.png\", dpi = 600)\n",
    "plt.show()"
   ]
  },
  {
   "cell_type": "markdown",
   "metadata": {
    "id": "xdXjnIZKIiWe"
   },
   "source": [
    "## **Step 8: Model Evaluations and Results Visualization**"
   ]
  },
  {
   "cell_type": "markdown",
   "metadata": {
    "id": "9t_cWGl3fG9f"
   },
   "source": [
    "\n",
    "## **Looking  the distributions of the test accuracy scores**"
   ]
  },
  {
   "cell_type": "markdown",
   "metadata": {
    "id": "0u0TYPzyjXVR"
   },
   "source": [
    "#### **Collecting all test accuracy scores**"
   ]
  },
  {
   "cell_type": "code",
   "execution_count": null,
   "metadata": {
    "colab": {
     "base_uri": "https://localhost:8080/"
    },
    "id": "uumf4dQ0IpqC",
    "outputId": "e72117b6-fc03-40c3-81ef-70a49db7358d"
   },
   "outputs": [
    {
     "name": "stdout",
     "output_type": "stream",
     "text": [
      "   Model1  Model2  Model3\n",
      "0  0.8493  0.7816  0.6713\n"
     ]
    }
   ],
   "source": [
    "model1_all_test_acc = pd.read_csv(output_dir_path+\"model1_all_test_acc.csv\")\n",
    "\n",
    "model2_all_test_acc = pd.read_csv(output_dir_path+\"model2_all_test_acc.csv\")\n",
    "model3_all_test_acc = pd.read_csv(output_dir_path+\"model3_all_test_acc.csv\")\n",
    "\n",
    "test_acc_df = pd.DataFrame( { \n",
    "         'Model1': model1_all_test_acc.iloc[:,1],\n",
    "         'Model2': model2_all_test_acc.iloc[:,1],\n",
    "         'Model3': model3_all_test_acc.iloc[:,1]\n",
    "\n",
    "    })\n",
    "\n",
    "print(test_acc_df)"
   ]
  },
  {
   "cell_type": "code",
   "execution_count": null,
   "metadata": {
    "id": "Gmhj6QDbij1R"
   },
   "outputs": [],
   "source": []
  },
  {
   "cell_type": "markdown",
   "metadata": {
    "id": "TXG5Ny48if9p"
   },
   "source": [
    "#### **Making Basic Comparative Boxplots**\n",
    "\n",
    "**Try**: Make this better"
   ]
  },
  {
   "cell_type": "code",
   "execution_count": null,
   "metadata": {
    "colab": {
     "base_uri": "https://localhost:8080/",
     "height": 265
    },
    "id": "4SOLeT47ikn7",
    "outputId": "bfcfe445-a9fc-4cee-eddd-df21768284b9"
   },
   "outputs": [
    {
     "data": {
      "image/png": "[encoded data removed]",
      "text/plain": [
       "<Figure size 288x288 with 1 Axes>"
      ]
     },
     "metadata": {
      "needs_background": "light"
     },
     "output_type": "display_data"
    }
   ],
   "source": [
    "import matplotlib.pyplot as plt\n",
    "fig = plt.figure(figsize= (4, 4))\n",
    "plt.boxplot(test_acc_df.T)\n",
    "#fig.savefig(output_dir_path+\"all_models_test_acc_boxplots.png\", dpi = 600)\n",
    "plt.show()"
   ]
  },
  {
   "cell_type": "markdown",
   "metadata": {
    "id": "qLPJ4QbHikf5"
   },
   "source": [
    "#### **More customized comparative boxplots**"
   ]
  },
  {
   "cell_type": "code",
   "execution_count": null,
   "metadata": {
    "id": "wtFPuD5rgaxM"
   },
   "outputs": [],
   "source": [
    "def comparative_test_acc_boxplots(model1_all_test_acc, model2_all_test_acc, model3_all_test_acc):\n",
    "  data = pd.DataFrame()\n",
    "  data['Model1'] = model1_all_test_acc\n",
    "  data['Mode2'] =  model2_all_test_acc\n",
    "  data['Mode3'] =  model3_all_test_acc\n",
    "  fig = plt.figure(figsize = (8,5))\n",
    "  p = plt.boxplot(data.T, patch_artist= True)\n",
    "  colors = ['mediumblue', 'darkred', 'darkgreen']\n",
    "  for i, box in enumerate(p['boxes']):\n",
    "    box.set(color= 'blue', linewidth = 1.2)\n",
    "    # change fill color\n",
    "    box.set(facecolor = colors[i])\n",
    "  plt.xticks([1,2, 3], ['Model1','Model2', 'Model3'])\n",
    "  plt.ylabel('Test Accuracy')\n",
    "\n",
    "  plt.rcParams[\"axes.edgecolor\"] = \"0.15\"\n",
    "  plt.rcParams[\"axes.linewidth\"]  = 2.75\n",
    "  plt.rc('xtick',labelsize=10)\n",
    "  plt.rc('ytick',labelsize=10) \n",
    "  \n",
    "  fig.savefig(output_dir_path+\"comparative_test_acc_boxplots.png\",dpi=600)\n",
    "  plt.show()"
   ]
  },
  {
   "cell_type": "code",
   "execution_count": null,
   "metadata": {
    "colab": {
     "base_uri": "https://localhost:8080/",
     "height": 320
    },
    "id": "xXy1JENTf0u4",
    "outputId": "6565209c-c72f-425b-f758-aeae32d29e66"
   },
   "outputs": [
    {
     "data": {
      "image/png": "[encoded data removed]",
      "text/plain": [
       "<Figure size 576x360 with 1 Axes>"
      ]
     },
     "metadata": {
      "needs_background": "light"
     },
     "output_type": "display_data"
    }
   ],
   "source": [
    "comparative_test_acc_boxplots(model1_all_test_acc.iloc[:, 1], model2_all_test_acc.iloc[:, 1], model3_all_test_acc.iloc[:, 1])\n"
   ]
  },
  {
   "cell_type": "markdown",
   "metadata": {
    "id": "4etxXZZOi4As"
   },
   "source": [
    "## **Graph of average test accuracy**\n",
    "\n",
    "- Look average test accuracy from files"
   ]
  },
  {
   "cell_type": "code",
   "execution_count": null,
   "metadata": {
    "colab": {
     "base_uri": "https://localhost:8080/",
     "height": 320
    },
    "id": "0pEeRxUwIzFH",
    "outputId": "ffefdcc0-bf6f-4576-87c9-6564c4c318fd"
   },
   "outputs": [
    {
     "data": {
      "image/png": "[encoded data removed]",
      "text/plain": [
       "<Figure size 576x360 with 1 Axes>"
      ]
     },
     "metadata": {
      "needs_background": "light"
     },
     "output_type": "display_data"
    }
   ],
   "source": [
    "ave_acc_df = pd.DataFrame(  {\n",
    "           'Models': [\"Model1\", \"Model2\", \"Model3\"],\n",
    "           'avg_acc': np.array([.85, 0.78, .67]) # you need to find out this\n",
    "})\n",
    "\n",
    "fig = plt.figure(figsize= (8, 5))\n",
    "plt.plot(ave_acc_df['Models'], ave_acc_df['avg_acc'], '-o', linewidth = 3.5, color = 'indigo' )\n",
    "plt.ylabel(\"Average test accuracy\")\n",
    "fig.savefig(output_dir_path+\"avg_acc_plot.png\", dpi = 600)\n",
    "plt.show()"
   ]
  },
  {
   "cell_type": "markdown",
   "metadata": {
    "id": "yCxShd7AltX0"
   },
   "source": [
    "##**Task:**\n",
    "\n",
    "Answer the following question with detail reasoning.\n",
    "\n",
    "**Which model is performing the best in average?** MODEL 1"
   ]
  },
  {
   "cell_type": "markdown",
   "metadata": {
    "id": "9Hn_hwzlIxKS"
   },
   "source": [
    "## **Step 9: Statistical Analysis(Optional For This Time)**"
   ]
  },
  {
   "cell_type": "code",
   "execution_count": null,
   "metadata": {
    "id": "oeenjV8f5P8z"
   },
   "outputs": [],
   "source": []
  },
  {
   "cell_type": "markdown",
   "metadata": {
    "id": "QQL8f_PoXK14"
   },
   "source": [
    "## **Step 10: Model Applications**"
   ]
  },
  {
   "cell_type": "markdown",
   "metadata": {
    "id": "WfBUzjJI69TN"
   },
   "source": [
    "An application to use these models include the general concept of computer vision. With detection of clothing articles, we can use this to organize stores or warehouses. Programming these into machinery that can read what a tshirt is verus a shoe can help many companies manage inventory"
   ]
  },
  {
   "cell_type": "code",
   "execution_count": null,
   "metadata": {
    "id": "wOC8YCIRXNtn"
   },
   "outputs": [],
   "source": []
  }
 ],
 "metadata": {
  "accelerator": "GPU",
  "colab": {
   "collapsed_sections": [
    "yoNFqnboMkX_"
   ],
   "provenance": []
  },
  "kernelspec": {
   "display_name": "Python 3 (ipykernel)",
   "language": "python",
   "name": "python3"
  },
  "language_info": {
   "codemirror_mode": {
    "name": "ipython",
    "version": 3
   },
   "file_extension": ".py",
   "mimetype": "text/x-python",
   "name": "python",
   "nbconvert_exporter": "python",
   "pygments_lexer": "ipython3",
   "version": "3.9.7"
  }
 },
 "nbformat": 4,
 "nbformat_minor": 1
}
